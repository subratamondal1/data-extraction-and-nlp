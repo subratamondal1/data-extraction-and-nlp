{
  "nbformat": 4,
  "nbformat_minor": 0,
  "metadata": {
    "colab": {
      "provenance": []
    },
    "kernelspec": {
      "name": "python3",
      "display_name": "Python 3"
    },
    "language_info": {
      "name": "python"
    }
  },
  "cells": [
    {
      "cell_type": "markdown",
      "source": [
        "# Data Extraction"
      ],
      "metadata": {
        "id": "HqfzDp8NCn5D"
      }
    },
    {
      "cell_type": "code",
      "execution_count": 179,
      "metadata": {
        "id": "Z0vyGqNjjIGC"
      },
      "outputs": [],
      "source": [
        "import pandas as pd\n",
        "import bs4\n",
        "from bs4 import BeautifulSoup\n",
        "import requests\n",
        "from pathlib import Path"
      ]
    },
    {
      "cell_type": "code",
      "source": [
        "print(f\"pandas: {pd.__version__}\")\n",
        "print(f\"bs4: {bs4.__version__}\")\n",
        "print(f\"requests: {requests.__version__}\")"
      ],
      "metadata": {
        "colab": {
          "base_uri": "https://localhost:8080/"
        },
        "id": "-9SVAcHYlKLk",
        "outputId": "f0f60e0f-96ce-409c-e71b-5ca96607b562"
      },
      "execution_count": 180,
      "outputs": [
        {
          "output_type": "stream",
          "name": "stdout",
          "text": [
            "pandas: 1.5.3\n",
            "bs4: 4.11.2\n",
            "requests: 2.31.0\n"
          ]
        }
      ]
    },
    {
      "cell_type": "code",
      "source": [
        "# define path\n",
        "input_file_path = Path(\"/content/Input.xlsx\")\n",
        "output_file_path = Path(\"/content/Output Data Structure.xlsx\")\n",
        "\n",
        "# define pandas dataframe\n",
        "input_df = pd.read_excel(io=input_file_path)\n",
        "output_df = pd.read_excel(io=output_file_path)"
      ],
      "metadata": {
        "id": "NgdQOi1hloyN"
      },
      "execution_count": 182,
      "outputs": []
    },
    {
      "cell_type": "code",
      "source": [
        "input_df"
      ],
      "metadata": {
        "colab": {
          "base_uri": "https://localhost:8080/",
          "height": 424
        },
        "id": "HdIKQoqjltsC",
        "outputId": "3064aff8-21fb-48dc-e893-3e88d8aa5a1c"
      },
      "execution_count": 183,
      "outputs": [
        {
          "output_type": "execute_result",
          "data": {
            "text/plain": [
              "      URL_ID                                                URL\n",
              "0      123.0  https://insights.blackcoffer.com/rise-of-telem...\n",
              "1      321.0  https://insights.blackcoffer.com/rise-of-e-hea...\n",
              "2     2345.0  https://insights.blackcoffer.com/rise-of-e-hea...\n",
              "3     4321.0  https://insights.blackcoffer.com/rise-of-telem...\n",
              "4      432.0  https://insights.blackcoffer.com/rise-of-telem...\n",
              "..       ...                                                ...\n",
              "109  50921.0  https://insights.blackcoffer.com/coronavirus-i...\n",
              "110  51382.8  https://insights.blackcoffer.com/coronavirus-i...\n",
              "111  51844.6  https://insights.blackcoffer.com/what-are-the-...\n",
              "112  52306.4  https://insights.blackcoffer.com/marketing-dri...\n",
              "113  52768.2  https://insights.blackcoffer.com/continued-dem...\n",
              "\n",
              "[114 rows x 2 columns]"
            ],
            "text/html": [
              "\n",
              "  <div id=\"df-6b0a64f4-63a5-4a99-ac59-7b59aceb2b05\" class=\"colab-df-container\">\n",
              "    <div>\n",
              "<style scoped>\n",
              "    .dataframe tbody tr th:only-of-type {\n",
              "        vertical-align: middle;\n",
              "    }\n",
              "\n",
              "    .dataframe tbody tr th {\n",
              "        vertical-align: top;\n",
              "    }\n",
              "\n",
              "    .dataframe thead th {\n",
              "        text-align: right;\n",
              "    }\n",
              "</style>\n",
              "<table border=\"1\" class=\"dataframe\">\n",
              "  <thead>\n",
              "    <tr style=\"text-align: right;\">\n",
              "      <th></th>\n",
              "      <th>URL_ID</th>\n",
              "      <th>URL</th>\n",
              "    </tr>\n",
              "  </thead>\n",
              "  <tbody>\n",
              "    <tr>\n",
              "      <th>0</th>\n",
              "      <td>123.0</td>\n",
              "      <td>https://insights.blackcoffer.com/rise-of-telem...</td>\n",
              "    </tr>\n",
              "    <tr>\n",
              "      <th>1</th>\n",
              "      <td>321.0</td>\n",
              "      <td>https://insights.blackcoffer.com/rise-of-e-hea...</td>\n",
              "    </tr>\n",
              "    <tr>\n",
              "      <th>2</th>\n",
              "      <td>2345.0</td>\n",
              "      <td>https://insights.blackcoffer.com/rise-of-e-hea...</td>\n",
              "    </tr>\n",
              "    <tr>\n",
              "      <th>3</th>\n",
              "      <td>4321.0</td>\n",
              "      <td>https://insights.blackcoffer.com/rise-of-telem...</td>\n",
              "    </tr>\n",
              "    <tr>\n",
              "      <th>4</th>\n",
              "      <td>432.0</td>\n",
              "      <td>https://insights.blackcoffer.com/rise-of-telem...</td>\n",
              "    </tr>\n",
              "    <tr>\n",
              "      <th>...</th>\n",
              "      <td>...</td>\n",
              "      <td>...</td>\n",
              "    </tr>\n",
              "    <tr>\n",
              "      <th>109</th>\n",
              "      <td>50921.0</td>\n",
              "      <td>https://insights.blackcoffer.com/coronavirus-i...</td>\n",
              "    </tr>\n",
              "    <tr>\n",
              "      <th>110</th>\n",
              "      <td>51382.8</td>\n",
              "      <td>https://insights.blackcoffer.com/coronavirus-i...</td>\n",
              "    </tr>\n",
              "    <tr>\n",
              "      <th>111</th>\n",
              "      <td>51844.6</td>\n",
              "      <td>https://insights.blackcoffer.com/what-are-the-...</td>\n",
              "    </tr>\n",
              "    <tr>\n",
              "      <th>112</th>\n",
              "      <td>52306.4</td>\n",
              "      <td>https://insights.blackcoffer.com/marketing-dri...</td>\n",
              "    </tr>\n",
              "    <tr>\n",
              "      <th>113</th>\n",
              "      <td>52768.2</td>\n",
              "      <td>https://insights.blackcoffer.com/continued-dem...</td>\n",
              "    </tr>\n",
              "  </tbody>\n",
              "</table>\n",
              "<p>114 rows × 2 columns</p>\n",
              "</div>\n",
              "    <div class=\"colab-df-buttons\">\n",
              "\n",
              "  <div class=\"colab-df-container\">\n",
              "    <button class=\"colab-df-convert\" onclick=\"convertToInteractive('df-6b0a64f4-63a5-4a99-ac59-7b59aceb2b05')\"\n",
              "            title=\"Convert this dataframe to an interactive table.\"\n",
              "            style=\"display:none;\">\n",
              "\n",
              "  <svg xmlns=\"http://www.w3.org/2000/svg\" height=\"24px\" viewBox=\"0 -960 960 960\">\n",
              "    <path d=\"M120-120v-720h720v720H120Zm60-500h600v-160H180v160Zm220 220h160v-160H400v160Zm0 220h160v-160H400v160ZM180-400h160v-160H180v160Zm440 0h160v-160H620v160ZM180-180h160v-160H180v160Zm440 0h160v-160H620v160Z\"/>\n",
              "  </svg>\n",
              "    </button>\n",
              "\n",
              "  <style>\n",
              "    .colab-df-container {\n",
              "      display:flex;\n",
              "      gap: 12px;\n",
              "    }\n",
              "\n",
              "    .colab-df-convert {\n",
              "      background-color: #E8F0FE;\n",
              "      border: none;\n",
              "      border-radius: 50%;\n",
              "      cursor: pointer;\n",
              "      display: none;\n",
              "      fill: #1967D2;\n",
              "      height: 32px;\n",
              "      padding: 0 0 0 0;\n",
              "      width: 32px;\n",
              "    }\n",
              "\n",
              "    .colab-df-convert:hover {\n",
              "      background-color: #E2EBFA;\n",
              "      box-shadow: 0px 1px 2px rgba(60, 64, 67, 0.3), 0px 1px 3px 1px rgba(60, 64, 67, 0.15);\n",
              "      fill: #174EA6;\n",
              "    }\n",
              "\n",
              "    .colab-df-buttons div {\n",
              "      margin-bottom: 4px;\n",
              "    }\n",
              "\n",
              "    [theme=dark] .colab-df-convert {\n",
              "      background-color: #3B4455;\n",
              "      fill: #D2E3FC;\n",
              "    }\n",
              "\n",
              "    [theme=dark] .colab-df-convert:hover {\n",
              "      background-color: #434B5C;\n",
              "      box-shadow: 0px 1px 3px 1px rgba(0, 0, 0, 0.15);\n",
              "      filter: drop-shadow(0px 1px 2px rgba(0, 0, 0, 0.3));\n",
              "      fill: #FFFFFF;\n",
              "    }\n",
              "  </style>\n",
              "\n",
              "    <script>\n",
              "      const buttonEl =\n",
              "        document.querySelector('#df-6b0a64f4-63a5-4a99-ac59-7b59aceb2b05 button.colab-df-convert');\n",
              "      buttonEl.style.display =\n",
              "        google.colab.kernel.accessAllowed ? 'block' : 'none';\n",
              "\n",
              "      async function convertToInteractive(key) {\n",
              "        const element = document.querySelector('#df-6b0a64f4-63a5-4a99-ac59-7b59aceb2b05');\n",
              "        const dataTable =\n",
              "          await google.colab.kernel.invokeFunction('convertToInteractive',\n",
              "                                                    [key], {});\n",
              "        if (!dataTable) return;\n",
              "\n",
              "        const docLinkHtml = 'Like what you see? Visit the ' +\n",
              "          '<a target=\"_blank\" href=https://colab.research.google.com/notebooks/data_table.ipynb>data table notebook</a>'\n",
              "          + ' to learn more about interactive tables.';\n",
              "        element.innerHTML = '';\n",
              "        dataTable['output_type'] = 'display_data';\n",
              "        await google.colab.output.renderOutput(dataTable, element);\n",
              "        const docLink = document.createElement('div');\n",
              "        docLink.innerHTML = docLinkHtml;\n",
              "        element.appendChild(docLink);\n",
              "      }\n",
              "    </script>\n",
              "  </div>\n",
              "\n",
              "\n",
              "<div id=\"df-b7279e12-db67-40bf-88b6-a4a3b4468956\">\n",
              "  <button class=\"colab-df-quickchart\" onclick=\"quickchart('df-b7279e12-db67-40bf-88b6-a4a3b4468956')\"\n",
              "            title=\"Suggest charts.\"\n",
              "            style=\"display:none;\">\n",
              "\n",
              "<svg xmlns=\"http://www.w3.org/2000/svg\" height=\"24px\"viewBox=\"0 0 24 24\"\n",
              "     width=\"24px\">\n",
              "    <g>\n",
              "        <path d=\"M19 3H5c-1.1 0-2 .9-2 2v14c0 1.1.9 2 2 2h14c1.1 0 2-.9 2-2V5c0-1.1-.9-2-2-2zM9 17H7v-7h2v7zm4 0h-2V7h2v10zm4 0h-2v-4h2v4z\"/>\n",
              "    </g>\n",
              "</svg>\n",
              "  </button>\n",
              "\n",
              "<style>\n",
              "  .colab-df-quickchart {\n",
              "      --bg-color: #E8F0FE;\n",
              "      --fill-color: #1967D2;\n",
              "      --hover-bg-color: #E2EBFA;\n",
              "      --hover-fill-color: #174EA6;\n",
              "      --disabled-fill-color: #AAA;\n",
              "      --disabled-bg-color: #DDD;\n",
              "  }\n",
              "\n",
              "  [theme=dark] .colab-df-quickchart {\n",
              "      --bg-color: #3B4455;\n",
              "      --fill-color: #D2E3FC;\n",
              "      --hover-bg-color: #434B5C;\n",
              "      --hover-fill-color: #FFFFFF;\n",
              "      --disabled-bg-color: #3B4455;\n",
              "      --disabled-fill-color: #666;\n",
              "  }\n",
              "\n",
              "  .colab-df-quickchart {\n",
              "    background-color: var(--bg-color);\n",
              "    border: none;\n",
              "    border-radius: 50%;\n",
              "    cursor: pointer;\n",
              "    display: none;\n",
              "    fill: var(--fill-color);\n",
              "    height: 32px;\n",
              "    padding: 0;\n",
              "    width: 32px;\n",
              "  }\n",
              "\n",
              "  .colab-df-quickchart:hover {\n",
              "    background-color: var(--hover-bg-color);\n",
              "    box-shadow: 0 1px 2px rgba(60, 64, 67, 0.3), 0 1px 3px 1px rgba(60, 64, 67, 0.15);\n",
              "    fill: var(--button-hover-fill-color);\n",
              "  }\n",
              "\n",
              "  .colab-df-quickchart-complete:disabled,\n",
              "  .colab-df-quickchart-complete:disabled:hover {\n",
              "    background-color: var(--disabled-bg-color);\n",
              "    fill: var(--disabled-fill-color);\n",
              "    box-shadow: none;\n",
              "  }\n",
              "\n",
              "  .colab-df-spinner {\n",
              "    border: 2px solid var(--fill-color);\n",
              "    border-color: transparent;\n",
              "    border-bottom-color: var(--fill-color);\n",
              "    animation:\n",
              "      spin 1s steps(1) infinite;\n",
              "  }\n",
              "\n",
              "  @keyframes spin {\n",
              "    0% {\n",
              "      border-color: transparent;\n",
              "      border-bottom-color: var(--fill-color);\n",
              "      border-left-color: var(--fill-color);\n",
              "    }\n",
              "    20% {\n",
              "      border-color: transparent;\n",
              "      border-left-color: var(--fill-color);\n",
              "      border-top-color: var(--fill-color);\n",
              "    }\n",
              "    30% {\n",
              "      border-color: transparent;\n",
              "      border-left-color: var(--fill-color);\n",
              "      border-top-color: var(--fill-color);\n",
              "      border-right-color: var(--fill-color);\n",
              "    }\n",
              "    40% {\n",
              "      border-color: transparent;\n",
              "      border-right-color: var(--fill-color);\n",
              "      border-top-color: var(--fill-color);\n",
              "    }\n",
              "    60% {\n",
              "      border-color: transparent;\n",
              "      border-right-color: var(--fill-color);\n",
              "    }\n",
              "    80% {\n",
              "      border-color: transparent;\n",
              "      border-right-color: var(--fill-color);\n",
              "      border-bottom-color: var(--fill-color);\n",
              "    }\n",
              "    90% {\n",
              "      border-color: transparent;\n",
              "      border-bottom-color: var(--fill-color);\n",
              "    }\n",
              "  }\n",
              "</style>\n",
              "\n",
              "  <script>\n",
              "    async function quickchart(key) {\n",
              "      const quickchartButtonEl =\n",
              "        document.querySelector('#' + key + ' button');\n",
              "      quickchartButtonEl.disabled = true;  // To prevent multiple clicks.\n",
              "      quickchartButtonEl.classList.add('colab-df-spinner');\n",
              "      try {\n",
              "        const charts = await google.colab.kernel.invokeFunction(\n",
              "            'suggestCharts', [key], {});\n",
              "      } catch (error) {\n",
              "        console.error('Error during call to suggestCharts:', error);\n",
              "      }\n",
              "      quickchartButtonEl.classList.remove('colab-df-spinner');\n",
              "      quickchartButtonEl.classList.add('colab-df-quickchart-complete');\n",
              "    }\n",
              "    (() => {\n",
              "      let quickchartButtonEl =\n",
              "        document.querySelector('#df-b7279e12-db67-40bf-88b6-a4a3b4468956 button');\n",
              "      quickchartButtonEl.style.display =\n",
              "        google.colab.kernel.accessAllowed ? 'block' : 'none';\n",
              "    })();\n",
              "  </script>\n",
              "</div>\n",
              "    </div>\n",
              "  </div>\n"
            ]
          },
          "metadata": {},
          "execution_count": 183
        }
      ]
    },
    {
      "cell_type": "code",
      "source": [
        "output_df"
      ],
      "metadata": {
        "colab": {
          "base_uri": "https://localhost:8080/",
          "height": 687
        },
        "id": "r9JThqOrmJL6",
        "outputId": "f318c5f8-9420-46fb-f305-222170cfb767"
      },
      "execution_count": 184,
      "outputs": [
        {
          "output_type": "execute_result",
          "data": {
            "text/plain": [
              "      URL_ID                                                URL  \\\n",
              "0      123.0  https://insights.blackcoffer.com/rise-of-telem...   \n",
              "1      321.0  https://insights.blackcoffer.com/rise-of-e-hea...   \n",
              "2     2345.0  https://insights.blackcoffer.com/rise-of-e-hea...   \n",
              "3     4321.0  https://insights.blackcoffer.com/rise-of-telem...   \n",
              "4      432.0  https://insights.blackcoffer.com/rise-of-telem...   \n",
              "..       ...                                                ...   \n",
              "109  50921.0  https://insights.blackcoffer.com/coronavirus-i...   \n",
              "110  51382.8  https://insights.blackcoffer.com/coronavirus-i...   \n",
              "111  51844.6  https://insights.blackcoffer.com/what-are-the-...   \n",
              "112  52306.4  https://insights.blackcoffer.com/marketing-dri...   \n",
              "113  52768.2  https://insights.blackcoffer.com/continued-dem...   \n",
              "\n",
              "     POSITIVE SCORE  NEGATIVE SCORE  POLARITY SCORE  SUBJECTIVITY SCORE  \\\n",
              "0               NaN             NaN             NaN                 NaN   \n",
              "1               NaN             NaN             NaN                 NaN   \n",
              "2               NaN             NaN             NaN                 NaN   \n",
              "3               NaN             NaN             NaN                 NaN   \n",
              "4               NaN             NaN             NaN                 NaN   \n",
              "..              ...             ...             ...                 ...   \n",
              "109             NaN             NaN             NaN                 NaN   \n",
              "110             NaN             NaN             NaN                 NaN   \n",
              "111             NaN             NaN             NaN                 NaN   \n",
              "112             NaN             NaN             NaN                 NaN   \n",
              "113             NaN             NaN             NaN                 NaN   \n",
              "\n",
              "     AVG SENTENCE LENGTH  PERCENTAGE OF COMPLEX WORDS  FOG INDEX  \\\n",
              "0                    NaN                          NaN        NaN   \n",
              "1                    NaN                          NaN        NaN   \n",
              "2                    NaN                          NaN        NaN   \n",
              "3                    NaN                          NaN        NaN   \n",
              "4                    NaN                          NaN        NaN   \n",
              "..                   ...                          ...        ...   \n",
              "109                  NaN                          NaN        NaN   \n",
              "110                  NaN                          NaN        NaN   \n",
              "111                  NaN                          NaN        NaN   \n",
              "112                  NaN                          NaN        NaN   \n",
              "113                  NaN                          NaN        NaN   \n",
              "\n",
              "     AVG NUMBER OF WORDS PER SENTENCE  COMPLEX WORD COUNT  WORD COUNT  \\\n",
              "0                                 NaN                 NaN         NaN   \n",
              "1                                 NaN                 NaN         NaN   \n",
              "2                                 NaN                 NaN         NaN   \n",
              "3                                 NaN                 NaN         NaN   \n",
              "4                                 NaN                 NaN         NaN   \n",
              "..                                ...                 ...         ...   \n",
              "109                               NaN                 NaN         NaN   \n",
              "110                               NaN                 NaN         NaN   \n",
              "111                               NaN                 NaN         NaN   \n",
              "112                               NaN                 NaN         NaN   \n",
              "113                               NaN                 NaN         NaN   \n",
              "\n",
              "     SYLLABLE PER WORD  PERSONAL PRONOUNS  AVG WORD LENGTH  \n",
              "0                  NaN                NaN              NaN  \n",
              "1                  NaN                NaN              NaN  \n",
              "2                  NaN                NaN              NaN  \n",
              "3                  NaN                NaN              NaN  \n",
              "4                  NaN                NaN              NaN  \n",
              "..                 ...                ...              ...  \n",
              "109                NaN                NaN              NaN  \n",
              "110                NaN                NaN              NaN  \n",
              "111                NaN                NaN              NaN  \n",
              "112                NaN                NaN              NaN  \n",
              "113                NaN                NaN              NaN  \n",
              "\n",
              "[114 rows x 15 columns]"
            ],
            "text/html": [
              "\n",
              "  <div id=\"df-6b6a5a89-f944-45f2-82c8-ce901caca6b4\" class=\"colab-df-container\">\n",
              "    <div>\n",
              "<style scoped>\n",
              "    .dataframe tbody tr th:only-of-type {\n",
              "        vertical-align: middle;\n",
              "    }\n",
              "\n",
              "    .dataframe tbody tr th {\n",
              "        vertical-align: top;\n",
              "    }\n",
              "\n",
              "    .dataframe thead th {\n",
              "        text-align: right;\n",
              "    }\n",
              "</style>\n",
              "<table border=\"1\" class=\"dataframe\">\n",
              "  <thead>\n",
              "    <tr style=\"text-align: right;\">\n",
              "      <th></th>\n",
              "      <th>URL_ID</th>\n",
              "      <th>URL</th>\n",
              "      <th>POSITIVE SCORE</th>\n",
              "      <th>NEGATIVE SCORE</th>\n",
              "      <th>POLARITY SCORE</th>\n",
              "      <th>SUBJECTIVITY SCORE</th>\n",
              "      <th>AVG SENTENCE LENGTH</th>\n",
              "      <th>PERCENTAGE OF COMPLEX WORDS</th>\n",
              "      <th>FOG INDEX</th>\n",
              "      <th>AVG NUMBER OF WORDS PER SENTENCE</th>\n",
              "      <th>COMPLEX WORD COUNT</th>\n",
              "      <th>WORD COUNT</th>\n",
              "      <th>SYLLABLE PER WORD</th>\n",
              "      <th>PERSONAL PRONOUNS</th>\n",
              "      <th>AVG WORD LENGTH</th>\n",
              "    </tr>\n",
              "  </thead>\n",
              "  <tbody>\n",
              "    <tr>\n",
              "      <th>0</th>\n",
              "      <td>123.0</td>\n",
              "      <td>https://insights.blackcoffer.com/rise-of-telem...</td>\n",
              "      <td>NaN</td>\n",
              "      <td>NaN</td>\n",
              "      <td>NaN</td>\n",
              "      <td>NaN</td>\n",
              "      <td>NaN</td>\n",
              "      <td>NaN</td>\n",
              "      <td>NaN</td>\n",
              "      <td>NaN</td>\n",
              "      <td>NaN</td>\n",
              "      <td>NaN</td>\n",
              "      <td>NaN</td>\n",
              "      <td>NaN</td>\n",
              "      <td>NaN</td>\n",
              "    </tr>\n",
              "    <tr>\n",
              "      <th>1</th>\n",
              "      <td>321.0</td>\n",
              "      <td>https://insights.blackcoffer.com/rise-of-e-hea...</td>\n",
              "      <td>NaN</td>\n",
              "      <td>NaN</td>\n",
              "      <td>NaN</td>\n",
              "      <td>NaN</td>\n",
              "      <td>NaN</td>\n",
              "      <td>NaN</td>\n",
              "      <td>NaN</td>\n",
              "      <td>NaN</td>\n",
              "      <td>NaN</td>\n",
              "      <td>NaN</td>\n",
              "      <td>NaN</td>\n",
              "      <td>NaN</td>\n",
              "      <td>NaN</td>\n",
              "    </tr>\n",
              "    <tr>\n",
              "      <th>2</th>\n",
              "      <td>2345.0</td>\n",
              "      <td>https://insights.blackcoffer.com/rise-of-e-hea...</td>\n",
              "      <td>NaN</td>\n",
              "      <td>NaN</td>\n",
              "      <td>NaN</td>\n",
              "      <td>NaN</td>\n",
              "      <td>NaN</td>\n",
              "      <td>NaN</td>\n",
              "      <td>NaN</td>\n",
              "      <td>NaN</td>\n",
              "      <td>NaN</td>\n",
              "      <td>NaN</td>\n",
              "      <td>NaN</td>\n",
              "      <td>NaN</td>\n",
              "      <td>NaN</td>\n",
              "    </tr>\n",
              "    <tr>\n",
              "      <th>3</th>\n",
              "      <td>4321.0</td>\n",
              "      <td>https://insights.blackcoffer.com/rise-of-telem...</td>\n",
              "      <td>NaN</td>\n",
              "      <td>NaN</td>\n",
              "      <td>NaN</td>\n",
              "      <td>NaN</td>\n",
              "      <td>NaN</td>\n",
              "      <td>NaN</td>\n",
              "      <td>NaN</td>\n",
              "      <td>NaN</td>\n",
              "      <td>NaN</td>\n",
              "      <td>NaN</td>\n",
              "      <td>NaN</td>\n",
              "      <td>NaN</td>\n",
              "      <td>NaN</td>\n",
              "    </tr>\n",
              "    <tr>\n",
              "      <th>4</th>\n",
              "      <td>432.0</td>\n",
              "      <td>https://insights.blackcoffer.com/rise-of-telem...</td>\n",
              "      <td>NaN</td>\n",
              "      <td>NaN</td>\n",
              "      <td>NaN</td>\n",
              "      <td>NaN</td>\n",
              "      <td>NaN</td>\n",
              "      <td>NaN</td>\n",
              "      <td>NaN</td>\n",
              "      <td>NaN</td>\n",
              "      <td>NaN</td>\n",
              "      <td>NaN</td>\n",
              "      <td>NaN</td>\n",
              "      <td>NaN</td>\n",
              "      <td>NaN</td>\n",
              "    </tr>\n",
              "    <tr>\n",
              "      <th>...</th>\n",
              "      <td>...</td>\n",
              "      <td>...</td>\n",
              "      <td>...</td>\n",
              "      <td>...</td>\n",
              "      <td>...</td>\n",
              "      <td>...</td>\n",
              "      <td>...</td>\n",
              "      <td>...</td>\n",
              "      <td>...</td>\n",
              "      <td>...</td>\n",
              "      <td>...</td>\n",
              "      <td>...</td>\n",
              "      <td>...</td>\n",
              "      <td>...</td>\n",
              "      <td>...</td>\n",
              "    </tr>\n",
              "    <tr>\n",
              "      <th>109</th>\n",
              "      <td>50921.0</td>\n",
              "      <td>https://insights.blackcoffer.com/coronavirus-i...</td>\n",
              "      <td>NaN</td>\n",
              "      <td>NaN</td>\n",
              "      <td>NaN</td>\n",
              "      <td>NaN</td>\n",
              "      <td>NaN</td>\n",
              "      <td>NaN</td>\n",
              "      <td>NaN</td>\n",
              "      <td>NaN</td>\n",
              "      <td>NaN</td>\n",
              "      <td>NaN</td>\n",
              "      <td>NaN</td>\n",
              "      <td>NaN</td>\n",
              "      <td>NaN</td>\n",
              "    </tr>\n",
              "    <tr>\n",
              "      <th>110</th>\n",
              "      <td>51382.8</td>\n",
              "      <td>https://insights.blackcoffer.com/coronavirus-i...</td>\n",
              "      <td>NaN</td>\n",
              "      <td>NaN</td>\n",
              "      <td>NaN</td>\n",
              "      <td>NaN</td>\n",
              "      <td>NaN</td>\n",
              "      <td>NaN</td>\n",
              "      <td>NaN</td>\n",
              "      <td>NaN</td>\n",
              "      <td>NaN</td>\n",
              "      <td>NaN</td>\n",
              "      <td>NaN</td>\n",
              "      <td>NaN</td>\n",
              "      <td>NaN</td>\n",
              "    </tr>\n",
              "    <tr>\n",
              "      <th>111</th>\n",
              "      <td>51844.6</td>\n",
              "      <td>https://insights.blackcoffer.com/what-are-the-...</td>\n",
              "      <td>NaN</td>\n",
              "      <td>NaN</td>\n",
              "      <td>NaN</td>\n",
              "      <td>NaN</td>\n",
              "      <td>NaN</td>\n",
              "      <td>NaN</td>\n",
              "      <td>NaN</td>\n",
              "      <td>NaN</td>\n",
              "      <td>NaN</td>\n",
              "      <td>NaN</td>\n",
              "      <td>NaN</td>\n",
              "      <td>NaN</td>\n",
              "      <td>NaN</td>\n",
              "    </tr>\n",
              "    <tr>\n",
              "      <th>112</th>\n",
              "      <td>52306.4</td>\n",
              "      <td>https://insights.blackcoffer.com/marketing-dri...</td>\n",
              "      <td>NaN</td>\n",
              "      <td>NaN</td>\n",
              "      <td>NaN</td>\n",
              "      <td>NaN</td>\n",
              "      <td>NaN</td>\n",
              "      <td>NaN</td>\n",
              "      <td>NaN</td>\n",
              "      <td>NaN</td>\n",
              "      <td>NaN</td>\n",
              "      <td>NaN</td>\n",
              "      <td>NaN</td>\n",
              "      <td>NaN</td>\n",
              "      <td>NaN</td>\n",
              "    </tr>\n",
              "    <tr>\n",
              "      <th>113</th>\n",
              "      <td>52768.2</td>\n",
              "      <td>https://insights.blackcoffer.com/continued-dem...</td>\n",
              "      <td>NaN</td>\n",
              "      <td>NaN</td>\n",
              "      <td>NaN</td>\n",
              "      <td>NaN</td>\n",
              "      <td>NaN</td>\n",
              "      <td>NaN</td>\n",
              "      <td>NaN</td>\n",
              "      <td>NaN</td>\n",
              "      <td>NaN</td>\n",
              "      <td>NaN</td>\n",
              "      <td>NaN</td>\n",
              "      <td>NaN</td>\n",
              "      <td>NaN</td>\n",
              "    </tr>\n",
              "  </tbody>\n",
              "</table>\n",
              "<p>114 rows × 15 columns</p>\n",
              "</div>\n",
              "    <div class=\"colab-df-buttons\">\n",
              "\n",
              "  <div class=\"colab-df-container\">\n",
              "    <button class=\"colab-df-convert\" onclick=\"convertToInteractive('df-6b6a5a89-f944-45f2-82c8-ce901caca6b4')\"\n",
              "            title=\"Convert this dataframe to an interactive table.\"\n",
              "            style=\"display:none;\">\n",
              "\n",
              "  <svg xmlns=\"http://www.w3.org/2000/svg\" height=\"24px\" viewBox=\"0 -960 960 960\">\n",
              "    <path d=\"M120-120v-720h720v720H120Zm60-500h600v-160H180v160Zm220 220h160v-160H400v160Zm0 220h160v-160H400v160ZM180-400h160v-160H180v160Zm440 0h160v-160H620v160ZM180-180h160v-160H180v160Zm440 0h160v-160H620v160Z\"/>\n",
              "  </svg>\n",
              "    </button>\n",
              "\n",
              "  <style>\n",
              "    .colab-df-container {\n",
              "      display:flex;\n",
              "      gap: 12px;\n",
              "    }\n",
              "\n",
              "    .colab-df-convert {\n",
              "      background-color: #E8F0FE;\n",
              "      border: none;\n",
              "      border-radius: 50%;\n",
              "      cursor: pointer;\n",
              "      display: none;\n",
              "      fill: #1967D2;\n",
              "      height: 32px;\n",
              "      padding: 0 0 0 0;\n",
              "      width: 32px;\n",
              "    }\n",
              "\n",
              "    .colab-df-convert:hover {\n",
              "      background-color: #E2EBFA;\n",
              "      box-shadow: 0px 1px 2px rgba(60, 64, 67, 0.3), 0px 1px 3px 1px rgba(60, 64, 67, 0.15);\n",
              "      fill: #174EA6;\n",
              "    }\n",
              "\n",
              "    .colab-df-buttons div {\n",
              "      margin-bottom: 4px;\n",
              "    }\n",
              "\n",
              "    [theme=dark] .colab-df-convert {\n",
              "      background-color: #3B4455;\n",
              "      fill: #D2E3FC;\n",
              "    }\n",
              "\n",
              "    [theme=dark] .colab-df-convert:hover {\n",
              "      background-color: #434B5C;\n",
              "      box-shadow: 0px 1px 3px 1px rgba(0, 0, 0, 0.15);\n",
              "      filter: drop-shadow(0px 1px 2px rgba(0, 0, 0, 0.3));\n",
              "      fill: #FFFFFF;\n",
              "    }\n",
              "  </style>\n",
              "\n",
              "    <script>\n",
              "      const buttonEl =\n",
              "        document.querySelector('#df-6b6a5a89-f944-45f2-82c8-ce901caca6b4 button.colab-df-convert');\n",
              "      buttonEl.style.display =\n",
              "        google.colab.kernel.accessAllowed ? 'block' : 'none';\n",
              "\n",
              "      async function convertToInteractive(key) {\n",
              "        const element = document.querySelector('#df-6b6a5a89-f944-45f2-82c8-ce901caca6b4');\n",
              "        const dataTable =\n",
              "          await google.colab.kernel.invokeFunction('convertToInteractive',\n",
              "                                                    [key], {});\n",
              "        if (!dataTable) return;\n",
              "\n",
              "        const docLinkHtml = 'Like what you see? Visit the ' +\n",
              "          '<a target=\"_blank\" href=https://colab.research.google.com/notebooks/data_table.ipynb>data table notebook</a>'\n",
              "          + ' to learn more about interactive tables.';\n",
              "        element.innerHTML = '';\n",
              "        dataTable['output_type'] = 'display_data';\n",
              "        await google.colab.output.renderOutput(dataTable, element);\n",
              "        const docLink = document.createElement('div');\n",
              "        docLink.innerHTML = docLinkHtml;\n",
              "        element.appendChild(docLink);\n",
              "      }\n",
              "    </script>\n",
              "  </div>\n",
              "\n",
              "\n",
              "<div id=\"df-5abeca9a-07d1-4f13-9100-213de72f207f\">\n",
              "  <button class=\"colab-df-quickchart\" onclick=\"quickchart('df-5abeca9a-07d1-4f13-9100-213de72f207f')\"\n",
              "            title=\"Suggest charts.\"\n",
              "            style=\"display:none;\">\n",
              "\n",
              "<svg xmlns=\"http://www.w3.org/2000/svg\" height=\"24px\"viewBox=\"0 0 24 24\"\n",
              "     width=\"24px\">\n",
              "    <g>\n",
              "        <path d=\"M19 3H5c-1.1 0-2 .9-2 2v14c0 1.1.9 2 2 2h14c1.1 0 2-.9 2-2V5c0-1.1-.9-2-2-2zM9 17H7v-7h2v7zm4 0h-2V7h2v10zm4 0h-2v-4h2v4z\"/>\n",
              "    </g>\n",
              "</svg>\n",
              "  </button>\n",
              "\n",
              "<style>\n",
              "  .colab-df-quickchart {\n",
              "      --bg-color: #E8F0FE;\n",
              "      --fill-color: #1967D2;\n",
              "      --hover-bg-color: #E2EBFA;\n",
              "      --hover-fill-color: #174EA6;\n",
              "      --disabled-fill-color: #AAA;\n",
              "      --disabled-bg-color: #DDD;\n",
              "  }\n",
              "\n",
              "  [theme=dark] .colab-df-quickchart {\n",
              "      --bg-color: #3B4455;\n",
              "      --fill-color: #D2E3FC;\n",
              "      --hover-bg-color: #434B5C;\n",
              "      --hover-fill-color: #FFFFFF;\n",
              "      --disabled-bg-color: #3B4455;\n",
              "      --disabled-fill-color: #666;\n",
              "  }\n",
              "\n",
              "  .colab-df-quickchart {\n",
              "    background-color: var(--bg-color);\n",
              "    border: none;\n",
              "    border-radius: 50%;\n",
              "    cursor: pointer;\n",
              "    display: none;\n",
              "    fill: var(--fill-color);\n",
              "    height: 32px;\n",
              "    padding: 0;\n",
              "    width: 32px;\n",
              "  }\n",
              "\n",
              "  .colab-df-quickchart:hover {\n",
              "    background-color: var(--hover-bg-color);\n",
              "    box-shadow: 0 1px 2px rgba(60, 64, 67, 0.3), 0 1px 3px 1px rgba(60, 64, 67, 0.15);\n",
              "    fill: var(--button-hover-fill-color);\n",
              "  }\n",
              "\n",
              "  .colab-df-quickchart-complete:disabled,\n",
              "  .colab-df-quickchart-complete:disabled:hover {\n",
              "    background-color: var(--disabled-bg-color);\n",
              "    fill: var(--disabled-fill-color);\n",
              "    box-shadow: none;\n",
              "  }\n",
              "\n",
              "  .colab-df-spinner {\n",
              "    border: 2px solid var(--fill-color);\n",
              "    border-color: transparent;\n",
              "    border-bottom-color: var(--fill-color);\n",
              "    animation:\n",
              "      spin 1s steps(1) infinite;\n",
              "  }\n",
              "\n",
              "  @keyframes spin {\n",
              "    0% {\n",
              "      border-color: transparent;\n",
              "      border-bottom-color: var(--fill-color);\n",
              "      border-left-color: var(--fill-color);\n",
              "    }\n",
              "    20% {\n",
              "      border-color: transparent;\n",
              "      border-left-color: var(--fill-color);\n",
              "      border-top-color: var(--fill-color);\n",
              "    }\n",
              "    30% {\n",
              "      border-color: transparent;\n",
              "      border-left-color: var(--fill-color);\n",
              "      border-top-color: var(--fill-color);\n",
              "      border-right-color: var(--fill-color);\n",
              "    }\n",
              "    40% {\n",
              "      border-color: transparent;\n",
              "      border-right-color: var(--fill-color);\n",
              "      border-top-color: var(--fill-color);\n",
              "    }\n",
              "    60% {\n",
              "      border-color: transparent;\n",
              "      border-right-color: var(--fill-color);\n",
              "    }\n",
              "    80% {\n",
              "      border-color: transparent;\n",
              "      border-right-color: var(--fill-color);\n",
              "      border-bottom-color: var(--fill-color);\n",
              "    }\n",
              "    90% {\n",
              "      border-color: transparent;\n",
              "      border-bottom-color: var(--fill-color);\n",
              "    }\n",
              "  }\n",
              "</style>\n",
              "\n",
              "  <script>\n",
              "    async function quickchart(key) {\n",
              "      const quickchartButtonEl =\n",
              "        document.querySelector('#' + key + ' button');\n",
              "      quickchartButtonEl.disabled = true;  // To prevent multiple clicks.\n",
              "      quickchartButtonEl.classList.add('colab-df-spinner');\n",
              "      try {\n",
              "        const charts = await google.colab.kernel.invokeFunction(\n",
              "            'suggestCharts', [key], {});\n",
              "      } catch (error) {\n",
              "        console.error('Error during call to suggestCharts:', error);\n",
              "      }\n",
              "      quickchartButtonEl.classList.remove('colab-df-spinner');\n",
              "      quickchartButtonEl.classList.add('colab-df-quickchart-complete');\n",
              "    }\n",
              "    (() => {\n",
              "      let quickchartButtonEl =\n",
              "        document.querySelector('#df-5abeca9a-07d1-4f13-9100-213de72f207f button');\n",
              "      quickchartButtonEl.style.display =\n",
              "        google.colab.kernel.accessAllowed ? 'block' : 'none';\n",
              "    })();\n",
              "  </script>\n",
              "</div>\n",
              "    </div>\n",
              "  </div>\n"
            ]
          },
          "metadata": {},
          "execution_count": 184
        }
      ]
    },
    {
      "cell_type": "code",
      "source": [
        "# Create a directory to save the extracted articles\n",
        "output_dir = Path(\"extracted_articles\")\n",
        "output_dir.mkdir(parents=True, exist_ok=True)"
      ],
      "metadata": {
        "id": "Xpj6IyLGmaVY"
      },
      "execution_count": 185,
      "outputs": []
    },
    {
      "cell_type": "code",
      "source": [
        "for index, row in output_df.iterrows():\n",
        "  url = row['URL']\n",
        "  url_id = row['URL_ID']\n",
        "  print(url_id, url)\n",
        "  break"
      ],
      "metadata": {
        "colab": {
          "base_uri": "https://localhost:8080/"
        },
        "id": "Zd_ytxqYCyyr",
        "outputId": "cec06c64-b3a1-4eb1-d32d-8436ae4d8aad"
      },
      "execution_count": 186,
      "outputs": [
        {
          "output_type": "stream",
          "name": "stdout",
          "text": [
            "123.0 https://insights.blackcoffer.com/rise-of-telemedicine-and-its-impact-on-livelihood-by-2040-3-2/\n"
          ]
        }
      ]
    },
    {
      "cell_type": "code",
      "source": [
        "response = requests.get(\"https://insights.blackcoffer.com/rise-of-e-health-and-its-imapct-on-humans-by-the-year-2030-2/\")\n",
        "soup = BeautifulSoup(response.text, 'html.parser')\n",
        "title = soup.find(\"h1\",\"tdb-title-text\").text\n",
        "print(title)\n",
        "\n",
        "article_text = \"\\n\".join([p.text for p in soup.find_all(\"div\",{\"class\": \"tdb-block-inner td-fix-index\"})])\n",
        "print(article_text)"
      ],
      "metadata": {
        "colab": {
          "base_uri": "https://localhost:8080/"
        },
        "id": "QLcB-OWVGCmT",
        "outputId": "0daedf88-c101-4ea9-cec4-a122722a451a"
      },
      "execution_count": 187,
      "outputs": [
        {
          "output_type": "stream",
          "name": "stdout",
          "text": [
            "Rise of e-health and its impact on humans by the year 2030\n",
            "\n",
            "\n",
            "\n",
            "Monday, October 16, 2023\n",
            "Sign in / Join\n",
            "\n",
            "Search\n",
            "HomeWhat We ThinkRise of e-health and its impact on humans by the year 2030\n",
            "Rise of e-health and its impact on humans by the year 2030\n",
            "By Ajay Bidyarthy\n",
            "January 2, 2023\n",
            "0\n",
            "4146\n",
            "\n",
            "\n",
            "\n",
            "\n",
            "\n",
            "2020 was the year the world was ravaged by the SarsCov2 virus. This notorious virus brought about a pandemic that would go on to change the course of humanity.  From that point forth daily lives of everyone across the world changed. With widespread stringent lockdowns, the entire world came to a sharp halt. Not only was the general populace affected, but the pandemic also affected all industries. The pandemic did not even spare critical industries, like healthcare and security. While these industries were required to function for the benefit of society, their daily operations changed drastically. But just as human nature prevails, we rose from this adversity. Post pandemic era saw the rise of new technologies that could aid overcome the restrictions put forth by the pandemic. In this article, we will specifically focus on the healthcare industries, innovations done in the industry, and the impact of those innovations on humans by 2030.\n",
            "Lockdowns initiated to curb the pandemic caused people to stay in their homes at all times. The exception to this was the medical staff who acted as our first line of defense against the pandemic. They not only had to deal with the pandemic but also had to cater to patients suffering from various other ailments. While people were restricted to go out, they still required medical consultation for their issues. This conundrum led to the rise of imparting healthcare facilities over electronic media. Healthcare workers utilized technologies such as video calls and virtual meetings to reach out to the needy. Now, these practices are also known as ‘e-Health’.  As the pandemic raged on, society saw numerous initiatives in the e-health sector. Government-led initiatives like ‘eSanjeevani OPD’ brought government OPD facilities directly to people’s homes.  It should be noted that e-health is not just limited to providing patients with virtual meetings. It encompasses every technology that transitions the traditional healthcare sector into a more accessible electronic form. Keeping with this trend we also saw the use of the Internet of Things (IoT)  to build the Internet of Medical Things (IoMT). These internet-connected devices allowed remote monitoring and controlling of facilities imparted to patients.  With the onset of 5G technology, the use of  IoMT has flourished. Some of these solutions include smart devices that monitor an individual’s health metrics. These devices are also capable of sending out alerts in case the metrics do not fall under the acceptable range. Furthermore with the advancements in artificial intelligence, machine learning, and deep learning technologies these devices do more than just report. With the help of these technologies, IoMT devices are now capable of intelligently performing actions that keep the metric of a patient in check.\n",
            "Another interesting technology that has found its use in the healthcare industry is ‘Blockchain technology. The technology used as the base for cryptocurrency can also be used to maintain immutable records of patients. Such blockchain solutions are already finding their way into the market Pranacare, is one such India start-up. It is a  platform for doctors driven by blockchain and AI. It offers tools to help dieticians, diabetologists, and cardiac specialists manage their customers and data. It also maintains, tracks, and records patient data and offers a decentralized ledger. The armchair is another organization that combines blockchain technology and the health industry.  The armchair provides an Ethereum-based platform for electronic health records storage. The blockchain is a hybrid public/private network that analyses data using Artificial Intelligence. Will use Ethereum Smart Contracts with the Hyperledger Sawtooth platform to offer a safe method for both patients and providers to access patient data. Existing e-health services also saw a rise during the pandemic. For example, telemedicine visits increased from 1-2% of ambulatory care visits before to the pandemic to 30% of all visits. With customer readiness to adopt telehealth climbing to 66%. According to health systems, up to 40% of primary care appointments might be performed remotely.\n",
            "With the increased penetration of the internet in our daily lives, it has been now critical for companies and start-ups to capture this segment. Keeping in with this agenda, the market has seen a proliferation of companies providing e-health services. Consequently, this industry has also seen an increase.in investments. Between 2019 and 2020, investments in telemedicine solutions quadrupled, rising from $1.1 billion to $3.1 billion. In 2020, total funding for remote patient monitoring (RPM) solutions will have more than quadrupled, rising from $417 million to $941 million. According to e-healthcare investors, RPM solutions for chronic care management are expected to become more popular in the next coming years. Analysts predict that eHealth will increase at a compound annual growth rate of 16.1% from 2022 to 2030, with the eHealth segment expected to generate $61.4 billion in sales in 2023 alone. China is expected to lead the global market followed by the USA. Overall, the e-Health industry is expected to see a boom in investments, providing early investors with a large return for their investments.\n",
            "While e-Health seems like the probable future for the entire healthcare industry, special attention must be given to the security aspect of these services. Being connected to the internet and being made available to all also attracts a lot of nefarious elements. Cybercriminals continually target the healthcare industry. The ransomware attack on AIIMS New Delhi is a prime example of this. Cybercriminals were able to cripple AIIMS systems. For over two weeks this caused massive chaos and confusion among the general public. The pandemic itself saw a large number of healthcare-themed smishing and vishing attacks. Their major motive was to exploit the insecure and scared public and make use of the pandemic to extort money. Every example of a cyberattack on a healthcare industry has always led to massive chaos. Healthcare is considered a critical industry, thereby it needs to be adequately protected. With e-Health on the rise, by 2023 society can also expect a lot of jobs to open in the sector of cyber security in the healthcare industry.\n",
            "e-Health solutions are the need of the hour. Integrating e-Health solutions with up-and-coming technologies can effectively ensure inclusivity for all. Such solutions can bring healthcare facilities to the remotest parts of the earth. With current trends in sight, 2030 is expected to have a large market share occupied by e-Health solutions. Early investors can expect high returns by 2030. With this in mind, special focus should also be given to securing the ever-growing e-health industry.\n",
            "Blackcoffer Insights 46: Aparajita Thakur, Jesus And Mary College , University Of Delhi\n",
            "\n",
            "TagsblockchainE-HealthHealthcareInternet of medical thingsInternet of ThingsInvestmentsRemote patient monitoringSecurityTelemedicine\n",
            "Previous articleRise of telemedicine and its Impact on Livelihood by 2040Next articleRise of e-health and its impact on humans by the year 2030\n",
            "Ajay Bidyarthy\n",
            "\n",
            "\n"
          ]
        }
      ]
    },
    {
      "cell_type": "code",
      "source": [
        "# create a file_name column, will help to populate the output_df\n",
        "output_df['file_name'] = output_df['URL_ID'].apply(lambda x: str(float(x)) + '.txt')\n",
        "output_df[['URL_ID','file_name']]"
      ],
      "metadata": {
        "colab": {
          "base_uri": "https://localhost:8080/",
          "height": 424
        },
        "id": "kXnp04i7to5v",
        "outputId": "96551d22-d866-47a3-9c44-b4e5df88e016"
      },
      "execution_count": 191,
      "outputs": [
        {
          "output_type": "execute_result",
          "data": {
            "text/plain": [
              "      URL_ID    file_name\n",
              "0      123.0    123.0.txt\n",
              "1      321.0    321.0.txt\n",
              "2     2345.0   2345.0.txt\n",
              "3     4321.0   4321.0.txt\n",
              "4      432.0    432.0.txt\n",
              "..       ...          ...\n",
              "109  50921.0  50921.0.txt\n",
              "110  51382.8  51382.8.txt\n",
              "111  51844.6  51844.6.txt\n",
              "112  52306.4  52306.4.txt\n",
              "113  52768.2  52768.2.txt\n",
              "\n",
              "[114 rows x 2 columns]"
            ],
            "text/html": [
              "\n",
              "  <div id=\"df-b2d9e0f6-a85b-46fc-a903-96bb86f9a605\" class=\"colab-df-container\">\n",
              "    <div>\n",
              "<style scoped>\n",
              "    .dataframe tbody tr th:only-of-type {\n",
              "        vertical-align: middle;\n",
              "    }\n",
              "\n",
              "    .dataframe tbody tr th {\n",
              "        vertical-align: top;\n",
              "    }\n",
              "\n",
              "    .dataframe thead th {\n",
              "        text-align: right;\n",
              "    }\n",
              "</style>\n",
              "<table border=\"1\" class=\"dataframe\">\n",
              "  <thead>\n",
              "    <tr style=\"text-align: right;\">\n",
              "      <th></th>\n",
              "      <th>URL_ID</th>\n",
              "      <th>file_name</th>\n",
              "    </tr>\n",
              "  </thead>\n",
              "  <tbody>\n",
              "    <tr>\n",
              "      <th>0</th>\n",
              "      <td>123.0</td>\n",
              "      <td>123.0.txt</td>\n",
              "    </tr>\n",
              "    <tr>\n",
              "      <th>1</th>\n",
              "      <td>321.0</td>\n",
              "      <td>321.0.txt</td>\n",
              "    </tr>\n",
              "    <tr>\n",
              "      <th>2</th>\n",
              "      <td>2345.0</td>\n",
              "      <td>2345.0.txt</td>\n",
              "    </tr>\n",
              "    <tr>\n",
              "      <th>3</th>\n",
              "      <td>4321.0</td>\n",
              "      <td>4321.0.txt</td>\n",
              "    </tr>\n",
              "    <tr>\n",
              "      <th>4</th>\n",
              "      <td>432.0</td>\n",
              "      <td>432.0.txt</td>\n",
              "    </tr>\n",
              "    <tr>\n",
              "      <th>...</th>\n",
              "      <td>...</td>\n",
              "      <td>...</td>\n",
              "    </tr>\n",
              "    <tr>\n",
              "      <th>109</th>\n",
              "      <td>50921.0</td>\n",
              "      <td>50921.0.txt</td>\n",
              "    </tr>\n",
              "    <tr>\n",
              "      <th>110</th>\n",
              "      <td>51382.8</td>\n",
              "      <td>51382.8.txt</td>\n",
              "    </tr>\n",
              "    <tr>\n",
              "      <th>111</th>\n",
              "      <td>51844.6</td>\n",
              "      <td>51844.6.txt</td>\n",
              "    </tr>\n",
              "    <tr>\n",
              "      <th>112</th>\n",
              "      <td>52306.4</td>\n",
              "      <td>52306.4.txt</td>\n",
              "    </tr>\n",
              "    <tr>\n",
              "      <th>113</th>\n",
              "      <td>52768.2</td>\n",
              "      <td>52768.2.txt</td>\n",
              "    </tr>\n",
              "  </tbody>\n",
              "</table>\n",
              "<p>114 rows × 2 columns</p>\n",
              "</div>\n",
              "    <div class=\"colab-df-buttons\">\n",
              "\n",
              "  <div class=\"colab-df-container\">\n",
              "    <button class=\"colab-df-convert\" onclick=\"convertToInteractive('df-b2d9e0f6-a85b-46fc-a903-96bb86f9a605')\"\n",
              "            title=\"Convert this dataframe to an interactive table.\"\n",
              "            style=\"display:none;\">\n",
              "\n",
              "  <svg xmlns=\"http://www.w3.org/2000/svg\" height=\"24px\" viewBox=\"0 -960 960 960\">\n",
              "    <path d=\"M120-120v-720h720v720H120Zm60-500h600v-160H180v160Zm220 220h160v-160H400v160Zm0 220h160v-160H400v160ZM180-400h160v-160H180v160Zm440 0h160v-160H620v160ZM180-180h160v-160H180v160Zm440 0h160v-160H620v160Z\"/>\n",
              "  </svg>\n",
              "    </button>\n",
              "\n",
              "  <style>\n",
              "    .colab-df-container {\n",
              "      display:flex;\n",
              "      gap: 12px;\n",
              "    }\n",
              "\n",
              "    .colab-df-convert {\n",
              "      background-color: #E8F0FE;\n",
              "      border: none;\n",
              "      border-radius: 50%;\n",
              "      cursor: pointer;\n",
              "      display: none;\n",
              "      fill: #1967D2;\n",
              "      height: 32px;\n",
              "      padding: 0 0 0 0;\n",
              "      width: 32px;\n",
              "    }\n",
              "\n",
              "    .colab-df-convert:hover {\n",
              "      background-color: #E2EBFA;\n",
              "      box-shadow: 0px 1px 2px rgba(60, 64, 67, 0.3), 0px 1px 3px 1px rgba(60, 64, 67, 0.15);\n",
              "      fill: #174EA6;\n",
              "    }\n",
              "\n",
              "    .colab-df-buttons div {\n",
              "      margin-bottom: 4px;\n",
              "    }\n",
              "\n",
              "    [theme=dark] .colab-df-convert {\n",
              "      background-color: #3B4455;\n",
              "      fill: #D2E3FC;\n",
              "    }\n",
              "\n",
              "    [theme=dark] .colab-df-convert:hover {\n",
              "      background-color: #434B5C;\n",
              "      box-shadow: 0px 1px 3px 1px rgba(0, 0, 0, 0.15);\n",
              "      filter: drop-shadow(0px 1px 2px rgba(0, 0, 0, 0.3));\n",
              "      fill: #FFFFFF;\n",
              "    }\n",
              "  </style>\n",
              "\n",
              "    <script>\n",
              "      const buttonEl =\n",
              "        document.querySelector('#df-b2d9e0f6-a85b-46fc-a903-96bb86f9a605 button.colab-df-convert');\n",
              "      buttonEl.style.display =\n",
              "        google.colab.kernel.accessAllowed ? 'block' : 'none';\n",
              "\n",
              "      async function convertToInteractive(key) {\n",
              "        const element = document.querySelector('#df-b2d9e0f6-a85b-46fc-a903-96bb86f9a605');\n",
              "        const dataTable =\n",
              "          await google.colab.kernel.invokeFunction('convertToInteractive',\n",
              "                                                    [key], {});\n",
              "        if (!dataTable) return;\n",
              "\n",
              "        const docLinkHtml = 'Like what you see? Visit the ' +\n",
              "          '<a target=\"_blank\" href=https://colab.research.google.com/notebooks/data_table.ipynb>data table notebook</a>'\n",
              "          + ' to learn more about interactive tables.';\n",
              "        element.innerHTML = '';\n",
              "        dataTable['output_type'] = 'display_data';\n",
              "        await google.colab.output.renderOutput(dataTable, element);\n",
              "        const docLink = document.createElement('div');\n",
              "        docLink.innerHTML = docLinkHtml;\n",
              "        element.appendChild(docLink);\n",
              "      }\n",
              "    </script>\n",
              "  </div>\n",
              "\n",
              "\n",
              "<div id=\"df-2bb68db1-b00b-4f2d-9e6a-0ce02403a12e\">\n",
              "  <button class=\"colab-df-quickchart\" onclick=\"quickchart('df-2bb68db1-b00b-4f2d-9e6a-0ce02403a12e')\"\n",
              "            title=\"Suggest charts.\"\n",
              "            style=\"display:none;\">\n",
              "\n",
              "<svg xmlns=\"http://www.w3.org/2000/svg\" height=\"24px\"viewBox=\"0 0 24 24\"\n",
              "     width=\"24px\">\n",
              "    <g>\n",
              "        <path d=\"M19 3H5c-1.1 0-2 .9-2 2v14c0 1.1.9 2 2 2h14c1.1 0 2-.9 2-2V5c0-1.1-.9-2-2-2zM9 17H7v-7h2v7zm4 0h-2V7h2v10zm4 0h-2v-4h2v4z\"/>\n",
              "    </g>\n",
              "</svg>\n",
              "  </button>\n",
              "\n",
              "<style>\n",
              "  .colab-df-quickchart {\n",
              "      --bg-color: #E8F0FE;\n",
              "      --fill-color: #1967D2;\n",
              "      --hover-bg-color: #E2EBFA;\n",
              "      --hover-fill-color: #174EA6;\n",
              "      --disabled-fill-color: #AAA;\n",
              "      --disabled-bg-color: #DDD;\n",
              "  }\n",
              "\n",
              "  [theme=dark] .colab-df-quickchart {\n",
              "      --bg-color: #3B4455;\n",
              "      --fill-color: #D2E3FC;\n",
              "      --hover-bg-color: #434B5C;\n",
              "      --hover-fill-color: #FFFFFF;\n",
              "      --disabled-bg-color: #3B4455;\n",
              "      --disabled-fill-color: #666;\n",
              "  }\n",
              "\n",
              "  .colab-df-quickchart {\n",
              "    background-color: var(--bg-color);\n",
              "    border: none;\n",
              "    border-radius: 50%;\n",
              "    cursor: pointer;\n",
              "    display: none;\n",
              "    fill: var(--fill-color);\n",
              "    height: 32px;\n",
              "    padding: 0;\n",
              "    width: 32px;\n",
              "  }\n",
              "\n",
              "  .colab-df-quickchart:hover {\n",
              "    background-color: var(--hover-bg-color);\n",
              "    box-shadow: 0 1px 2px rgba(60, 64, 67, 0.3), 0 1px 3px 1px rgba(60, 64, 67, 0.15);\n",
              "    fill: var(--button-hover-fill-color);\n",
              "  }\n",
              "\n",
              "  .colab-df-quickchart-complete:disabled,\n",
              "  .colab-df-quickchart-complete:disabled:hover {\n",
              "    background-color: var(--disabled-bg-color);\n",
              "    fill: var(--disabled-fill-color);\n",
              "    box-shadow: none;\n",
              "  }\n",
              "\n",
              "  .colab-df-spinner {\n",
              "    border: 2px solid var(--fill-color);\n",
              "    border-color: transparent;\n",
              "    border-bottom-color: var(--fill-color);\n",
              "    animation:\n",
              "      spin 1s steps(1) infinite;\n",
              "  }\n",
              "\n",
              "  @keyframes spin {\n",
              "    0% {\n",
              "      border-color: transparent;\n",
              "      border-bottom-color: var(--fill-color);\n",
              "      border-left-color: var(--fill-color);\n",
              "    }\n",
              "    20% {\n",
              "      border-color: transparent;\n",
              "      border-left-color: var(--fill-color);\n",
              "      border-top-color: var(--fill-color);\n",
              "    }\n",
              "    30% {\n",
              "      border-color: transparent;\n",
              "      border-left-color: var(--fill-color);\n",
              "      border-top-color: var(--fill-color);\n",
              "      border-right-color: var(--fill-color);\n",
              "    }\n",
              "    40% {\n",
              "      border-color: transparent;\n",
              "      border-right-color: var(--fill-color);\n",
              "      border-top-color: var(--fill-color);\n",
              "    }\n",
              "    60% {\n",
              "      border-color: transparent;\n",
              "      border-right-color: var(--fill-color);\n",
              "    }\n",
              "    80% {\n",
              "      border-color: transparent;\n",
              "      border-right-color: var(--fill-color);\n",
              "      border-bottom-color: var(--fill-color);\n",
              "    }\n",
              "    90% {\n",
              "      border-color: transparent;\n",
              "      border-bottom-color: var(--fill-color);\n",
              "    }\n",
              "  }\n",
              "</style>\n",
              "\n",
              "  <script>\n",
              "    async function quickchart(key) {\n",
              "      const quickchartButtonEl =\n",
              "        document.querySelector('#' + key + ' button');\n",
              "      quickchartButtonEl.disabled = true;  // To prevent multiple clicks.\n",
              "      quickchartButtonEl.classList.add('colab-df-spinner');\n",
              "      try {\n",
              "        const charts = await google.colab.kernel.invokeFunction(\n",
              "            'suggestCharts', [key], {});\n",
              "      } catch (error) {\n",
              "        console.error('Error during call to suggestCharts:', error);\n",
              "      }\n",
              "      quickchartButtonEl.classList.remove('colab-df-spinner');\n",
              "      quickchartButtonEl.classList.add('colab-df-quickchart-complete');\n",
              "    }\n",
              "    (() => {\n",
              "      let quickchartButtonEl =\n",
              "        document.querySelector('#df-2bb68db1-b00b-4f2d-9e6a-0ce02403a12e button');\n",
              "      quickchartButtonEl.style.display =\n",
              "        google.colab.kernel.accessAllowed ? 'block' : 'none';\n",
              "    })();\n",
              "  </script>\n",
              "</div>\n",
              "    </div>\n",
              "  </div>\n"
            ]
          },
          "metadata": {},
          "execution_count": 191
        }
      ]
    },
    {
      "cell_type": "code",
      "source": [
        "def extract_and_save_article(df:pd.DataFrame, title_tag:str, text_tag:str, output_dir: Path):\n",
        "  processed_url_ids = []\n",
        "  # Iterate through each row in the input dataframe\n",
        "  for index, row in df.iterrows():\n",
        "      # Get the URL and URL_ID from the dataframe\n",
        "      url = row['URL']\n",
        "      url_id = row['URL_ID']\n",
        "\n",
        "      # Check if the file with the same URL_ID already exists\n",
        "      file_name = f\"{url_id}.txt\"\n",
        "      output_file = output_dir / file_name\n",
        "      if output_file.exists():\n",
        "          print(f\"Skipped as the file: '{file_name}' already exists at {output_file}\")\n",
        "          continue\n",
        "\n",
        "      # Send an HTTP GET request to fetch the webpage content\n",
        "      response = requests.get(url)\n",
        "\n",
        "      if response.status_code == 200:\n",
        "          # Parse the HTML content using BeautifulSoup\n",
        "          soup = BeautifulSoup(response.text, 'html.parser')\n",
        "\n",
        "          # Extract the article title and text\n",
        "          title_element = soup.find('h1', title_tag)\n",
        "          if title_element:\n",
        "            title = title_element.text\n",
        "          else:\n",
        "            title = None\n",
        "            print(\"Title not found, hence skipped\", url_id, url)\n",
        "            continue\n",
        "\n",
        "          text_elements = soup.find_all(class_= text_tag)\n",
        "          if text_elements:\n",
        "            article_text = \"\\n\".join([p.text for p in text_elements])\n",
        "          else:\n",
        "            article_text = None\n",
        "            print(\"Text not found, hence skipped\", url_id, url)\n",
        "\n",
        "          if (title is not None) and (article_text is not None):\n",
        "            # Save the extracted article to a text file with URL_ID as its name\n",
        "            with output_file.open('w', encoding='utf-8') as file:\n",
        "                file.write(title + \"\\n\\n\" + article_text)\n",
        "                # To track which url_ids have been used to create the file\n",
        "                processed_url_ids.append(url)\n",
        "\n",
        "\n",
        "            print(f\"Article from URL_ID {url_id} extracted and saved to {output_file}\")\n",
        "      else:\n",
        "        # Save the extracted article to a text file with URL_ID as its name\n",
        "        with output_file.open('w', encoding='utf-8') as file:\n",
        "            file.write(\"NA\" + \"\\n\\n\" + \"NA\")\n",
        "            # To track which url_ids have been used to create the file\n",
        "            processed_url_ids.append(url)\n",
        "        print(f\"Failed to fetch the URL for URL_ID {url_id}\")\n",
        "\n",
        "  print(\"Extraction completed.\")\n",
        "  return processed_url_ids"
      ],
      "metadata": {
        "id": "JSXa_UmM7SIg"
      },
      "execution_count": 192,
      "outputs": []
    },
    {
      "cell_type": "code",
      "source": [
        "processed_url_ids1 = extract_and_save_article(\n",
        "    df=input_df,\n",
        "    title_tag=\"entry-title\",\n",
        "    text_tag=\"td-post-content tagdiv-type\",\n",
        "    output_dir = output_dir\n",
        "    )"
      ],
      "metadata": {
        "colab": {
          "base_uri": "https://localhost:8080/"
        },
        "id": "Hb-bh6P58lwq",
        "outputId": "81a1d9da-0f7c-4869-d946-ec644354d972"
      },
      "execution_count": null,
      "outputs": [
        {
          "output_type": "stream",
          "name": "stdout",
          "text": [
            "Article from URL_ID 123.0 extracted and saved to extracted_articles/123.0.txt\n",
            "Article from URL_ID 321.0 extracted and saved to extracted_articles/321.0.txt\n",
            "Title not found, hence skipped 2345.0 https://insights.blackcoffer.com/rise-of-e-health-and-its-imapct-on-humans-by-the-year-2030-2/\n",
            "Article from URL_ID 4321.0 extracted and saved to extracted_articles/4321.0.txt\n",
            "Article from URL_ID 432.0 extracted and saved to extracted_articles/432.0.txt\n",
            "Article from URL_ID 2893.8 extracted and saved to extracted_articles/2893.8.txt\n",
            "Article from URL_ID 3355.6 extracted and saved to extracted_articles/3355.6.txt\n",
            "Article from URL_ID 3817.4 extracted and saved to extracted_articles/3817.4.txt\n",
            "Title not found, hence skipped 4279.2 https://insights.blackcoffer.com/how-advertisement-increase-your-market-value/\n",
            "Article from URL_ID 4741.0 extracted and saved to extracted_articles/4741.0.txt\n",
            "Article from URL_ID 5202.8 extracted and saved to extracted_articles/5202.8.txt\n",
            "Article from URL_ID 5664.6 extracted and saved to extracted_articles/5664.6.txt\n",
            "Article from URL_ID 6126.4 extracted and saved to extracted_articles/6126.4.txt\n",
            "Article from URL_ID 6588.2 extracted and saved to extracted_articles/6588.2.txt\n",
            "Article from URL_ID 7050.0 extracted and saved to extracted_articles/7050.0.txt\n",
            "Article from URL_ID 7511.8 extracted and saved to extracted_articles/7511.8.txt\n",
            "Article from URL_ID 7973.6 extracted and saved to extracted_articles/7973.6.txt\n",
            "Title not found, hence skipped 8435.4 https://insights.blackcoffer.com/ai-in-healthcare-to-improve-patient-outcomes/\n",
            "Article from URL_ID 8897.2 extracted and saved to extracted_articles/8897.2.txt\n",
            "Article from URL_ID 9359.0 extracted and saved to extracted_articles/9359.0.txt\n",
            "Article from URL_ID 9820.8 extracted and saved to extracted_articles/9820.8.txt\n",
            "Article from URL_ID 10282.6 extracted and saved to extracted_articles/10282.6.txt\n",
            "Article from URL_ID 10744.4 extracted and saved to extracted_articles/10744.4.txt\n",
            "Article from URL_ID 11206.2 extracted and saved to extracted_articles/11206.2.txt\n",
            "Failed to fetch the URL for URL_ID 11668.0\n",
            "Article from URL_ID 12129.8 extracted and saved to extracted_articles/12129.8.txt\n",
            "Article from URL_ID 12591.6 extracted and saved to extracted_articles/12591.6.txt\n",
            "Article from URL_ID 13053.4 extracted and saved to extracted_articles/13053.4.txt\n",
            "Article from URL_ID 13515.2 extracted and saved to extracted_articles/13515.2.txt\n",
            "Article from URL_ID 13977.0 extracted and saved to extracted_articles/13977.0.txt\n",
            "Article from URL_ID 14438.8 extracted and saved to extracted_articles/14438.8.txt\n",
            "Title not found, hence skipped 14900.6 https://insights.blackcoffer.com/future-of-work-how-ai-has-entered-the-workplace/\n",
            "Article from URL_ID 15362.4 extracted and saved to extracted_articles/15362.4.txt\n",
            "Article from URL_ID 15824.2 extracted and saved to extracted_articles/15824.2.txt\n",
            "Article from URL_ID 16286.0 extracted and saved to extracted_articles/16286.0.txt\n",
            "Article from URL_ID 16747.8 extracted and saved to extracted_articles/16747.8.txt\n",
            "Article from URL_ID 17209.6 extracted and saved to extracted_articles/17209.6.txt\n",
            "Failed to fetch the URL for URL_ID 17671.4\n",
            "Article from URL_ID 18133.2 extracted and saved to extracted_articles/18133.2.txt\n",
            "Article from URL_ID 18595.0 extracted and saved to extracted_articles/18595.0.txt\n",
            "Article from URL_ID 19056.8 extracted and saved to extracted_articles/19056.8.txt\n",
            "Article from URL_ID 19518.6 extracted and saved to extracted_articles/19518.6.txt\n",
            "Article from URL_ID 19980.4 extracted and saved to extracted_articles/19980.4.txt\n",
            "Article from URL_ID 20442.2 extracted and saved to extracted_articles/20442.2.txt\n",
            "Article from URL_ID 20904.0 extracted and saved to extracted_articles/20904.0.txt\n",
            "Article from URL_ID 21365.8 extracted and saved to extracted_articles/21365.8.txt\n",
            "Article from URL_ID 21827.6 extracted and saved to extracted_articles/21827.6.txt\n",
            "Article from URL_ID 22289.4 extracted and saved to extracted_articles/22289.4.txt\n",
            "Article from URL_ID 22751.2 extracted and saved to extracted_articles/22751.2.txt\n",
            "Article from URL_ID 23213.0 extracted and saved to extracted_articles/23213.0.txt\n",
            "Article from URL_ID 23674.8 extracted and saved to extracted_articles/23674.8.txt\n",
            "Article from URL_ID 24136.6 extracted and saved to extracted_articles/24136.6.txt\n",
            "Article from URL_ID 24598.4 extracted and saved to extracted_articles/24598.4.txt\n",
            "Article from URL_ID 25060.2 extracted and saved to extracted_articles/25060.2.txt\n",
            "Article from URL_ID 25522.0 extracted and saved to extracted_articles/25522.0.txt\n",
            "Article from URL_ID 25983.8 extracted and saved to extracted_articles/25983.8.txt\n",
            "Article from URL_ID 26445.6 extracted and saved to extracted_articles/26445.6.txt\n",
            "Article from URL_ID 26907.4 extracted and saved to extracted_articles/26907.4.txt\n",
            "Article from URL_ID 27369.2 extracted and saved to extracted_articles/27369.2.txt\n",
            "Article from URL_ID 27831.0 extracted and saved to extracted_articles/27831.0.txt\n",
            "Article from URL_ID 28292.8 extracted and saved to extracted_articles/28292.8.txt\n",
            "Article from URL_ID 28754.6 extracted and saved to extracted_articles/28754.6.txt\n",
            "Article from URL_ID 29216.4 extracted and saved to extracted_articles/29216.4.txt\n",
            "Article from URL_ID 29678.2 extracted and saved to extracted_articles/29678.2.txt\n",
            "Article from URL_ID 30140.0 extracted and saved to extracted_articles/30140.0.txt\n",
            "Article from URL_ID 30601.8 extracted and saved to extracted_articles/30601.8.txt\n",
            "Article from URL_ID 31063.6 extracted and saved to extracted_articles/31063.6.txt\n",
            "Article from URL_ID 31525.4 extracted and saved to extracted_articles/31525.4.txt\n",
            "Article from URL_ID 31987.2 extracted and saved to extracted_articles/31987.2.txt\n",
            "Article from URL_ID 32449.0 extracted and saved to extracted_articles/32449.0.txt\n",
            "Article from URL_ID 32910.8 extracted and saved to extracted_articles/32910.8.txt\n",
            "Title not found, hence skipped 33372.6 https://insights.blackcoffer.com/human-rights-outlook/\n",
            "Title not found, hence skipped 33834.4 https://insights.blackcoffer.com/how-voice-search-makes-your-business-a-successful-business/\n",
            "Article from URL_ID 34296.2 extracted and saved to extracted_articles/34296.2.txt\n",
            "Article from URL_ID 34758.0 extracted and saved to extracted_articles/34758.0.txt\n",
            "Article from URL_ID 35219.8 extracted and saved to extracted_articles/35219.8.txt\n",
            "Article from URL_ID 35681.6 extracted and saved to extracted_articles/35681.6.txt\n",
            "Article from URL_ID 36143.4 extracted and saved to extracted_articles/36143.4.txt\n",
            "Article from URL_ID 36605.2 extracted and saved to extracted_articles/36605.2.txt\n",
            "Article from URL_ID 37067.0 extracted and saved to extracted_articles/37067.0.txt\n",
            "Title not found, hence skipped 37528.8 https://insights.blackcoffer.com/estimating-the-impact-of-covid-19-on-the-world-of-work-3/\n",
            "Article from URL_ID 37990.6 extracted and saved to extracted_articles/37990.6.txt\n",
            "Article from URL_ID 38452.4 extracted and saved to extracted_articles/38452.4.txt\n",
            "Article from URL_ID 38914.2 extracted and saved to extracted_articles/38914.2.txt\n",
            "Article from URL_ID 39376.0 extracted and saved to extracted_articles/39376.0.txt\n",
            "Article from URL_ID 39837.8 extracted and saved to extracted_articles/39837.8.txt\n",
            "Article from URL_ID 40299.6 extracted and saved to extracted_articles/40299.6.txt\n",
            "Title not found, hence skipped 40761.4 https://insights.blackcoffer.com/how-covid-19-is-impacting-payment-preferences/\n",
            "Title not found, hence skipped 41223.2 https://insights.blackcoffer.com/how-will-covid-19-affect-the-world-of-work-2/\n",
            "Article from URL_ID 41685.0 extracted and saved to extracted_articles/41685.0.txt\n",
            "Article from URL_ID 42146.8 extracted and saved to extracted_articles/42146.8.txt\n",
            "Article from URL_ID 42608.6 extracted and saved to extracted_articles/42608.6.txt\n",
            "Title not found, hence skipped 43070.4 https://insights.blackcoffer.com/how-will-covid-19-affect-the-world-of-work-3/\n",
            "Article from URL_ID 43532.2 extracted and saved to extracted_articles/43532.2.txt\n",
            "Article from URL_ID 43994.0 extracted and saved to extracted_articles/43994.0.txt\n",
            "Article from URL_ID 44455.8 extracted and saved to extracted_articles/44455.8.txt\n",
            "Article from URL_ID 44917.6 extracted and saved to extracted_articles/44917.6.txt\n",
            "Article from URL_ID 45379.4 extracted and saved to extracted_articles/45379.4.txt\n",
            "Article from URL_ID 45841.2 extracted and saved to extracted_articles/45841.2.txt\n",
            "Article from URL_ID 46303.0 extracted and saved to extracted_articles/46303.0.txt\n",
            "Article from URL_ID 46764.8 extracted and saved to extracted_articles/46764.8.txt\n",
            "Article from URL_ID 47226.6 extracted and saved to extracted_articles/47226.6.txt\n",
            "Article from URL_ID 47688.4 extracted and saved to extracted_articles/47688.4.txt\n",
            "Article from URL_ID 48150.2 extracted and saved to extracted_articles/48150.2.txt\n",
            "Article from URL_ID 48612.0 extracted and saved to extracted_articles/48612.0.txt\n",
            "Article from URL_ID 49073.8 extracted and saved to extracted_articles/49073.8.txt\n",
            "Article from URL_ID 49535.6 extracted and saved to extracted_articles/49535.6.txt\n",
            "Article from URL_ID 49997.4 extracted and saved to extracted_articles/49997.4.txt\n",
            "Article from URL_ID 50459.2 extracted and saved to extracted_articles/50459.2.txt\n",
            "Article from URL_ID 50921.0 extracted and saved to extracted_articles/50921.0.txt\n",
            "Article from URL_ID 51382.8 extracted and saved to extracted_articles/51382.8.txt\n",
            "Article from URL_ID 51844.6 extracted and saved to extracted_articles/51844.6.txt\n",
            "Article from URL_ID 52306.4 extracted and saved to extracted_articles/52306.4.txt\n",
            "Article from URL_ID 52768.2 extracted and saved to extracted_articles/52768.2.txt\n",
            "Extraction completed.\n"
          ]
        }
      ]
    },
    {
      "cell_type": "markdown",
      "source": [
        "**NOTE:** The message \"Title or Text not found\", is most probably due to the changes in the structure of the HTML Code. So, in that case we have to manually visit those site and get the new tags."
      ],
      "metadata": {
        "id": "DYz8U_HjDrFM"
      }
    },
    {
      "cell_type": "code",
      "source": [
        "processed_url_ids2 = extract_and_save_article(\n",
        "    df=input_df,\n",
        "    title_tag=\"tdb-title-text\",\n",
        "    text_tag=\"tdb-block-inner td-fix-index\",\n",
        "    output_dir = output_dir\n",
        "    )"
      ],
      "metadata": {
        "colab": {
          "base_uri": "https://localhost:8080/"
        },
        "id": "qt_VRB4N-rin",
        "outputId": "496d45cd-813d-41c9-a2d4-37708b132c8b"
      },
      "execution_count": null,
      "outputs": [
        {
          "output_type": "stream",
          "name": "stdout",
          "text": [
            "Skipped as the file: '123.0.txt' already exists at extracted_articles/123.0.txt\n",
            "Skipped as the file: '321.0.txt' already exists at extracted_articles/321.0.txt\n",
            "Article from URL_ID 2345.0 extracted and saved to extracted_articles/2345.0.txt\n",
            "Skipped as the file: '4321.0.txt' already exists at extracted_articles/4321.0.txt\n",
            "Skipped as the file: '432.0.txt' already exists at extracted_articles/432.0.txt\n",
            "Skipped as the file: '2893.8.txt' already exists at extracted_articles/2893.8.txt\n",
            "Skipped as the file: '3355.6.txt' already exists at extracted_articles/3355.6.txt\n",
            "Skipped as the file: '3817.4.txt' already exists at extracted_articles/3817.4.txt\n",
            "Article from URL_ID 4279.2 extracted and saved to extracted_articles/4279.2.txt\n",
            "Skipped as the file: '4741.0.txt' already exists at extracted_articles/4741.0.txt\n",
            "Skipped as the file: '5202.8.txt' already exists at extracted_articles/5202.8.txt\n",
            "Skipped as the file: '5664.6.txt' already exists at extracted_articles/5664.6.txt\n",
            "Skipped as the file: '6126.4.txt' already exists at extracted_articles/6126.4.txt\n",
            "Skipped as the file: '6588.2.txt' already exists at extracted_articles/6588.2.txt\n",
            "Skipped as the file: '7050.0.txt' already exists at extracted_articles/7050.0.txt\n",
            "Skipped as the file: '7511.8.txt' already exists at extracted_articles/7511.8.txt\n",
            "Skipped as the file: '7973.6.txt' already exists at extracted_articles/7973.6.txt\n",
            "Article from URL_ID 8435.4 extracted and saved to extracted_articles/8435.4.txt\n",
            "Skipped as the file: '8897.2.txt' already exists at extracted_articles/8897.2.txt\n",
            "Skipped as the file: '9359.0.txt' already exists at extracted_articles/9359.0.txt\n",
            "Skipped as the file: '9820.8.txt' already exists at extracted_articles/9820.8.txt\n",
            "Skipped as the file: '10282.6.txt' already exists at extracted_articles/10282.6.txt\n",
            "Skipped as the file: '10744.4.txt' already exists at extracted_articles/10744.4.txt\n",
            "Skipped as the file: '11206.2.txt' already exists at extracted_articles/11206.2.txt\n",
            "Skipped as the file: '11668.0.txt' already exists at extracted_articles/11668.0.txt\n",
            "Skipped as the file: '12129.8.txt' already exists at extracted_articles/12129.8.txt\n",
            "Skipped as the file: '12591.6.txt' already exists at extracted_articles/12591.6.txt\n",
            "Skipped as the file: '13053.4.txt' already exists at extracted_articles/13053.4.txt\n",
            "Skipped as the file: '13515.2.txt' already exists at extracted_articles/13515.2.txt\n",
            "Skipped as the file: '13977.0.txt' already exists at extracted_articles/13977.0.txt\n",
            "Skipped as the file: '14438.8.txt' already exists at extracted_articles/14438.8.txt\n",
            "Article from URL_ID 14900.6 extracted and saved to extracted_articles/14900.6.txt\n",
            "Skipped as the file: '15362.4.txt' already exists at extracted_articles/15362.4.txt\n",
            "Skipped as the file: '15824.2.txt' already exists at extracted_articles/15824.2.txt\n",
            "Skipped as the file: '16286.0.txt' already exists at extracted_articles/16286.0.txt\n",
            "Skipped as the file: '16747.8.txt' already exists at extracted_articles/16747.8.txt\n",
            "Skipped as the file: '17209.6.txt' already exists at extracted_articles/17209.6.txt\n",
            "Skipped as the file: '17671.4.txt' already exists at extracted_articles/17671.4.txt\n",
            "Skipped as the file: '18133.2.txt' already exists at extracted_articles/18133.2.txt\n",
            "Skipped as the file: '18595.0.txt' already exists at extracted_articles/18595.0.txt\n",
            "Skipped as the file: '19056.8.txt' already exists at extracted_articles/19056.8.txt\n",
            "Skipped as the file: '19518.6.txt' already exists at extracted_articles/19518.6.txt\n",
            "Skipped as the file: '19980.4.txt' already exists at extracted_articles/19980.4.txt\n",
            "Skipped as the file: '20442.2.txt' already exists at extracted_articles/20442.2.txt\n",
            "Skipped as the file: '20904.0.txt' already exists at extracted_articles/20904.0.txt\n",
            "Skipped as the file: '21365.8.txt' already exists at extracted_articles/21365.8.txt\n",
            "Skipped as the file: '21827.6.txt' already exists at extracted_articles/21827.6.txt\n",
            "Skipped as the file: '22289.4.txt' already exists at extracted_articles/22289.4.txt\n",
            "Skipped as the file: '22751.2.txt' already exists at extracted_articles/22751.2.txt\n",
            "Skipped as the file: '23213.0.txt' already exists at extracted_articles/23213.0.txt\n",
            "Skipped as the file: '23674.8.txt' already exists at extracted_articles/23674.8.txt\n",
            "Skipped as the file: '24136.6.txt' already exists at extracted_articles/24136.6.txt\n",
            "Skipped as the file: '24598.4.txt' already exists at extracted_articles/24598.4.txt\n",
            "Skipped as the file: '25060.2.txt' already exists at extracted_articles/25060.2.txt\n",
            "Skipped as the file: '25522.0.txt' already exists at extracted_articles/25522.0.txt\n",
            "Skipped as the file: '25983.8.txt' already exists at extracted_articles/25983.8.txt\n",
            "Skipped as the file: '26445.6.txt' already exists at extracted_articles/26445.6.txt\n",
            "Skipped as the file: '26907.4.txt' already exists at extracted_articles/26907.4.txt\n",
            "Skipped as the file: '27369.2.txt' already exists at extracted_articles/27369.2.txt\n",
            "Skipped as the file: '27831.0.txt' already exists at extracted_articles/27831.0.txt\n",
            "Skipped as the file: '28292.8.txt' already exists at extracted_articles/28292.8.txt\n",
            "Skipped as the file: '28754.6.txt' already exists at extracted_articles/28754.6.txt\n",
            "Skipped as the file: '29216.4.txt' already exists at extracted_articles/29216.4.txt\n",
            "Skipped as the file: '29678.2.txt' already exists at extracted_articles/29678.2.txt\n",
            "Skipped as the file: '30140.0.txt' already exists at extracted_articles/30140.0.txt\n",
            "Skipped as the file: '30601.8.txt' already exists at extracted_articles/30601.8.txt\n",
            "Skipped as the file: '31063.6.txt' already exists at extracted_articles/31063.6.txt\n",
            "Skipped as the file: '31525.4.txt' already exists at extracted_articles/31525.4.txt\n",
            "Skipped as the file: '31987.2.txt' already exists at extracted_articles/31987.2.txt\n",
            "Skipped as the file: '32449.0.txt' already exists at extracted_articles/32449.0.txt\n",
            "Skipped as the file: '32910.8.txt' already exists at extracted_articles/32910.8.txt\n",
            "Article from URL_ID 33372.6 extracted and saved to extracted_articles/33372.6.txt\n",
            "Article from URL_ID 33834.4 extracted and saved to extracted_articles/33834.4.txt\n",
            "Skipped as the file: '34296.2.txt' already exists at extracted_articles/34296.2.txt\n",
            "Skipped as the file: '34758.0.txt' already exists at extracted_articles/34758.0.txt\n",
            "Skipped as the file: '35219.8.txt' already exists at extracted_articles/35219.8.txt\n",
            "Skipped as the file: '35681.6.txt' already exists at extracted_articles/35681.6.txt\n",
            "Skipped as the file: '36143.4.txt' already exists at extracted_articles/36143.4.txt\n",
            "Skipped as the file: '36605.2.txt' already exists at extracted_articles/36605.2.txt\n",
            "Skipped as the file: '37067.0.txt' already exists at extracted_articles/37067.0.txt\n",
            "Article from URL_ID 37528.8 extracted and saved to extracted_articles/37528.8.txt\n",
            "Skipped as the file: '37990.6.txt' already exists at extracted_articles/37990.6.txt\n",
            "Skipped as the file: '38452.4.txt' already exists at extracted_articles/38452.4.txt\n",
            "Skipped as the file: '38914.2.txt' already exists at extracted_articles/38914.2.txt\n",
            "Skipped as the file: '39376.0.txt' already exists at extracted_articles/39376.0.txt\n",
            "Skipped as the file: '39837.8.txt' already exists at extracted_articles/39837.8.txt\n",
            "Skipped as the file: '40299.6.txt' already exists at extracted_articles/40299.6.txt\n",
            "Article from URL_ID 40761.4 extracted and saved to extracted_articles/40761.4.txt\n",
            "Article from URL_ID 41223.2 extracted and saved to extracted_articles/41223.2.txt\n",
            "Skipped as the file: '41685.0.txt' already exists at extracted_articles/41685.0.txt\n",
            "Skipped as the file: '42146.8.txt' already exists at extracted_articles/42146.8.txt\n",
            "Skipped as the file: '42608.6.txt' already exists at extracted_articles/42608.6.txt\n",
            "Article from URL_ID 43070.4 extracted and saved to extracted_articles/43070.4.txt\n",
            "Skipped as the file: '43532.2.txt' already exists at extracted_articles/43532.2.txt\n",
            "Skipped as the file: '43994.0.txt' already exists at extracted_articles/43994.0.txt\n",
            "Skipped as the file: '44455.8.txt' already exists at extracted_articles/44455.8.txt\n",
            "Skipped as the file: '44917.6.txt' already exists at extracted_articles/44917.6.txt\n",
            "Skipped as the file: '45379.4.txt' already exists at extracted_articles/45379.4.txt\n",
            "Skipped as the file: '45841.2.txt' already exists at extracted_articles/45841.2.txt\n",
            "Skipped as the file: '46303.0.txt' already exists at extracted_articles/46303.0.txt\n",
            "Skipped as the file: '46764.8.txt' already exists at extracted_articles/46764.8.txt\n",
            "Skipped as the file: '47226.6.txt' already exists at extracted_articles/47226.6.txt\n",
            "Skipped as the file: '47688.4.txt' already exists at extracted_articles/47688.4.txt\n",
            "Skipped as the file: '48150.2.txt' already exists at extracted_articles/48150.2.txt\n",
            "Skipped as the file: '48612.0.txt' already exists at extracted_articles/48612.0.txt\n",
            "Skipped as the file: '49073.8.txt' already exists at extracted_articles/49073.8.txt\n",
            "Skipped as the file: '49535.6.txt' already exists at extracted_articles/49535.6.txt\n",
            "Skipped as the file: '49997.4.txt' already exists at extracted_articles/49997.4.txt\n",
            "Skipped as the file: '50459.2.txt' already exists at extracted_articles/50459.2.txt\n",
            "Skipped as the file: '50921.0.txt' already exists at extracted_articles/50921.0.txt\n",
            "Skipped as the file: '51382.8.txt' already exists at extracted_articles/51382.8.txt\n",
            "Skipped as the file: '51844.6.txt' already exists at extracted_articles/51844.6.txt\n",
            "Skipped as the file: '52306.4.txt' already exists at extracted_articles/52306.4.txt\n",
            "Skipped as the file: '52768.2.txt' already exists at extracted_articles/52768.2.txt\n",
            "Extraction completed.\n"
          ]
        }
      ]
    },
    {
      "cell_type": "code",
      "source": [
        "extracted_articles = list(output_dir.glob(\"*\"))\n",
        "print(len(extracted_articles))"
      ],
      "metadata": {
        "colab": {
          "base_uri": "https://localhost:8080/"
        },
        "id": "Jlg-nqi2-Qj3",
        "outputId": "c1e327df-32af-44e1-bf06-25b8fa9630d8"
      },
      "execution_count": 214,
      "outputs": [
        {
          "output_type": "stream",
          "name": "stdout",
          "text": [
            "114\n"
          ]
        }
      ]
    },
    {
      "cell_type": "code",
      "source": [
        "extracted_articles[:5]"
      ],
      "metadata": {
        "colab": {
          "base_uri": "https://localhost:8080/"
        },
        "id": "h3eE24H1OZ6v",
        "outputId": "cc45bc3a-d7fa-46a9-8f07-b9ea8824355a"
      },
      "execution_count": 215,
      "outputs": [
        {
          "output_type": "execute_result",
          "data": {
            "text/plain": [
              "[PosixPath('extracted_articles/40761.4.txt'),\n",
              " PosixPath('extracted_articles/43994.0.txt'),\n",
              " PosixPath('extracted_articles/21827.6.txt'),\n",
              " PosixPath('extracted_articles/35681.6.txt'),\n",
              " PosixPath('extracted_articles/23213.0.txt')]"
            ]
          },
          "metadata": {},
          "execution_count": 215
        }
      ]
    },
    {
      "cell_type": "code",
      "source": [
        "output_df['URL_ID'].nunique()"
      ],
      "metadata": {
        "colab": {
          "base_uri": "https://localhost:8080/"
        },
        "id": "-oaP0ASzMvIZ",
        "outputId": "a683973e-85ba-400b-c7e5-e19cdde76c13"
      },
      "execution_count": 211,
      "outputs": [
        {
          "output_type": "execute_result",
          "data": {
            "text/plain": [
              "114"
            ]
          },
          "metadata": {},
          "execution_count": 211
        }
      ]
    },
    {
      "cell_type": "markdown",
      "source": [
        "**NOTE:** Although we have 114 url_ids yet we are getting 112, so 2 url_ids have failed to fetch, let's look at them."
      ],
      "metadata": {
        "id": "0U4rwilqSy91"
      }
    },
    {
      "cell_type": "code",
      "source": [
        "net_processed_url_ids = set(processed_url_ids1 + processed_url_ids2)\n",
        "len(net_processed_url_ids)"
      ],
      "metadata": {
        "colab": {
          "base_uri": "https://localhost:8080/"
        },
        "id": "ZxNm1LtVTZFG",
        "outputId": "be8fc6ec-2d6b-4782-a8dd-16f59032047a"
      },
      "execution_count": 212,
      "outputs": [
        {
          "output_type": "execute_result",
          "data": {
            "text/plain": [
              "114"
            ]
          },
          "metadata": {},
          "execution_count": 212
        }
      ]
    },
    {
      "cell_type": "code",
      "source": [
        "for index, row in output_df.iterrows():\n",
        "  url = row[\"URL\"]\n",
        "  if url not in net_processed_url_ids:\n",
        "    print(url)"
      ],
      "metadata": {
        "id": "mv0VDV4WNvuq"
      },
      "execution_count": 213,
      "outputs": []
    },
    {
      "cell_type": "markdown",
      "source": [
        "**NOTE:** After manually checking those file it's evident the page doesn't exist, so I will impute them with \"NA\"."
      ],
      "metadata": {
        "id": "h_swDSFeUQAy"
      }
    },
    {
      "cell_type": "code",
      "source": [
        "for article in extracted_articles:\n",
        "  with open(file = article, mode = 'r') as f:\n",
        "      # Read the entire file content\n",
        "      article = f.read()\n",
        "\n",
        "      # Do something with the file content\n",
        "      print(article)\n",
        "      break"
      ],
      "metadata": {
        "id": "7gyjA4VkO7f0",
        "colab": {
          "base_uri": "https://localhost:8080/"
        },
        "outputId": "bb14814d-8ae5-4ff5-a01d-47c586076692"
      },
      "execution_count": 216,
      "outputs": [
        {
          "output_type": "stream",
          "name": "stdout",
          "text": [
            "How COVID-19 is impacting payment preferences?\n",
            "\n",
            "\n",
            "\n",
            "\n",
            "Sunday, October 15, 2023\n",
            "Sign in / Join\n",
            "\n",
            "Search\n",
            "HomeData ScienceBig DataHow COVID-19 is impacting payment preferences?\n",
            "How COVID-19 is impacting payment preferences?\n",
            "By Ajay Bidyarthy\n",
            "June 22, 2020\n",
            "0\n",
            "11943\n",
            "\n",
            "\n",
            "\n",
            "\n",
            "\n",
            "I would rather pay cash – Before COVID-19.\n",
            "I would rather make online payment – After lockdown.\n",
            "During this lockdown, one can observe a number of small positive changes in our surroundings. One such positive change is using online mode of payment even if they are small in amount as it counts as a big step towards DIGITAL INDIA and self-development as well.\n",
            "According to Economic Times, 42% of Indians say that they have started using online mode of payment. Some small tasks like mobile phone recharge, bill payments, buying groceries, etc., are some essential tasks that cannot be ignored, and making an online payment is way too convenient for them. Also, multiple schemes have been initiated by the government to promote online payments like Lucky Grahak Yojana and Digi Dhan Vyapari Yojana. The details of the same are as follows:\n",
            "LUCKY GARHAK YOJANA\n",
            "A daily reward of Rs 1000 to be given to 15,000 lucky consumers for a period of 100 days.People who use the online mode of payments will get weekly prizes worth Rs 1 lakh, Rs 10,000 and Rs 5,000. (All types of online transactions will be included in this.)\n",
            "DIGI DHAN VYAPARI\n",
            "Prizes for Merchants for all digital transactions.Rs 50,000, Rs 5,000, and Rs 2,500 will be provided weekly.\n",
            "The frequently used apps by the consumers and the market share of apps are as follows:\n",
            "Paytm- 33%\n",
            "Google Pay- 14%\n",
            "PhonePe- 4%\n",
            "Amazon Pay- 10%\n",
            "BHIM- 6%\n",
            "Other Apps- 33%\n",
            "Not only the sellers but also the buyers have taken a step forward in making online payments and have been exploring the various offers and discounts. The sellers have started their own online shops and made online payment mandatory in highly contaminated zones. The buyer has also taken advantage of home deliveries to follow social distancing. To add to the advantage of buyers and sellers KYC is no more a necessity to make money transfers.\n",
            "There has been an increase in the services provided by banking sectors as well. The FM Nirmala Sitharaman has provided the directions to not charge for cash withdrawals from ATM’s. Various services like sending and receiving money, blocking cards, credit card payments, credit card pins, etc., are being provided online.\n",
            "E-payment options like Paytm, etc., have been open up for investing money online in stocks, insurance, etc. Even online shopping apps like Amazon have come up with various offers for their in-built wallets.\n",
            "Emerging technologies and high competition among online payment apps are providing benefits to buyers and sellers as well. Sellers have been able to increase their reach with online shops and online payment stands as a guarantee for them. Buyers have been in the most advantageous position ever after the digital payment has come into the market. They are being provided with a number of choices to choose from as well as make instant payments for offers. This all sums up the likeliness of digital payment in the market. So yes, we can say, YOU (DIGITAL PAYMENT) HAVE A BRILLANT FUTURE, CHILD!\n",
            "We all have heard this statement “Precaution is better than cure” and here is the time to follow the same. It has been proven as a fact that the coronavirus can persist on paper for four or five days. That means the coronavirus can persist on the paper currency for four or five days. Thus, it is important to avoid the usage of paper currency.\n",
            "A revolution will take place only when the below poverty population of India will start using the online mode of payment and will be literate enough to not get caught in any scam.\n",
            "Blackcoffer Insights 18: Himanshi Kalota, Shri Ram College of Commerce (Delhi)\n",
            "\n",
            "Previous articleContribution of handicrafts (Visual Arts & Literature) in the Indian economyNext articleImpact of COVID-19 pandemic on Tourism & Aviation industries\n",
            "Ajay Bidyarthy\n",
            "\n",
            "\n"
          ]
        }
      ]
    },
    {
      "cell_type": "markdown",
      "source": [
        "# Text Analysis"
      ],
      "metadata": {
        "id": "PDtNb19TCvD8"
      }
    },
    {
      "cell_type": "code",
      "source": [
        "master_dictionary_path = Path(\"/content/MasterDictionary\")\n",
        "stopwords_path = Path(\"/content/StopWords\")\n",
        "\n",
        "master_dictionary_files = list(master_dictionary_path.glob(\"*\"))\n",
        "stopwords_files = list(stopwords_path.glob(\"*\"))"
      ],
      "metadata": {
        "id": "ylAqiYLc9VjM"
      },
      "execution_count": 217,
      "outputs": []
    },
    {
      "cell_type": "code",
      "source": [
        "print(f\"{len(master_dictionary_files)}: {master_dictionary_files}\")\n",
        "print(f\"{len(stopwords_files)}, {stopwords_files}\")"
      ],
      "metadata": {
        "colab": {
          "base_uri": "https://localhost:8080/"
        },
        "id": "iThBt0hCoMlV",
        "outputId": "8f54f363-36e5-40e6-d18e-3e94eefd1450"
      },
      "execution_count": 218,
      "outputs": [
        {
          "output_type": "stream",
          "name": "stdout",
          "text": [
            "2: [PosixPath('/content/MasterDictionary/negative-words.txt'), PosixPath('/content/MasterDictionary/positive-words.txt')]\n",
            "7, [PosixPath('/content/StopWords/StopWords_GenericLong.txt'), PosixPath('/content/StopWords/StopWords_Auditor.txt'), PosixPath('/content/StopWords/StopWords_Names.txt'), PosixPath('/content/StopWords/StopWords_Geographic.txt'), PosixPath('/content/StopWords/StopWords_Generic.txt'), PosixPath('/content/StopWords/StopWords_Currencies.txt'), PosixPath('/content/StopWords/StopWords_DatesandNumbers.txt')]\n"
          ]
        }
      ]
    },
    {
      "cell_type": "markdown",
      "source": [
        "## Load Positive and Negative Words"
      ],
      "metadata": {
        "id": "V8mHxdUQC1If"
      }
    },
    {
      "cell_type": "code",
      "source": [
        "positive_words_file = master_dictionary_files[1]\n",
        "negative_words_file = master_dictionary_files[0]"
      ],
      "metadata": {
        "id": "3cCoK97mBcjl"
      },
      "execution_count": 219,
      "outputs": []
    },
    {
      "cell_type": "code",
      "source": [
        "print(f\"positive_words_file: {positive_words_file}\")\n",
        "print(f\"negative_words_file: {negative_words_file}\")"
      ],
      "metadata": {
        "colab": {
          "base_uri": "https://localhost:8080/"
        },
        "id": "L-UkpF5XoPYp",
        "outputId": "8e2651db-bf0c-4a94-e687-a61385fc960b"
      },
      "execution_count": 220,
      "outputs": [
        {
          "output_type": "stream",
          "name": "stdout",
          "text": [
            "positive_words_file: /content/MasterDictionary/positive-words.txt\n",
            "negative_words_file: /content/MasterDictionary/negative-words.txt\n"
          ]
        }
      ]
    },
    {
      "cell_type": "code",
      "source": [
        "# Load the custom stop words files\n",
        "custom_stopwords = set()\n",
        "for file in stopwords_files:\n",
        "    with open(file = file, mode = \"r\", encoding = 'utf-8', errors = 'ignore') as f:\n",
        "        custom_stop_words.update(f.read().splitlines())\n",
        "\n",
        "custom_stopwords = set( word.lower() for word in custom_stopwords)"
      ],
      "metadata": {
        "id": "iVSBrDhHI545"
      },
      "execution_count": 221,
      "outputs": []
    },
    {
      "cell_type": "code",
      "source": [
        "print(f\"{len(custom_stopwords)}: {custom_stopwords}\")"
      ],
      "metadata": {
        "colab": {
          "base_uri": "https://localhost:8080/"
        },
        "id": "Sm9NgKnKZxo4",
        "outputId": "7ea51fa9-433f-44ab-d547-993a32d4435c"
      },
      "execution_count": 222,
      "outputs": [
        {
          "output_type": "stream",
          "name": "stdout",
          "text": [
            "0: set()\n"
          ]
        }
      ]
    },
    {
      "cell_type": "code",
      "source": [
        "# Initialize sets for positive and negative words\n",
        "positive_words = set()\n",
        "negative_words = set()\n",
        "\n",
        "# Load positive words\n",
        "with open(positive_words_file, \"r\") as f:\n",
        "  positive_words.update(f.read().splitlines())\n",
        "\n",
        "# Load negative words\n",
        "with open(negative_words_file, \"r\", encoding='utf-8', errors='ignore') as f:\n",
        "  negative_words.update(f.read().splitlines())\n",
        "\n",
        "positive_words = set(word.lower() for word in positive_words)\n",
        "negative_words = set(word.lower() for word in negative_words)"
      ],
      "metadata": {
        "id": "DGIKOFbxDLU1"
      },
      "execution_count": 223,
      "outputs": []
    },
    {
      "cell_type": "code",
      "source": [
        "print(f\"positive_words: {len(positive_words)} {positive_words}\")\n",
        "print(f\"negative_words: {len(negative_words)} {negative_words}\")"
      ],
      "metadata": {
        "colab": {
          "base_uri": "https://localhost:8080/"
        },
        "id": "fA4fbf8aZvpW",
        "outputId": "6cf348d8-1b7a-4596-b06b-8bae8be1d300"
      },
      "execution_count": 224,
      "outputs": [
        {
          "output_type": "stream",
          "name": "stdout",
          "text": [
            "positive_words: 2006 {'solicitously', 'inviolate', 'flashy', 'luminous', 'flexibility', 'permissible', 'succes', 'abundant', 'credence', 'mercifully', 'realizable', 'blockbuster', 'convenience', 'unwavering', 'revive', 'patient', 'creative', 'unrivaled', 'idol', 'prominent', 'simplest', 'improvement', 'excitedly', 'futurestic', 'effusive', 'perfection', 'diligence', 'impartial', 'easiest', 'compatible', 'stylish', 'best-performing', 'beckon', 'dynamic', 'rapture', 'resounding', 'acclaim', 'comprehensive', 'exceptional', 'encouragement', 'renown', 'brainy', 'ambitious', 'innovation', 'solicitous', 'sustainable', 'clean', 'unbound', 'proactive', 'unequivocally', 'spotless', 'vouch', 'beautify', 'good', 'beneficiary', 'boundless', 'preeminent', 'envious', 'trusting', 'enjoyable', 'rejuvenated', 'reasonably', 'guiltless', 'responsibly', 'amiability', 'maturity', 'promise', 'spontaneous', 'cleaner', 'improved', 'overtaken', 'peerless', 'rockstar', 'feature-rich', 'fearless', 'magnanimous', 'luckiest', 'famous', 'heroically', 'bountiful', 'recommendations', 'idolized', 'superior', 'gratify', 'timely', 'shiny', 'nice', 'amity', 'speedy', 'worked', 'preferring', 'righteousness', 'stimulates', 'generous', 'unmatched', 'finely', 'nourishment', 'softer', 'hands-down', 'pros', 'retractable', 'luckiness', 'foremost', 'excellently', 'delightful', 'fast-growing', 'fabulously', 'energize', 'modest', 'eyecatching', 'advocates', 'deginified', 'sweeten', 'champion', 'correct', 'dreamland', 'mesmerize', 'coherent', 'counter-attack', 'defeats', 'blameless', 'keenness', 'lavishly', 'well-behaved', 'sprightly', 'low-cost', 'precise', 'magnificent', 'exult', 'blossom', 'motivated', 'sincere', 'paradise', 'strong', 'conveniently', 'beckons', 'outshine', 'plush', 'outstanding', 'reforms', 'inspirational', 'honor', 'soundly', 'enlighten', 'gem', 'improvements', 'sumptuousness', 'intimate', 'dexterous', 'sweetly', 'pure', 'satisfied', 'non-violent', 'unaffected', 'adulatory', 'relent', 'outshone', 'revelation', 'gracious', 'flattering', 'problem-solver', 'staunchly', 'integral', 'surreal', 'well-backlit', 'idyllic', 'long-lasting', 'hilarious', 'illustrious', 'convient', 'unfettered', 'believable', 'pleasingly', 'intelligence', 'tougher', 'enticing', 'accommodative', 'impartially', 'carefree', 'likable', 'steadfastness', 'dominates', 'majesty', 'sweeping', 'elegant', 'compliant', 'entertaining', 'cooperative', 'rewardingly', 'acumen', 'kindness', 'survivor', 'peace', 'variety', 'willingly', 'merriment', 'peacekeepers', 'triumph', 'uphold', 'overtaking', 'groundbreaking', 'fortunately', 'adored', 'intuitive', 'breathtakingly', 'prefer', 'inventive', 'superb', 'rational', 'astonishingly', 'affectionate', 'irreplaceable', 'notably', 'world-famous', 'compactly', 'restructure', 'respectfully', 'masterpieces', 'rapt', 'feisty', 'flawlessly', 'authentic', 'winnable', 'merit', 'honoring', 'effectual', 'rejoice', 'ease', 'leads', 'hale', 'handsome', 'indulgent', 'humane', 'plentiful', 'apotheosis', 'superiority', 'thrilled', 'trusted', 'dirt-cheap', 'endear', 'serenity', 'amazingly', 'economical', 'pampers', 'refresh', 'glowing', 'deference', 'adroit', 'correctly', 'gaining', 'adoringly', 'humorously', 'youthful', 'spellbindingly', 'available', 'spellbind', 'nourishing', 'radiant', 'spiritual', 'restructuring', 'poetic', 'staunchness', 'illuminate', 'persevere', 'well-intentioned', 'serene', 'fertile', 'resilient', 'unquestionable', 'exceeded', 'conciliate', 'wonders', 'stimulating', 'flatteringly', 'unabashed', 'worth-while', 'amazes', 'pleasurable', 'luxurious', 'brilliant', 'sincerely', 'awarded', 'valuable', 'sensational', 'adulate', 'tingle', 'unselfish', 'coherence', 'remarkable', 'capably', 'gems', 'terrific', 'whoooa', 'inspiring', 'luxuriously', 'pleased', 'exhilaratingly', 'indebted', 'respect', 'personages', 'justly', 'god-send', 'achievement', 'eventful', 'lionhearted', 'contentment', 'gallant', 'chivalry', 'progressive', 'slick', 'humility', 'excellence', 'upgradeable', 'sensations', 'diligent', 'fast-paced', 'workable', 'unfazed', 'inspiration', 'idealize', 'sagely', 'modern', 'innocuous', 'stability', 'wowing', 'openly', 'advantageously', 'prosper', 'endearing', 'dashing', 'bolster', 'gorgeously', 'propitiously', 'accomplishment', 'accomplished', 'relish', 'innovative', 'neatest', 'useable', 'fairly', 'first-rate', 'supporting', 'enthusiasm', 'enjoy', 'enticed', 'contribution', 'audibly', 'loyal', 'welcome', 'poeticize', 'cornerstone', 'daringly', 'energy-saving', 'ftw', 'punctual', 'dominate', 'geeky', 'impressively', 'miracles', 'rosy', 'acclamation', 'loyalty', 'humorous', 'replaceable', 'profound', 'radiance', 'enrichment', 'felicitate', 'scenic', 'ebullience', 'productive', 'affable', 'purposeful', 'sleek', 'succeed', 'congratulation', 'ergonomical', 'blissfully', 'respectable', 'civilize', 'excite', 'boost', 'compassionate', 'mesmerizingly', 'prolific', 'stabilize', 'thrilling', 'flexible', 'trustworthy', 'nourish', 'fascination', 'earnest', 'readily', 'sharpest', 'enviousness', 'euphorically', 'selective', 'dignify', 'luster', 'savior', 'beautifullly', 'frolic', 'humourous', 'brighter', 'ecstasies', 'amenity', 'conscientious', 'recovery', 'efficient', 'top-notch', 'decent', 'sweetness', 'salutary', 'captivating', 'magnanimously', 'favorable', 'enviable', 'proficient', 'hallmarks', 'respectful', 'survival', 'empathy', 'rewarding', 'seasoned', 'golden', 'marvelously', 'staunch', 'excellency', 'affinity', 'aver', 'unbiased', 'playful', 'enthralled', 'steadiness', 'raptureously', 'upscale', 'fans', 'masterful', 'sensible', 'richer', 'providence', 'adaptive', 'masters', 'supremely', 'affordably', 'impressed', 'restful', 'smartly', 'refreshed', 'high-quality', 'marvellous', 'rapid', 'regal', 'securely', 'overtook', 'exalting', 'easing', 'well-run', 'magic', 'roomier', 'logical', 'inspire', 'swift', 'viewable', 'exhilaration', 'felicity', 'gaily', 'invaluable', 'well-regarded', 'swiftness', 'bless', 'danken', 'gained', 'hotcakes', 'nurturing', 'honored', 'overtakes', 'strikingly', 'openness', 'temptingly', 'consistently', 'feat', 'stupendous', 'raptureous', 'lawfully', 'commitment', 'spectacular', 'festive', 'promising', 'delicate', 'complements', 'woo', 'marvels', 'immense', 'mercy', 'fame', 'comely', 'ingenious', 'noiseless', 'positives', 'amazed', 'conciliatory', 'revolutionize', 'readable', 'well-balanced', 'excitement', 'clears', 'jubiliant', 'user-friendly', 'elate', 'distinctive', 'godsend', 'hotcake', 'skillfully', 'attraction', 'faultless', 'crisper', 'revolutionary', 'supurb', 'elated', 'tickle', 'maturely', 'pinnacle', 'sufficient', 'wonderful', 'clearer', 'enthusiastically', 'painlessly', 'rejoicing', 'peach', 'heroic', 'politeness', 'reassure', 'convincingly', 'helpful', 'brotherly', 'courage', 'fair', 'cleverly', 'rectify', 'opulent', 'cajole', 'swankiest', 'swanky', 'righteous', 'paramount', 'exemplary', 'revel', 'ingenuity', 'unabashedly', 'goood', 'obsessions', 'satisified', 'hardy', 'smoothly', 'sensation', 'elevate', 'glow', 'achievible', 'encouraging', 'better', 'monumental', 'roomy', 'jubilantly', 'peacefully', 'gooood', 'firmer', 'usable', 'handsomely', 'exultation', 'prudence', 'reform', 'versatile', 'perfect', 'proven', 'whoa', 'abound', 'ultra-crisp', 'courtly', 'eulogize', 'regally', 'valor', 'titillating', 'pleasure', 'enchantingly', 'gorgeous', 'indulgence', 'titillate', 'super', 'warmth', 'harmoniously', 'capable', 'hail', 'renewed', 'unequivocal', 'aspirations', 'solace', 'fervor', 'cure-all', 'deserving', 'easygoing', 'great', 'blessing', 'eye-catching', 'state-of-the-art', 'preferable', 'effectiveness', 'geekier', 'defeating', 'jovial', 'zenith', 'excellent', 'charming', 'promoter', 'sensibly', 'maneuverable', 'brighten', 'appreciable', 'palatial', 'fascinating', 'thrill', 'effusiveness', 'revival', 'avid', 'patiently', 'glamorous', 'unbeatable', 'faith', 'dummy-proof', 'prefered', 'godlike', 'ambitiously', 'joyful', 'loved', 'profusion', 'honest', 'multi-purpose', 'rich', 'upliftment', 'appreciated', 'admiringly', 'expansive', 'assuredly', 'ilu', 'excelent', 'supple', 'glee', 'efficiently', 'amuse', 'zippy', 'hallmark', 'afford', 'refined', 'cool', 'snazzy', 'priceless', 'rectifying', 'blithe', 'constructive', 'genius', 'agreeableness', 'awed', 'eloquence', 'graciously', 'advantageous', 'masterpiece', 'sociable', 'amazing', 'altruistic', 'popular', 'oasis', 'chic', 'pampered', 'spirited', 'poised', 'reliably', 'suffices', 'ideal', 'effortlessly', 'eye-catch', 'adorable', 'talented', 'admire', 'delectable', 'altruistically', 'distinction', 'goodwill', 'astoundingly', 'safe', 'benefactor', 'gold', 'responsive', 'fabulous', 'vigilant', 'flutter', 'exceed', 'impeccably', 'clear-cut', 'exuberance', 'heavenly', 'entrust', 'breathlessness', 'like', 'receptive', 'reconcile', 'awesomely', 'charm', 'restored', 'silent', 'pleases', 'robust', 'success', 'awards', 'terrifically', 'energy-efficient', 'lavish', 'nicer', 'laud', 'cost-saving', 'astonishing', 'decisive', 'gifted', 'work', 'gaiety', 'perfectly', 'foolproof', 'glad', 'ingenuously', 'wondrous', 'law-abiding', 'toughest', 'fantastic', 'astounding', 'gratitude', 'stable', 'a+', 'upbeat', 'outperforms', 'cohesive', 'ebulliently', 'expeditiously', 'cleanliness', 'comfortably', 'valiantly', 'backbone', 'suffice', 'cost-effective', 'fine', 'unlimited', 'affably', 'lucky', 'neatly', 'generously', 'helped', 'soft', 'insightful', 'intrigue', 'hot', 'worthy', 'enjoyment', 'grandeur', 'beutifully', 'merry', 'adventuresome', 'affluent', 'classy', 'rock-star', 'plusses', 'extol', 'premier', 'fashionable', 'tops', 'advocated', 'jaw-droping', 'integrated', 'comfortable', 'elan', 'outdo', 'effusively', 'acclaimed', 'lush', 'embolden', 'breeze', 'diversified', 'lovable', 'marvel', 'auspicious', 'victory', 'accolades', 'lyrical', 'grand', 'calmness', 'assure', 'prosperity', 'smarter', 'perseverance', 'simpler', 'enticingly', 'guidance', 'extraordinary', 'worthwhile', 'grace', 'distinguished', 'fruitful', 'stellarly', 'irresistible', 'defeat', 'thinner', 'nicely', 'commendable', 'truthful', 'tantalize', 'savings', 'merciful', 'low-priced', 'enthusiastic', 'easy', 'unreal', 'earnestness', 'ennoble', 'preferably', 'glistening', 'poignant', 'amply', 'tranquil', 'futuristic', 'beautiful', 'resolute', 'trumpet', 'prudently', 'wealthy', 'resound', 'subsidizes', 'clear', 'shine', 'cure', 'empathize', 'breakthroughs', 'marvelled', 'quieter', 'promised', 'thank', 'charmingly', 'successful', 'educated', 'wisdom', 'stainless', 'user-replaceable', 'heartily', 'erudite', 'liberty', 'ready', 'trusty', 'freedoms', 'infallibly', 'smoothes', 'intricate', 'liberate', 'undisputable', 'memorable', 'optimal', 'trustworthiness', 'divinely', 'fave', 'profoundly', 'speedily', 'astonishment', 'jubilation', 'catchy', 'enrapture', 'stylized', 'overture', 'flourishing', 'dominated', 'marvelousness', 'spellbinding', 'celebrate', 'champ', 'sturdier', 'buoyant', 'self-satisfaction', 'empowerment', 'encourage', 'holy', 'properly', 'favorited', 'adventurous', 'jollify', 'outperformed', 'low-price', 'tolerable', 'ecstatic', 'won', 'admiration', 'standout', 'suavely', 'accolade', 'complemented', 'hug', 'succeeding', 'remission', 'captivate', 'harmonious', 'trivially', 'stately', 'harmless', 'refine', 'assurances', 'fastest', 'thrift', 'exemplar', 'miraculously', 'prodigiously', 'profuse', 'prettily', 'soulful', 'large-capacity', 'glitter', 'ardor', 'glowingly', 'accomplishments', 'cozy', 'record-setting', 'inviolable', 'instrumental', 'well-established', 'unencumbered', 'proving', 'smitten', 'luxuriate', 'saint', 'willing', 'reliable', 'rightness', 'insightfully', 'appropriate', 'prodigy', 'thoughtful', 'accurately', 'glimmer', 'sagacity', 'panoramic', 'virtuous', 'meritorious', 'shimmering', 'energetic', 'well-wishers', 'exultant', 'empower', 'prudent', 'peaceable', 'proper', 'witty', 'privileged', 'outstandingly', 'abounds', 'brisk', 'simplify', 'light-hearted', 'better-than-expected', 'visionary', 'engaging', 'romantic', 'ecstasy', 'enhancement', 'nobly', 'endorse', 'industrious', 'prosperous', 'quiet', 'congratulate', 'mastery', 'mesmerizing', 'smilingly', 'fresh', 'undisputed', 'reputation', 'revitalize', 'sumptuously', 'splendor', 'loves', 'statuesque', 'fragrant', 'gallantly', 'treasure', 'thumb-up', 'togetherness', 'striving', 'smoother', 'prodigious', 'convenient', 'engrossing', 'optimistic', 'patriotic', 'precious', 'topnotch', 'beauteous', 'doubtless', 'daring', 'irreproachable', 'resourcefulness', 'beckoning', 'well-informed', 'achievements', 'credible', 'well-mannered', 'humour', 'attune', 'merrily', 'positive', 'comfort', 'favor', 'venerate', 'kindly', 'honesty', 'favour', 'invulnerable', 'evaluative', 'beneficially', 'elegance', 'tidy', 'secure', 'evocative', 'invigorate', 'outwit', 'comfy', 'enchanted', 'prospros', 'modesty', 'adequate', 'classic', 'sumptuous', 'adoring', 'exceptionally', 'delicacy', 'ample', 'dazzle', 'clearly', 'endorsement', 'talent', 'desiring', 'recommend', 'enhances', 'ardently', 'greatness', 'outstrip', 'heaven', 'rapturously', 'piety', 'luckier', 'stimulative', 'authoritative', 'unforgettable', 'heal', 'stunning', 'well-managed', 'elatedly', 'jaw-dropping', 'jubilant', 'fascinatingly', 'upheld', 'lovably', 'foresight', 'prowess', 'virtue', 'steadfast', 'achievable', 'entice', 'counter-attacks', 'meaningful', 'booming', 'exalted', 'gleefully', 'joyfully', 'hospitable', 'purify', 'affability', 'recover', 'expertly', 'simplified', 'nicest', 'applaud', 'titillatingly', 'delicious', 'uplift', 'flawless', 'self-respect', 'vivid', 'vouchsafe', 'desirous', 'gracefully', 'healthful', 'pepping', 'eminent', 'interesting', 'incredibly', 'dote', 'brainiest', 'ebullient', 'impressive', 'elation', 'brilliances', 'exceled', 'twinkly', 'wonderously', 'dependably', 'exaltingly', 'feasible', 'vibrant', 'vivacious', 'affection', 'amazement', 'cleanest', 'thumbs-up', 'darling', 'rejuvenate', 'enjoying', 'remarkably', 'mind-blowing', 'wise', 'poise', 'comforting', 'equitable', 'joyous', 'reasonable', 'splendidly', 'passion', 'illumine', 'glisten', 'unity', 'imaginative', 'charismatic', 'err-free', 'propitious', 'unconditional', 'wonder', 'dead-on', 'outperforming', 'easier', 'diplomatic', 'stellar', 'pleasantly', 'wisely', 'thoughtfully', 'sexy', 'rapport', 'cherished', 'productively', 'wholeheartedly', 'refinement', 'streamlined', 'gains', 'dazzled', 'coolest', 'galore', 'ovation', 'luxuriant', 'clever', 'superbly', 'magnificence', 'confidence', 'dignified', 'mesmerized', 'surpass', 'gloriously', 'recomend', 'effusion', 'calming', 'consistent', 'complimentary', 'winners', 'finer', 'pleasurably', 'invigorating', 'laudable', 'trust', 'wow', 'navigable', 'useful', 'liking', 'tough', 'likes', 'virtuously', 'gentle', 'outdone', 'spellbound', 'well-received', 'electrify', 'colorful', 'trump', 'reasoned', 'fortuitously', 'stirringly', 'savvy', 'reverent', 'well-being', 'fortitude', 'happiness', 'exuberantly', 'delight', 'thriving', 'aspiration', 'reconciliation', 'brand-new', 'trouble-free', 'passionately', 'stimulate', 'reward', 'matchless', 'simplifies', 'amiabily', 'hallowed', 'smiles', 'judicious', 'awesome', 'admirably', 'ameliorate', 'complementary', 'beloved', 'gladness', 'solidarity', 'gratified', 'thrive', 'fresher', 'redeeming', 'exhilarating', 'accessable', 'cheapest', 'attractive', 'problem-free', 'danke', 'continuity', 'happy', 'lucrative', 'revives', 'saver', 'traction', 'revere', 'faithfully', 'kudos', 'zest', 'joy', 'adulation', 'assurance', 'sweetheart', 'quicker', 'trendy', 'agreeable', 'shimmeringly', 'consummate', 'enrich', 'glorify', 'manageable', 'pluses', 'hero', 'intriguingly', 'overtake', 'resourceful', 'gladden', 'immaculately', 'realistic', 'freed', 'pamperedly', 'happily', 'supurbly', 'famously', 'accessible', 'appreciate', 'recommended', 'peps', 'grateful', 'valiant', 'bargain', 'winning', 'destiny', 'top-quality', 'inexpensive', 'smile', 'rejoicingly', 'exellent', 'dumbfounding', 'effortless', 'prize', 'eyecatch', 'suave', 'excites', 'noble', 'cushy', 'attractively', 'fidelity', 'verifiable', 'knowledgeable', 'top', 'excel', 'faithful', 'warmer', 'fun', 'courageous', 'polished', 'bloom', 'cheery', 'invincible', 'powerfully', 'spacious', 'adore', 'remunerate', 'astutely', 'gentlest', 'imaculate', 'low-risk', 'peaceful', 'agreeably', 'picturesque', 'patriot', 'amaze', 'polite', 'upgraded', 'ingeniously', 'enlightenment', 'tenacious', 'enhance', 'adaptable', 'impeccable', 'lustrous', 'redemption', 'jubilate', 'deservedly', 'overjoyed', 'preferes', 'risk-free', 'fondly', 'charisma', 'satisfactorily', 'satisfy', 'divine', 'balanced', 'fancy', 'regard', 'swank', 'fastest-growing', 'soothingly', 'admirable', 'gusto', 'genial', 'brave', 'affirmation', 'tremendously', 'prestige', 'rock-stars', 'first-in-class', 'entranced', 'rightful', 'enliven', 'cleared', 'immaculate', 'elegantly', 'fluent', 'cashbacks', 'gumption', 'invaluablely', 'improving', 'exuberant', 'noteworthy', 'suitable', 'time-honored', 'hooray', 'formidable', 'amicability', 'ardent', 'easiness', 'euphoria', 'miraculousness', 'adjustable', 'warm', 'advantage', 'progress', 'pepped', 'exquisitely', 'reformed', 'adroitly', 'glorious', 'enhanced', 'miraculous', 'revolutionizes', 'excited', 'warmhearted', 'mesmerizes', 'confident', 'eminence', 'fondness', 'eagerly', 'feasibly', 'instructive', 'revolutionized', 'articulate', 'complement', 'supports', 'cooperatively', 'lower-priced', 'worthiness', 'subsidizing', 'saintly', 'straighten', 'momentous', 'headway', 'pretty', 'cheerful', 'trustingly', 'courageously', 'delighted', 'enraptured', 'friendly', 'tempt', 'fantastically', 'portable', 'excels', 'enthuse', 'keen', 'endorsed', 'benefits', 'brilliance', 'well-positioned', 'heartening', 'lead', 'cohere', 'examplar', 'praiseworthy', 'brightest', 'powerful', 'straightforward', 'faster', 'irresistibly', 'extraordinarily', 'beauty', 'inpressed', 'skill', 'bonus', 'benifits', 'levity', 'loveliness', 'impartiality', 'endorsing', 'decisiveness', 'smiling', 'heartfelt', 'agility', 'astound', 'relief', 'chivalrous', 'kindliness', 'exultingly', 'surmount', 'dotingly', 'dawn', 'well-educated', 'fiery', 'well-bred', 'facilitate', 'handy', 'liberation', 'lively', 'angelic', 'intelligent', 'cute', 'detachable', 'sensationally', 'concise', 'reachable', 'defender', 'ecstatically', 'hearten', 'gutsy', 'amicable', 'humor', 'cashback', 'well-known', 'dexterously', 'marveled', 'blissful', 'god-given', 'love', 'astounded', 'lucidly', 'convienient', 'exquisite', 'romanticize', 'playfully', 'cuteness', 'rightfully', 'wonderous', 'entrancing', 'compassion', 'well-connected', 'protective', 'reassurance', 'idolize', 'tranquility', 'transparent', 'commendably', 'fervently', 'tantalizing', 'finest', 'dumbfounded', 'ingenuous', 'cherub', 'infallibility', 'smooth', 'works', 'steadfastly', 'tender', 'glitz', 'vigilance', 'guarantee', 'rejuvenating', 'proves', 'non-violence', 'righten', 'autonomous', 'inestimable', 'agilely', 'free', 'decency', 'lighter', 'luxury', 'appreciates', 'bonuses', 'tenaciously', 'windfall', 'faithfulness', 'exceedingly', 'commend', 'delightfully', 'triumphantly', 'victorious', 'enviously', 'envy', 'compliment', 'congenial', 'first-class', 'breathtaking', 'heroine', 'endorses', 'clarity', 'eagerness', 'enterprising', 'evenly', 'enjoyed', 'harmony', 'jolly', 'instantly', 'euphoric', 'exceeds', 'appealing', 'benevolent', 'impresses', 'humble', 'wowed', 'brilliantly', 'personalized', 'exalt', 'renowned', 'assuring', 'smartest', 'goodly', 'issue-free', 'advantages', 'unrestricted', 'accurate', 'eloquently', 'supported', 'mighty', 'amusingly', 'appeal', 'promptly', 'warmly', 'gratifying', 'lifesaver', 'enthral', 'earnestly', 'amenable', 'master', 'impress', 'celebratory', 'soothe', 'fulfillment', 'veritable', 'reputable', 'laudably', 'succeeded', 'uncomplicated', 'enjoys', 'gainful', 'worth', 'wholesome', 'reforming', 'covenant', 'accomplish', 'stronger', 'gleeful', 'efficacious', 'protection', 'satisfies', 'praise', 'toll-free', 'upgradable', 'intriguing', 'optimism', 'stunned', 'yay', 'defeated', 'encouragingly', 'monumentally', 'qualify', 'invincibility', 'versatility', 'pride', 'thrills', 'cheaper', 'swankier', 'breakthrough', 'romantically', 'fancier', 'beautifully', 'exaltation', 'diligently', 'infallible', 'sturdy', 'eases', 'phenomenal', 'zeal', 'tantalizingly', 'congratulations', 'entertain', 'pain-free', 'gratification', 'nifty', 'congratulatory', 'edify', 'loving', 'restructured', 'astonish', 'heroize', 'willingness', 'righteously', 'lean', 'astonished', 'sufficiently', 'awsome', 'thoughtfulness', 'glimmering', 'steady', 'flourish', 'relaxed', 'healthy', 'winner', 'fecilitous', 'well-made', 'self-sufficient', 'substantive', 'freshest', 'honorable', 'flatter', 'appreciatively', 'right', 'lovely', 'slammin', 'agile', 'easy-to-use', 'rightly', 'supreme', 'reclaim', 'tempting', 'beckoned', 'courageousness', 'hottest', 'bravery', 'qualified', 'sophisticated', 'stupendously', 'benefit', 'afordable', 'leading', 'fervid', 'handier', 'satisfactory', 'amicably', 'obtainable', 'grin', 'celebration', 'miracle', 'sporty', 'reaffirm', 'wonderfully', 'civility', 'leverage', 'positively', 'enrapt', 'bullish', 'gratifies', 'fine-looking', 'legendary', 'outsmart', 'affluence', 'respite', 'improve', 'unassailable', 'charitable', 'dignity', 'exaltedly', 'affordable', 'painless', 'pleasing', 'beneficent', 'fast', 'neat', 'fancinating', 'nimble', 'undaunted', 'chaste', 'tenderly', 'win', 'felicitous', 'bright', 'praising', 'enjoyably', 'recommendation', 'richly', 'appreciative', 'impassioned', 'refund', 'graceful', 'significant', 'resplendent', 'solid', 'believeable', 'boom', 'sufficed', 'angel', 'ethical', 'gladly', 'hopeful', 'happier', 'morality', 'sincerity', 'advocate', 'protect', 'posh', 'unquestionably', 'best-known', 'pamperedness', 'gratifyingly', 'majestic', 'fervent', 'hard-working', 'fearlessly', 'eased', 'sustainability', 'uplifting', 'spectacularly', 'saintliness', 'magical', 'triumphal', 'enough', 'promises', 'high-spirited', 'smoothest', 'subsidized', 'dedicated', 'successfully', 'sensitive', 'rectification', 'courteous', 'better-known', 'masterfully', 'pamper', 'simplifying', 'cherish', 'understandable', 'impressiveness', 'excallent', 'passionate', 'heartwarming', 'undisputably', 'eloquent', 'calm', 'audible', 'razor-sharp', 'desirable', 'avidly', 'dauntless', 'fortunate', 'affectation', 'enthrall', 'homage', 'self-sufficiency', 'affirm', 'exhilarate', 'pep', 'best', 'improves', 'supremacy', 'dead-cheap', 'reaffirmation', 'remedy', 'admirer', 'gainfully', 'skilled', 'supporter', 'subsidize', 'convience', 'fashionably', 'reverently', 'splendid', 'marvelous', 'best-selling', 'rapturous', 'pardon', 'intelligible', 'exonerate', 'helping', 'devout', 'deft', 'peppy', 'talents', 'important', 'compact', 'dextrous', 'durable', 'sane', 'enchanting', 'delightfulness', 'satisfying', 'celebrated', 'glory', 'mature', 'interests', 'privilege', 'awesomeness', 'excitedness', 'genuine', 'goodness', 'amusing', 'redeem', 'enviably', 'meticulously', 'magnificently', 'liked', 'dazzling', 'fanfare', 'elite', 'capability', 'frugal', 'freedom', 'trophy', 'crisp', 'truthfulness', 'wieldy', 'led', 'fairness', 'handily', 'bonny', 'contrasty', 'richness', 'lucid', 'wins', 'affirmative', 'fav', 'fascinate', 'mightily', 'outperform', 'sharp', 'thrillingly', 'awe', 'undamaged', 'excitingly', 'well', 'bliss', 'wows', 'attentive', 'fervidly', 'rockstars', 'self-determination', 'kid-friendly', 'novelty', 'eager', 'gain', 'luck', 'striking', 'advanced', 'vibrantly', 'reverence', 'alluringly', 'pleasant', 'supportive', 'wellbeing', 'admiring', 'proud', 'salute', 'ecenomical', 'examplary', 'aspire', 'unparalleled', 'awestruck', 'sharper', 'illuminati', 'skillful', 'cheer', 'lawful', 'halcyon', 'convincing', 'influential', 'smart', 'favorite', 'harmonize', 'sublime', 'beneficial', 'accomodative', 'inestimably', 'principled', 'strongest', 'pre-eminent', 'keenly', 'excellant', 'heros', 'sparkling', 'sparkle', 'meticulous', 'originality', 'considerate', 'amiable', 'entertains', 'obsession', 'dependable', 'adorer', 'illuminating', 'support', 'refreshing', 'proficiently', 'seamless', 'stunningly', 'thankful', 'cleanly', 'incredible', 'sweet', 'award', 'intimacy', 'lover', 'benevolence', 'bravo', 'ideally', 'snappy', 'succeeds', 'thrifty', 'effectively', 'prestigious', 'upliftingly', 'merriness', 'competitive', 'prominence', 'approval', 'triumphant', 'extoll', 'generosity', 'joyously', 'whooa', 'enchant', 'orderly', 'abundance', 'famed', 'favored', 'effective', 'stylishly', 'friendliness', 'truthfully', 'steadiest', 'successes', 'patience', 'exceeding', 'gratefully', 'alluring', 'soundness', 'fortune', 'tenacity', 'prefers', 'excelled', 'everlasting', 'fortuitous', 'greatest', 'exciting', 'all-around', 'individualized', 'well-rounded', 'enthusiast', 'gush', 'hardier', 'fond', 'approve', 'commodious', 'refunded', 'safely', 'phenomenally', 'prompt', 'quaint', 'renaissance', 'precisely', 'graciousness'}\n",
            "negative_words: 4783 {'traumatized', 'hoax', 'brutalize', 'brash', 'disinclination', 'desperation', 'cheaply', 'criticisms', 'impunity', 'retreated', 'shortage', 'unkind', 'fastidious', 'obscenely', 'woefully', 'embarrass', 'demonizes', 'grainy', 'injudicious', 'lividly', 'lure', 'mispronounced', 'distort', 'perversion', 'setback', 'pittance', 'offensiveness', 'dissatisfied', 'tiringly', 'seething', 'snags', 'nauseatingly', 'crashed', 'frustrating', 'retaliatory', 'unappealing', 'bizarre', 'hefty', 'agonizing', 'gruff', 'prick', 'inconsequentially', 'resentful', 'skeptically', 'freakish', 'discomfititure', 'apprehension', 'complaining', 'draconian', 'forswear', 'restriction', 'audiciously', 'infringement', 'sneering', 'disillusionment', 'disrespectfully', 'dejectedly', 'shirker', 'beg', 'displeased', 'disquietude', 'contaminate', 'rut', 'mist', 'devastated', 'prideful', 'misuse', 'reckless', 'paltry', 'begging', 'degradation', 'slogging', 'repression', 'displeasure', 'little-known', 'revile', 'glum', 'ache', 'accursed', 'accuses', 'embroil', 'beset', 'bust', 'error', 'meanness', 'rust', 'weak', 'deviation', 'wrangle', 'infringements', 'frighteningly', 'antagonism', 'stereotype', 'corrupt', 'inequitably', 'contaminates', 'erodes', 'calumny', 'treacherous', 'inadvisably', 'hurted', 'imbecile', 'squander', 'usurp', 'disquiet', 'usurper', 'bully', 'worn', 'gibber', 'pervert', 'stingingly', 'immature', 'moron', 'dehumanization', 'frets', 'barbaric', 'sicken', 'steeply', 'obsess', 'unrest', 'jeers', 'disadvantaged', 'ill-usage', 'gimmicky', 'catastrophe', 'glare', 'irksome', 'watered-down', 'scandel', 'limited', 'inimical', 'inconsistencies', 'insults', 'unsettling', 'hawkish', 'wack', 'envious', 'anxiously', 'cutthroat', 'disillusions', 'vengeance', 'ruins', 'zombie', 'leaky', 'painfull', 'indoctrinate', 'obsessive', 'dangerous', 'doom', 'cancer', 'depraved', 'hideously', 'scandalous', 'skeptical', 'subjugate', 'irksomenesses', 'sweaty', 'vile', 'baffled', 'ultimatum', 'ploy', 'freezes', 'laughingstock', 'smelled', 'dead', 'scummy', 'sass', 'venom', 'delusions', 'nauseates', 'disloyalty', 'lethargic', 'hiliarious', 'soapy', 'slowwww', 'extinguish', 'traitor', 'puzzling', 'cash-strapped', 'imposers', 'annoyed', 'disappoint', 'unsophisticated', 'wounds', 'cheesy', 'punishable', 'criminal', 'bruise', 'clogged', 'crumpled', 'diametrically', 'grim', 'left-leaning', 'overzealous', 'incognizant', 'lunaticism', 'contradictory', 'motionless', 'ailment', 'desititute', 'fragile', 'idiotic', 'bewilder', 'devilment', 'inane', 'subservient', 'bullshyt', 'hangs', 'unfounded', 'belittled', 'scathing', 'zealously', 'fibber', 'invalid', 'repudiation', 'unworkable', 'garbage', 'steals', 'culpable', 'dissent', 'terrorism', 'atrocities', 'reluctance', 'unjustly', 'creepy', 'misfortune', 'lugubrious', 'loud', 'overstate', 'disapprove', 'polarisation', 'deploringly', 'mistrustful', 'heinous', 'officious', 'passiveness', 'dissention', 'disapointed', 'ambush', 'impermissible', 'surrender', 'badly', 'confront', 'inability', 'impair', 'severe', 'morbid', 'timidly', 'unjust', 'wrongly', 'detracts', 'puzzlement', 'insecure', 'jealousness', 'jitters', 'rattles', 'downfall', 'invisible', 'thwart', 'harmful', 'exhorbitant', 'ruffle', 'tortured', 'acrimonious', 'cringes', 'torturing', 'excuse', 'inflated', 'stooge', 'clamorous', 'disagreeable', 'delude', 'gruesomely', 'demeaning', 'tumultuous', 'wasted', 'betrayals', 'undecided', 'losing', 'oversights', 'unsavory', 'inaccurately', 'brazen', 'insidious', 'bothering', 'wreaks', 'intimidate', 'irritations', 'incongruously', 'reactionary', 'stormy', 'critical', 'racism', 'deplorably', 'messes', 'scum', 'ultra-hardline', 'impulsive', 'irony', 'panick', 'plotters', 'bloodthirsty', 'malicious', 'refusing', 'concern', 'evil', 'exasperate', 'unfortunately', 'bull****', 'violent', 'brutalities', 'famine', 'blabber', 'flares', 'buckle', 'ding', 'illiterate', 'disagreeing', 'intolerance', 'unexplained', 'archaic', 'delinquent', 'exclusion', 'fevers', 'agonizingly', 'floored', 'farcical', 'flirty', 'hell-bent', 'issue', 'imminence', 'aborted', 'disregard', 'staid', 'discrimination', 'trample', 'cranky', 'lonesome', 'slump', 'scarce', 'rollercoaster', 'wary', 'quack', 'ill-tempered', 'avaricious', 'peeved', 'humid', 'revoltingly', 'gaff', 'disquieting', 'fetid', 'undermined', 'injustice', 'nonexistent', 'sully', 'imprudence', 'stealing', 'lurk', 'fatigued', 'inflexible', 'disdainfully', 'complaint', 'despondency', 'dented', 'maliciously', 'misery', 'water-down', 'guiltily', 'insupportably', 'declining', 'denunciations', 'monstrous', 'terror-genic', 'shortness', 'smallish', 'overpaid', 'allergies', 'cruelness', 'irresolute', 'stalemate', 'fumes', 'imprison', 'unrealistic', 'adulterated', 'dejected', 'substandard', 'unresolved', 'fears', 'whimper', 'mocks', 'sarcastically', 'culprit', 'damnation', 'suspiciously', 'lackluster', 'ruthless', 'fundamentalism', 'incessant', 'broken', 'gullible', 'bait', 'fascism', 'hogs', 'offensive', 'spiritless', 'travesties', 'forfeit', 'pity', 'disrespectable', 'doubts', 'adulteration', 'fooled', 'dissolute', 'dodgey', 'prickles', 'inefficacious', 'confounding', 'neglected', 'rumor', 'unjustified', 'weird', 'wilt', 'rogue', 'liable', 'sardonic', 'negligence', 'unprove', 'poor', 'tenuously', 'deformed', 'sluggish', 'fierce', 'noises', 'protests', 'apocalyptic', 'deterrent', 'struggling', 'scold', 'detested', 'unsupported', 'underpowered', 'infraction', 'mortify', 'unuseable', 'dislocated', 'felon', 'jabber', 'exploit', 'incongruous', 'gainsay', 'regrettable', 'fluster', 'fanciful', 'tentative', 'conspire', 'gaudy', 'back-woods', 'mediocrity', 'defamations', 'cringed', 'peeled', 'doomsday', 'boredom', 'boycott', 'annoyances', 'chagrin', 'clunky', 'forsake', 'hurtful', 'brashness', 'fever', 'flawed', 'self-interested', 'cautionary', 'divisive', 'wasting', 'sloppily', 'attack', 'slug', 'time-consuming', 'choleric', 'sloooooooooooooow', 'fatcat', 'graft', 'dizzingly', 'inattentive', 'implicate', 'imprudent', 'dogmatic', 'preposterously', 'tricked', 'erroneously', 'horrendously', 'cloudy', 'spewing', 'breaking', 'ridicule', 'calumniate', 'unfamiliar', 'foolishly', 'irritable', 'distastefully', 'undue', 'bereave', 'unsettlingly', 'uncivil', 'vengeful', 'scandalized', 'disbelieve', 'worries', 'oddity', 'corrosive', 'trashed', 'brood', 'inconceivably', 'catastrophically', 'picky', 'plague', 'destroyer', 'inelegant', 'innuendo', 'pry', 'crisis', 'gimmicking', 'harshly', 'imperfect', 'balk', 'incompatible', 'ineffectiveness', 'flabbergast', 'cringe', 'enmity', 'wedge', 'abort', 'mawkishly', 'decrement', 'jerky', 'torment', 'exasperated', 'harmed', 'languorous', 'debauchery', 'ineffectively', 'insignificantly', 'beggar', 'indulge', 'wicked', 'backwoods', 'superstitious', 'destitute', 'urgent', 'fallen', 'dissapointed', 'troublesomely', 'insufferably', 'irresponsibly', 'offensively', 'insinuating', 'tormented', 'wrought', 'imprecise', 'inflationary', 'confusing', 'unipolar', 'fallacies', 'vindictiveness', 'insincerely', 'ignorant', 'helplessly', 'snagging', 'bemoaning', 'unjustifiable', 'contradict', 'dusty', 'implausibly', 'wild', 'lifeless', 'harassed', 'ricer', 'scant', 'bugs', 'hypocrisy', 'low-rated', 'bleed', 'unequal', 'savage', 'derisive', 'assult', 'hypocricy', 'unrelentingly', 'debaucher', 'incoherently', 'onerous', 'unpleasant', 'fussy', 'fastuous', 'unnerved', 'disgustfully', 'last-ditch', 'debilitate', 'deadbeat', 'precariously', 'loopholes', 'trashy', 'despotic', 'ail', 'crippling', 'criticism', 'effrontery', 'farcical-yet-provocative', 'drains', 'insinuation', 'hell', 'irrecoverableness', 'strain', 'undermining', 'impasse', 'subversion', 'asinine', 'terribly', 'unintelligile', 'ruffian', 'impatient', 'downsides', 'swelled', 'untouched', 'denying', 'morons', 'worryingly', 'hinder', 'cocky', 'fabricate', 'sh*t', 'obstructs', 'disaffect', 'jolt', 'smoulder', 'irrelevant', 'militancy', 'precarious', 'fawningly', 'debt', 'spew', 'scary', 'distorts', 'lamentably', 'inexperienced', 'stew', 'languish', 'unhealthy', 'strictly', 'uprising', 'anti-israeli', 'curses', 'detestably', 'tarnishes', 'wanton', 'hardened', 'obese', 'indecently', 'commonplace', 'catastrophes', 'treacherously', 'bloated', 'irritation', 'hoodium', 'alarmingly', 'rejecting', 'weaknesses', 'inclement', 'distrusting', 'inhibition', 'defiant', 'hardhearted', 'inexorably', 'intefere', 'blasphemy', 'sufferers', 'ordeal', 'pillory', 'bland', 'conceded', 'dubiously', 'funny', 'ignoble', 'impinge', 'irrationals', 'crook', 'grotesque', 'intense', 'ire', 'stringently', 'odor', 'headaches', 'plunder', 'darker', 'loot', 'commotions', 'trivial', 'wickedly', 'apathy', 'bumpy', 'debts', 'inconsolably', 'diabolical', 'corrosion', 'hysterics', 'disavowal', 'throbbing', 'overpower', 'stresses', 'traumatize', 'overdone', 'clog', 'stupidest', 'hoodwink', 'nonresponsive', 'hatefully', 'womanizer', 'dumping', 'floundering', 'complained', 'halfhearted', 'sloppy', 'avariciously', 'stunt', 'vociferous', 'gaffe', 'disapointing', 'bemoan', 'high-priced', 'impoverish', 'accidental', 'ambivalent', 'hegemonistic', 'haywire', 'aggravate', 'disinterested', 'spookily', 'damnable', 'antipathy', 'fatalistically', 'impugn', 'chaff', 'avenge', 'ineloquent', 'insurmountable', 'chore', 'slogs', 'vibrated', 'stringent', 'raked', 'spotty', 'complicit', 'anarchistic', 'disprove', 'hells', 'spite', 'quitter', 'scratched', 'distressingly', 'busybody', 'rebuke', 'lambast', 'ulterior', 'acridly', 'glut', 'denies', 'childish', 'lovelorn', 'incapable', 'profanity', 'ungovernable', 'insidiously', 'overturn', 'boiling', 'confined', 'drippy', 'siege', 'infuriating', 'lost', 'raging', 'accuse', 'stubbornly', 'secretive', 'unqualified', 'besiege', 'limp', 'vainly', 'touchy', 'enraging', 'indiscretion', 'arrogantly', 'demoralizingly', 'rash', 'garish', 'deadly', 'scuff', 'undependability', 'untenable', 'belittle', 'cruelties', 'reprovingly', 'admonishment', 'bragger', 'decline', 'imperil', 'disintegration', 'scars', 'crashing', 'disintegrate', 'stubbornness', 'hideousness', 'absurdly', 'blindside', 'vehemently', 'inefficient', 'setbacks', 'crashes', 'abysmally', 'dope', 'frustrates', 'confess', 'submissive', 'paradoxically', 'horrifies', 'impertinent', 'obscure', 'taint', 'slaughtered', 'sarcasm', 'illusions', 'impudence', 'deceptive', 'scarcity', 'writhe', 'dissuade', 'downturn', 'facetious', 'overwhelmed', 'besmirch', 'disgracefully', 'illegitimate', 'aghast', 'desiccated', 'disingenuously', 'conflicted', 'slowww', 'sty', 'unimportant', 'remorseless', 'awful', 'violator', 'illusory', 'flickering', 'tediously', 'unfulfilled', 'fictional', 'fainthearted', '2-faced', 'alarm', 'lamentable', 'unauthentic', 'fatalistic', 'ached', 'insinuate', 'seedy', 'tenuous', 'sorrowful', 'arrogance', 'enviousness', 'pertinacious', 'explosive', 'pauper', 'sadly', 'infernal', 'misreading', 'flareups', 'seethe', 'funnily', 'illogic', 'futilely', 'insular', 'bombard', 'itchy', 'embroilment', 'sticky', 'cons', 'scandalously', 'inconsequent', 'overkill', 'debauch', 'immoderately', 'instability', 'nonsense', 'rebellious', 'misjudge', 'ugliest', 'hollow', 'struggle', 'racist', 'skeptic', 'strangle', 'tense', 'disagreement', 'breach', 'deceive', 'outrage', 'spoilages', 'smelling', 'monotony', 'misbecome', 'peril', 'uneasily', 'upsetting', 'imprecision', 'infiltrator', 'meager', 'deadlock', 'layoff', 'savages', 'defiler', 'painful', 'martyrdom-seeking', 'immodest', 'defects', 'pugnacity', 'belabor', 'needless', 'disconcerted', 'mistakes', 'capitulate', 'slowly', 'stupified', 'uncooperative', 'inept', 'deteriorate', 'hamper', 'backaches', 'tin-y', 'over-hyped', 'suffering', 'wayward', 'importune', 'drawback', 'irking', 'invidiously', 'naively', 'bulky', 'distaste', 'kills', 'rhapsodize', 'starve', 'fuck', 'detracting', 'reproachful', 'catastrophic', 'gripes', 'displaced', 'hasty', 'impolitely', 'impractical', 'brazenly', 'lowly', 'harm', 'rejects', 'pariah', 'moan', 'pretend', 'blandish', 'impolitic', 'deficiency', 'disobedience', 'exorbitant', 'cannibalize', 'inopportune', 'impaired', 'inexpertly', 'heavy-handed', 'conspicuously', 'injurious', 'admonisher', 'worry', 'sketchy', 'stumps', 'clueless', 'monstrosities', 'oppressively', 'letch', 'noise', 'angriness', 'lecherous', 'hypocritical', 'woebegone', 'villainous', 'congested', 'fragmented', 'falling', 'anxiousness', 'irredeemable', 'quarrels', 'suffocate', 'disproportionate', 'disturbingly', 'hostility', 'perverse', 'abruptly', 'upset', 'disagrees', 'contravene', 'shake', 'invalidity', 'impossibly', 'assassin', 'bored', 'blundering', 'thankless', 'prohibitive', 'prejudicial', 'unable', 'mulish', 'disconsolately', 'disoriented', 'commiserate', 'entangle', 'lech', 'revulsion', 'scoldingly', 'strangely', 'abnormal', 'disabled', 'irreparable', 'haggard', 'blockage', 'misdirection', 'frenzied', 'dripped', 'bungle', 'downcast', 'unproductive', 'incompliant', 'lags', 'annihilation', 'revulsive', 'commotion', 'symptom', 'ineffectual', 'perfidious', 'dripping', 'inadequate', 'blatant', 'unpopular', 'misbehavior', 'indecorum', 'unorthodox', 'abrade', 'ill-defined', 'smouldering', 'impudent', 'diatribe', 'gimmicked', 'pique', 'hypocrite', 'downhearted', 'exasperating', 'furious', 'agonize', 'dismay', 'apprehensions', 'combative', 'degenerately', 'furiously', 'grumpish', 'maddeningly', 'madman', 'pretentious', 'radicals', 'blistering', 'subvert', 'sloow', 'condemned', 'bravado', 'forceful', 'frantic', 'indefensible', 'villianously', 'inescapably', 'downfallen', 'inaction', 'lack', 'eruptions', 'violators', 'moody', 'giddy', 'mortifying', 'disliked', 'mocked', 'myth', 'orphan', 'outcry', 'harrow', 'caustic', 'insubordinate', 'irrecoverably', 'spook', 'desertion', 'hissing', 'heartless', 'senselessly', 'disunity', 'delirious', 'flairs', 'snare', 'unfaithfully', 'mysterious', 'torrent', 'abusive', 'cynical', 'greasy', 'mirage', 'distrustful', 'drawbacks', 'capricious', 'sardonically', 'burned', 'jumpy', 'inordinate', 'botch', 'discouragingly', 'dizzing', 'browbeat', 'irritant', 'fallaciously', 'demonized', 'adamantly', 'chastise', 'syndrome', 'drunkard', 'hallucinate', 'decay', 'err', 'bash', 'bugging', 'panicked', 'uneconomical', 'maladjustment', 'babble', 'bashful', 'fail', 'weaker', 'unsettle', 'anomalous', 'distraught', 'pale', 'unspeakablely', 'decrepit', 'negative', 'entanglement', 'mindlessly', 'afraid', 'forsaken', 'less-developed', 'contempt', 'decadent', 'immorally', 'scarier', 'hypocrites', 'headache', 'antithetical', 'wastefulness', 'disrespect', 'unilateralism', 'hasseling', 'petrified', 'cunt', 'hedonistic', 'struggled', 'unachievable', 'heavyhearted', 'rantingly', 'weirdly', 'rough', 'famished', 'life-threatening', 'unstable', 'pessimism', 'denial', 'derision', 'autocrat', 'horrible', 'unexpected', 'vexingly', 'covetous', 'dissidents', 'deter', 'massacres', 'calumnies', 'pedantic', 'clouding', 'rancor', 'occludes', 'disobey', 'glitches', 'illusion', 'protested', 'cunts', 'shemale', 'precipitate', 'sever', 'spinster', 'derisiveness', 'entrapment', 'skulk', 'obstacle', 'arduously', 'lying', 'inconsiderate', 'undone', 'dinky', 'unresponsive', 'jobless', 'undermine', 'freaks', 'impede', 'overacted', 'crooks', 'preoccupy', 'danger', 'anti-white', 'bulkyness', 'wobbled', 'dispirited', 'indecisively', 'flaunt', 'sickness', 'creak', 'illegally', 'declaim', 'debatable', 'dishonest', 'laughably', 'blather', 'one-sided', 'pernicious', 'ineligible', 'flee', 'deluge', 'dismaying', 'lethargy', 'vindictively', 'dissension', 'penalize', 'indecent', 'disarm', 'fret', 'judders', 'loveless', 'paranoia', 'grumpily', 'grudges', 'aggression', 'flaking', 'terribleness', 'fatuously', 'explode', 'self-interest', 'dislike', 'crowdedness', 'defunct', 'disapointment', 'infest', 'creaking', 'gripe', 'misses', 'inteferes', 'redundancy', 'ruts', 'mire', 'demolish', 'interferes', 'protracted', 'manipulative', 'reluctantly', 'disadvantageous', 'warned', 'rusty', 'falsify', 'niggles', 'uncollectible', 'irks', 'suicidal', 'caricature', 'indistinguishable', 'inflict', 'pervasive', 'stagnate', 'harridan', 'bombardment', 'insubstantially', 'conspicuous', 'fuzzy', 'complex', 'wripping', 'banish', 'ill-treatment', 'wasteful', 'cowardly', 'blasted', 'uproarous', 'cramped', 'filthy', 'slander', 'rusts', 'sickening', 'rattled', 'dying', 'despicable', 'despise', 'hassles', 'unsettled', 'condemnation', 'atrocity', 'critic', 'vileness', 'twisted', 'uncivilized', 'distraughtly', 'incendiary', 'unbearable', 'inapt', 'discordant', 'loathe', 'fathomless', 'sorely', 'stains', 'terrible', 'inconsolable', 'insociable', 'obstinately', 'hiss', 'miser', 'sleazy', 'obliterate', 'prattle', 'domineering', 'craven', 'intolerablely', 'uncreative', 'misguided', 'inevitable', 'fractiously', 'inadverently', 'scarcely', 'infection', 'louder', 'rants', 'corrupts', 'fried', 'broke', 'misleading', 'temper', 'gall', 'belligerently', 'fustigate', 'passe', 'slumping', 'inconsiderately', 'inflammatory', 'defamation', 'flout', 'drags', 'wreak', 'wrongful', 'impulsively', 'dismal', 'deceiver', 'inadequately', 'pandering', 'poorly', 'inaccurate', 'lackey', 'blindingly', 'steep', 'superficiality', 'bruising', 'cramp', 'repulsively', 'flat-out', 'intractable', 'unusually', 'fatally', 'disagreeably', 'draining', 'overawe', 'erratic', 'disputable', 'longingly', 'chaos', 'villains', 'bewilderingly', 'confuse', 'irrational', 'despised', 'pout', 'stampede', 'wrinkles', 'raping', 'hotheaded', 'destruction', 'deceitfully', 'devastate', 'fat', 'irresolvable', 'sinking', 'inevitably', 'cheapen', 'tainted', 'goon', 'appalling', 'dimmer', 'noisier', 'traumatic', 'unruly', 'worse', 'concerns', 'squabble', 'scream', 'tramp', 'sob', 'scare', 'intimidation', 'conflicting', 'mendacious', 'undignified', 'uninsured', 'irretating', 'mendacity', 'expunge', 'haunting', 'silly', 'arcane', 'zaps', 'dirtbag', 'absurdity', 'uncompromisingly', 'inefficacy', 'subtract', 'hysteria', 'quarrel', 'blunder', 'douchbag', 'fretful', 'frighten', 'strife', 'controversy', 'degrading', 'criticizing', 'dangerousness', 'falls', 'irrationalities', 'dictatorial', 'far-fetched', 'lambaste', 'tease', 'wripped', 'fateful', 'indiscriminating', 'impossible', 'violate', 'uneventful', 'daze', 'brutish', 'ghetto', 'screech', 'stunted', 'tumbled', 'upsets', 'shimmy', 'flicker', 'melodramatically', 'ignorance', 'instigate', 'infamously', 'kaput', 'ill-favored', 'acerbically', 'improper', 'virulent', 'absentee', 'cloud', 'shunned', 'degradingly', 'insolvent', 'accusations', 'enrage', 'offenses', 'overwhelming', 'fall', 'aweful', 'interference', 'dismayed', 'decry', 'contagious', 'estranged', 'unemployed', 'corrosions', 'demean', 'blemish', 'hegemonism', 'scandals', 'interruptions', 'devastating', 'abscond', 'disgusting', 'exagerated', 'impatiently', 'harasses', 'chaotic', 'frenzy', 'unforgiving', 'futility', 'lengthy', 'disillusioned', 'embarrassingly', 'evade', 'fatigue', 'humiliation', 'inimically', 'sensationalize', 'fruitlessly', 'glib', 'noisy', 'deluded', 'rumours', 'stain', 'torturously', 'pertinacity', 'lunatic', 'monster', 'listless', 'anxieties', 'petrify', 'stutter', 'self-humiliation', 'fissures', 'heathen', 'dishonestly', 'obstinate', 'ineffective', 'reproach', 'traitorous', 'flirt', 'mobster', 'detract', 'blame', 'growl', 'troublesome', 'disdainful', 'issues', 'intrusion', 'combust', 'incomprehensible', 'impolite', 'sore', 'languor', 'confusion', 'destructive', 'flare', 'misgivings', 'gimmick', 'confounded', 'denunciation', 'incompatibility', 'unsatisfactory', 'grudging', 'distressing', 'outsider', 'fiction', 'rumors', 'desperately', 'fatique', 'hated', 'allergic', 'deride', 'deceit', 'crushed', 'slow', 'prickle', 'spewed', 'sarcastic', 'unconvincingly', 'irregularity', 'scolded', 'screw-up', 'dissemble', 'faltered', 'mordantly', 'loathly', 'inveigle', 'notorious', 'streaky', 'harpy', 'unnecessary', 'crafty', 'spoilled', 'destroy', 'pertinaciously', 'repulsiveness', 'betrays', 'bellicose', 'vagueness', 'contemptuous', 'enervate', 'smoldering', 'imposition', 'biases', 'dire', 'dispute', 'ungrateful', 'oversize', 'refutes', 'despoil', 'unsteadiness', 'victimize', 'feebleminded', 'dejection', 'snobby', 'uncompromising', 'defiantly', 'upbraid', 'abrasive', 'horrified', 'beseech', 'chatter', 'inundate', 'unreachable', 'calamities', 'extremists', 'measly', 'perturb', 'sufferer', 'manipulate', 'paralyzed', 'niggle', 'unyielding', 'bitch', 'wretch', 'anarchist', 'bungling', 'glibly', 'doldrums', 'naughty', 'onslaught', 'over-awe', 'remorselessly', 'frozen', 'disillusion', 'ill-conceived', 'inconceivable', 'imperious', 'depressions', 'irritably', 'questionable', 'lapsed', 'quibble', 'irrelevance', 'selfishly', 'slime', 'pricier', 'misstatement', 'erosion', 'freak', 'irreplacible', 'acridness', 'misunderstand', 'stab', 'arduous', 'detests', 'discriminate', 'coward', 'rifts', 'cruelty', 'mislike', 'din', 'oppress', 'vanity', 'flounder', 'conceit', 'contamination', 'hypocritically', 'precipitous', 'tarnishing', 'divergent', 'matte', 'frigging', 'caustically', 'outmoded', 'solemn', 'shame', 'dreary', 'encroachment', 'fear', 'inflame', 'undissolved', 'harassment', 'laid-off', 'unfunded', 'displeasing', 'evildoer', 'apprehensively', 'distress', 'provocation', 'smuttiest', 'brainwash', 'pointlessly', 'leer', 'bumpping', 'dissembler', 'aversion', 'inefficiency', 'rumple', 'bowdlerize', 'deny', 'damnably', 'draconic', 'conceited', 'heretic', 'ranted', 'inexcusable', 'semi-retarded', 'suppression', 'foully', 'prevaricate', 'fallacious', 'smash', 'perversity', 'lacked', 'lewdly', 'violation', 'downgrade', 'debacle', 'brusque', 'sucker', 'helplessness', 'negligent', 'bothered', 'acrid', 'deprived', 'ragged', 'banalize', 'egotistically', 'stridently', 'unfavorable', 'useless', 'idiotically', 'unwell', 'recklessly', 'shadowy', 'slog', 'perilous', 'choppy', 'embroiled', 'satirical', 'antagonist', 'bluring', 'hacks', 'omission', 'coupists', 'dropout', 'shamelessly', 'detrimental', 'grudge', 'belated', 'break-ups', 'indoctrination', 'disparagingly', 'irately', 'discredit', 'disgraceful', 'appall', 'dupe', 'harangue', 'job-killing', 'racy', 'disputed', 'spade', 'animosity', 'overstated', 'drought', 'stigma', 'glower', 'accusingly', 'distortion', 'jealously', 'patronize', 'revert', 'bleakly', 'unspecified', 'travesty', 'recourses', 'disgruntled', 'provocative', 'wheedle', 'pigs', 'protesting', 'repressive', 'hampered', 'villianous', 'unnerve', 'pest', 'inessential', 'diabolically', 'audacity', 'lier', 'ominous', 'undersized', 'anti-occupation', 'brutal', 'hang', 'aggravation', 'malcontent', 'faithless', 'harried', 'implausible', 'overplay', 'gimmicks', 'maddening', 'bloody', 'bewail', 'miseries', 'cruelly', 'shrew', 'chide', 'treason', 'virulently', 'misconceptions', 'confrontational', 'muddle', 'sham', 'perplexing', 'bonkers', 'obstruct', 'faze', 'grievous', 'slooow', 'impetuously', 'abominable', 'catastrophies', 'debaser', 'dud', 'nefariously', 'damn', 'smells', 'crueler', 'defective', 'thumb-down', 'over-priced', 'prosecute', 'trickery', 'unskilled', 'anemic', 'chatterbox', 'fat-cats', 'curse', 'disappoints', 'smudging', 'revengefully', 'smelly', 'aggressiveness', 'snagged', 'unviewable', 'frantically', 'condescension', 'harass', 'unbelievable', 'overrun', 'stalls', 'pricey', 'hatefulness', 'ill-designed', 'imperialist', 'proprietary', 'bulkier', 'midget', 'brazenness', 'risks', 'nettlesome', 'frustrate', 'rhetoric', 'bashed', 'beguile', 'helpless', 'primitive', 'unease', 'annoying', 'unravel', 'smokescreen', 'itching', 'torturous', 'tepid', 'eschew', 'loose', 'wretchedness', 'hurt', 'underlings', 'improbability', 'deceptively', 'frightening', 'taxing', 'tenderness', 'spoonfed', 'screwed', 'two-faced', 'disses', 'stooges', 'murky', 'stubborn', 'egomania', 'galling', 'monstrosity', 'negatives', 'smell', 'freeze', 'frenetic', 'bemused', 'fractious', 'polluter', 'unnervingly', 'stressfully', 'traitorously', 'whiny', 'outcast', 'hopelessly', 'scarred', 'sink', 'butcher', 'lumpy', 'fanatically', 'gawky', 'tangle', 'inhuman', 'wrong', 'killed', 'hating', 'senseless', 'squeaky', 'shortsighted', 'passive', 'exaggeration', 'conspiracies', 'cancerous', 'deterioration', 'fib', 'fright', 'impenitent', 'bs', 'rigidity', 'flickers', 'abomination', 'suppress', 'unlikely', 'cliched', 'abolish', 'feign', 'insensitive', 'debase', 'indignantly', 'clamor', 'gauche', 'villian', 'simplistically', 'vibrate', 'malaise', 'dark', 'brittle', 'scapegoat', 'intrusive', 'impiety', 'smolder', 'despotism', 'brimstone', 'retarded', 'dreadfully', 'tired', 'bullies', 'nebulously', 'bogus', 'insincerity', 'insupportable', 'grievances', 'unwelcome', 'faulty', 'punch', 'incomprehension', 'drastic', 'overbalance', 'blab', 'concerned', 'crude', 'exhaust', 'impoverished', 'tiresome', 'whore', 'chintzy', 'collusion', 'dim', 'disturbing', 'self-defeating', 'flareup', 'adversity', 'notoriety', 'worrier', 'misleadingly', 'touts', 'ill-fated', 'dungeon', 'mistakenly', 'flagrantly', 'imminently', 'zapped', 'byzantine', 'figurehead', 'lurid', 'hothead', 'troubled', 'dissatisfaction', 'panic', 'uproarously', 'deadweight', 'overthrows', 'uglier', 'grisly', 'offending', 'hegemony', 'overwhelms', 'vibrating', 'worthless', 'waste', 'collapse', 'bitterness', 'dismissively', 'emaciated', 'achey', 'simplistic', 'leaking', 'infuriate', 'absent-minded', 'repugnant', 'stupor', 'idiots', 'aborts', 'molestation', 'shock', 'unneeded', 'stingy', 'obscene', 'antagonistic', 'repulsing', 'restlessness', 'allergy', 'gibberish', 'boil', 'carelessness', 'leakages', 'traped', 'bafflement', 'junk', 'vengefully', 'obtuse', 'martyrdom', 'dearth', 'leak', 'encroach', 'abysmal', 'unlucky', 'damaged', 'alienation', 'liars', 'ruthlessly', 'brutally', 'dizzy', 'joke', 'notoriously', 'scratchy', 'pitiless', 'unnoticed', 'bleakness', 'emphatically', 'mourn', 'deviate', 'premeditated', 'resentment', 'shambles', 'skittish', 'immoderate', 'incorrigibly', 'retards', 'static', 'limits', 'discontent', 'stifling', 'inelegance', 'grouse', 'mangles', 'risky', 'self-coup', 'repugnance', 'crept', 'fictitious', 'unproved', 'reprove', 'intransigent', 'mishap', 'multi-polarization', 'overstatement', 'weakness', 'zap', 'heartbreaker', 'devilishly', 'banishment', 'heck', 'vexing', 'payback', 'tanked', 'corrode', 'unproven', 'worried', 'bleeds', 'ravage', 'overemphasize', 'squirm', 'election-rigger', 'inconsistence', 'troubling', 'peculiar', 'disallow', 'plaything', 'frail', 'blister', 'opponent', 'volatility', 'wrinkled', 'forgetfulness', 'inordinately', 'retract', 'flimsy', 'distracting', 'sagged', 'drag', 'nervously', 'obscured', 'irrepressible', 'irascible', 'strange', 'vex', 'stale', 'hothouse', 'mispronounces', 'hates', 'punish', 'soreness', 'faults', 'beggarly', 'spurn', 'utterly', 'troubles', 'alienated', 'long-winded', 'unlawfulness', 'harboring', 'disasterous', 'clogs', 'interfere', 'rupture', 'drunken', 'melancholy', 'recession', 'thoughtlessly', 'musty', 'infidels', 'monotonous', 'shockingly', 'sly', 'strict', 'enslave', 'trouble', 'venomous', 'clique', 'mediocre', 'bewildered', 'downside', 'vestiges', 'grief', 'bewitch', 'comical', 'inaccuracies', 'throbs', 'freakishly', 'idle', 'opposition', 'scam', 'blotchy', 'apathetically', 'complication', 'delusional', 'overtaxed', 'intransigence', 'oppressive', 'smear', 'imperfections', 'pimple', 'perilously', 'missed', 'unscrupulously', 'inaptitude', 'cumbersome', 'perversely', 'unaccustomed', 'gross', 'fudge', 'devastatingly', 'disparaging', 'discourteously', 'hindrance', 'addicting', 'aimless', 'disconsolate', 'gallingly', 'incapably', 'irragularity', 'exasperatingly', 'disrespectful', 'jerk', 'dictator', 'depressing', 'inconsistent', 'toll', 'berate', 'derisively', 'stereotypical', 'tanks', 'uproar', 'discombobulate', 'calamitously', 'fanatical', 'insanely', 'desperate', 'burn', 'standstill', 'negate', 'plebeian', 'evasive', 'tyrannically', 'refuse', 'asunder', 'stern', 'plagiarize', 'bores', 'enjoin', 'fault', 'disappointment', 'forlorn', 'inarticulate', 'regrettably', 'ultimatums', 'defect', 'corruptted', 'emasculate', 'hopeless', 'unacceptably', 'uneasiness', 'rampant', 'tragic', 'bullshit', 'sneaky', 'failing', 'recklessness', 'grumpiest', 'damaging', 'slaughter', 'bestial', 'flagging', 'mischievous', 'coercion', 'unorthodoxy', 'incommensurate', 'deplorable', 'stumped', 'suffer', 'furor', 'loathing', 'maliciousness', 'subjected', 'nervous', 'collude', 'gape', 'excruciatingly', 'addicts', 'repel', 'ridiculous', 'bristle', 'outbreak', 'slap', 'vague', 'oppositions', 'resent', 'isolated', 'lewd', 'peevishly', 'uneven', 'rhetorical', 'fallout', 'implode', 'pestilent', 'vibration', 'slur', 'disliking', 'hazard', 'throttle', 'disparage', 'poky', 'hater', 'cripple', 'devastation', 'inexpert', 'malignant', 'rile', 'racists', 'defy', 'posturing', 'struggles', 'imbroglio', 'occluding', 'fails', 'predatory', 'shrilly', 'degeneration', 'baffling', 'nepotism', 'overwhelm', 'exacerbate', 'illogical', 'unusably', 'prik', 'harsh', 'cold', 'divisively', 'ferociously', 'barbarously', 'rejected', 'inescapable', 'contrariness', 'hard', 'obstructing', 'muscle-flexing', 'rascals', 'slack', 'snob', 'critics', 'repugn', 'bias', 'spoil', 'pan', 'infamy', 'brashly', 'disregardful', 'admonishingly', 'insufficient', 'blunders', 'nastiness', 'fearfully', 'renunciation', 'calamity', 'shamefully', 'backaching', 'bedlamite', 'confusions', 'gloomy', 'nagging', 'heckled', 'farcically', 'infested', 'break', 'dents', 'sneakily', 'disagreed', 'disordered', 'miserably', 'peculiarly', 'spitefulness', 'starkly', 'needy', 'twist', 'virus', 'disavow', 'cheats', 'abyss', 'die', 'venomously', 'enfeeble', 'hurts', 'occlude', 'horrifying', 'incitement', 'rumbling', 'died', 'disturbed', 'scorchingly', 'uninformed', 'viciousness', 'frightfully', 'quandary', 'unwilling', 'swagger', 'gnawing', 'tawdry', 'fat-cat', 'bereavement', 'downturns', 'fiend', 'oddities', 'sueing', 'regression', 'ambiguous', 'loser', 'fraught', 'woeful', 'blinding', 'sucks', 'livid', 'undercutting', 'jagged', 'dauntingly', 'disgrace', 'funky', 'misaligned', 'overdo', 'wrestle', 'foulness', 'brutalizing', 'disrepute', 'importunate', 'concens', 'fatty', 'scoundrel', 'hysteric', 'desultory', 'burns', 'menacingly', 'panders', 'subversively', 'assail', 'hesitant', 'dunce', 'cheap', 'obstruction', 'outburst', 'phobic', 'doddering', 'rail', 'solicitude', 'banal', 'straggle', 'fleer', 'losers', 'problems', 'disorganized', 'braggart', 'bother', 'peeve', 'narrower', 'stolen', 'menace', 'taunting', 'obliterated', 'refuted', 'tortures', 'unaffordable', 'jittery', 'flimflam', 'foe', 'washed-out', 'atrocious', 'inconsistency', 'eccentric', 'finagle', 'calumniation', 'selfish', 'slanderous', 'inanely', 'inhibit', 'unsteady', 'opinionated', 'awfulness', 'incompatability', 'itch', 'nave', 'deaf', 'befoul', 'buzzing', 'immorality', 'convoluted', 'hatred', 'misgiving', 'ruthlessness', 'trauma', 'adulterier', 'dragged', 'egocentric', 'overshadow', 'rebuff', 'refused', 'ruining', 'pompous', 'sloooow', 'glitch', 'cripples', 'sporadic', 'grating', 'inconsequently', 'scandels', 'lemon', 'hostage', 'miserly', 'overzealously', 'fatuity', 'sugarcoated', 'overstatements', 'aggressor', 'polemize', 'ugly', 'dissing', 'merciless', 'breakups', 'injustices', 'oddest', 'impurity', 'disaffirm', 'obsolete', 'scornful', 'sputter', 'unfit', 'enemy', 'flake', 'inoperable', 'plot', 'rejection', 'wreaked', 'horrifys', 'hurting', 'craftly', 'untrustworthy', 'lawlessness', 'blind', 'disdained', 'self-serving', 'shortchange', 'unaccessible', 'poorest', 'censure', 'insanity', 'credulous', 'aloof', 'audaciously', 'choke', 'condescending', 'hazardous', 'jeopardy', 'cheating', 'polluters', 'timidness', 'bug', 'diappointed', 'declines', 'brainless', 'jitter', 'chronic', 'ripped', 'sick', 'hum', 'predicament', 'dissappointed', 'dumped', 'cataclysmal', 'agony', 'disgustedly', 'goofy', 'toxic', 'uncomfortably', 'arrogant', 'warning', 'whining', 'sugar-coat', 'doubtfully', 'failure', 'scandalize', 'infuriatingly', 'tarnished', 'unmoved', 'extort', 'despairing', 'indifferent', 'mournful', 'brute', 'powerless', 'disintegrated', 'callous', 'incite', 'propagandize', 'disrupt', 'agonies', 'drunk', 'sin', 'killing', 'zealot', 'impose', 'ignore', 'dirty', 'boisterous', 'improperly', 'startling', 'back-wood', 'failed', 'poorer', 'brat', 'drips', 'obscenity', 'cursed', 'leakage', 'blurred', 'reticent', 'ignominious', 'denounce', 'refutation', 'shirk', 'shit', 'neurotic', 'admonition', 'partisan', 'fidgety', 'pretentiously', 'mortified', 'detesting', 'defamatory', 'warp', 'bankrupt', 'ingrate', 'uncomfy', 'absence', 'bitterly', 'displace', 'lagged', 'lame-duck', 'detestable', 'guilty', 'inadvisable', 'biased', 'deplete', 'inhumane', 'punitive', 'rage', 'jealous', 'sags', 'delirium', 'strangest', 'farfetched', 'idiocies', 'misguidance', 'dismalness', 'inadverent', 'overloaded', 'vilify', 'overact', 'fake', 'remorse', 'hazy', 'bothers', 'unlawfully', 'unfairly', 'lascivious', 'denigrate', 'impeach', 'savagery', 'stark', 'offend', 'mismanage', 'unclean', 'dings', 'delaying', 'dirts', 'corrupting', 'dissatisfying', 'illicit', 'oblique', 'ambiguity', 'impure', 'shiver', 'anomaly', 'hard-liner', 'resigned', 'fusty', 'reluctant', 'hassle', 'bent', 'stall', 'admonish', 'misread', 'avalanche', 'attacks', 'pain', 'disagree', 'absurdness', 'skepticism', 'underestimate', 'non-confidence', 'laconic', 'fiendish', 'snobbish', 'stench', 'hardliners', 'misunderstood', 'devoid', 'rivalry', 'thoughtless', 'flagrant', 'villify', 'crumble', 'meaningless', 'disgraced', 'implication', 'ironies', 'anxiety', 'distains', 'humiliate', 'prejudice', 'strained', 'horrific', 'condescend', 'vibrates', 'stuffy', 'sorrow', 'irrecoverable', 'sack', 'unsteadily', 'capriciously', 'compulsion', 'autocratic', 'lazy', 'malady', 'messy', 'unwise', 'rift', 'execrate', 'gawk', 'meddle', 'plight', 'hotbeds', 'skittishly', 'menial', 'cheater', 'teasingly', 'battering', 'irritate', 'murderous', 'unconfirmed', 'fraud', 'objectionable', 'ineffectualness', 'transgression', 'contrived', 'shatter', 'deteriorating', 'incoherent', 'inappropriately', 'discouragement', 'mysteriously', 'exagerate', 'timid', 'misrepresentation', 'dubious', 'wrath', 'd*mn', 'mockingly', 'coldly', 'grievance', 'restrictive', 'pander', 'killer', 'difficulties', 'disapprobation', 'dullard', 'undetermined', 'disingenuous', 'halfheartedly', 'debilitating', 'lacking', 'barren', 'annoy', 'antagonize', 'desolately', 'flicering', 'pleas', 'outbursts', 'anti-semites', 'satirize', 'sedentary', 'demolisher', 'overrated', 'sacrificed', 'jeer', 'stumble', 'concede', 'painfully', 'dissatisfactory', 'puzzled', 'oppressors', 'subpoenas', 'bitter', 'overwhelmingly', 'trick', 'snobs', 'lanky', 'groundless', 'deviousness', 'dishearten', 'bearish', 'wildly', 'degenerate', 'unreliable', 'crazy', 'paucity', 'scrambled', 'baffle', 'extremist', 'alarmed', 'fugitive', 'sued', 'cataclysm', 'contaminated', 'drained', 'nemesis', 'radically', 'stuttering', 'vicious', 'frigid', 'haggle', 'misbegotten', 'castrated', 'disadvantage', 'stereotypically', 'phobia', 'rattle', 'confound', 'hedge', 'incredulous', 'unthinkable', 'expropriation', 'destains', 'nebulous', 'dilapidated', 'inequality', 'persecution', 'calumnious', 'outraged', 'indeterminable', 'murder', 'vent', 'vindictive', 'malign', 'tingling', 'shady', 'insulted', 'sucked', 'disapproval', 'shriek', 'fulminate', 'delusion', 'mope', 'stress', 'ironic', 'oversight', 'blaspheme', 'terror', 'delays', 'scratches', 'ineptly', 'bitchy', 'mourner', 'friggin', 'deform', 'juddering', 'lament', 'repulsive', 'loathsome', 'crash', 'lesser-known', 'unraveled', 'ghosting', 'zealous', 'pinch', 'aggressive', 'conscons', 'damning', 'obtrusive', 'tension', 'oversimplified', 'calumniously', 'haze', 'hardheaded', 'tardy', 'hostile', 'stupid', 'crumples', 'totalitarian', 'inextricable', 'twists', 'counter-productive', 'difficulty', 'straining', 'tank', 'malice', 'uproariously', 'condemn', 'needlessly', 'audaciousness', 'discontentedly', 'conservative', 'jeopardize', 'pitiful', 'despairingly', 'bane', 'delayed', 'turbulent', 'iniquity', 'picket', 'roadblocks', 'stinks', 'punk', 'falsehood', 'feckless', 'craziness', 'skimpy', 'escapade', 'betrayal', 'illogically', 'conflict', 'knife', 'slower', 'depress', 'meddlesome', 'drop-out', 'loses', 'persecute', 'unpredictable', 'perfidity', 'acrimoniously', 'restless', 'inadequacy', 'overblown', 'threat', 'incredulously', 'moronic', 'grieve', 'illness', 'scorn', 'controversial', 'doomed', 'puppet', 'defame', 'straggler', 'bombastic', 'losses', 'boggle', 'pandemonium', 'stinging', 'stun', 'transgress', 'discomfit', 'treasonous', 'incorrigible', 'untested', 'sunk', 'underdog', 'feeble', 'weaken', 'squeal', 'wince', 'grouch', 'rotten', 'self-criticism', 'reprehensive', 'lose', 'snag', 'gibe', 'damages', 'crushing', 'gruesome', 'shark', 'dropouts', 'unspeakable', 'taboo', 'morbidly', 'disconcertingly', 'insincere', 'confused', 'alienate', 'miscreant', 'prison', 'fracture', 'renounce', 'bomb', 'nefarious', 'invasive', 'creaks', 'strut', 'fearsome', 'rabid', 'god-awful', 'insurrection', 'dissatisfies', 'jutter', 'shamefulness', 'loner', 'hapless', 'lied', 'darkness', 'chastisement', 'lawbreaking', 'mishandle', 'dehumanize', 'hard-line', 'exasperation', 'apocalypse', 'gutter', 'extraneous', 'perplexed', 'repulse', 'iniquitous', 'discontinuous', 'disastrous', 'ill-natured', 'dishearteningly', 'lies', 'mistress', 'perverts', 'troublemaker', 'lethal', 'touted', 'leery', 'irritating', 'hate', 'ill-formed', 'bump', 'fabrication', 'insignificant', 'irredeemably', 'failures', 'paranoid', 'revolt', 'bum', 'splatter', 'stutters', 'abuse', 'creeps', 'farce', 'sadness', 'diatribes', 'stigmatize', 'sucky', 'unimaginable', 'sneeringly', 'cuss', 'carnage', 'instable', 'procrastinate', 'contemptible', 'qualm', 'immoral', 'uncertain', 'hardships', 'subjection', 'franticly', 'hack', 'scornfully', 'sneak', 'outrages', 'drones', 'sluts', 'unacceptable', 'procrastination', 'spooky', 'retardedness', 'authoritarian', 'condemns', 'scrap', 'suspicion', 'haunt', 'sullen', 'refuting', 'tumbles', 'stymied', 'sloth', 'unwisely', 'fanatic', 'hassled', 'backwood', 'mocking', 'mistake', 'interruption', 'annoyingly', 'debasement', 'disapproving', 'dirtbags', 'discoutinous', 'despair', 'recalcitrant', 'shortcomings', 'breaks', 'shrouded', 'polution', 'unreasonable', 'dumb', 'dread', 'mistaken', 'shortcoming', 'undermines', 'distract', 'damned', 'mangled', 'senile', 'burden', 'elimination', 'ruin', 'savaged', 'stumbled', 'mockeries', 'grumpier', 'disrespecting', 'imperfectly', 'excoriate', 'hysterical', 'macabre', 'darkened', 'discontinuity', 'thumbs-down', 'demon', 'malodorous', 'inferiority', 'intrude', 'marginal', 'liability', 'short-lived', 'creep', 'defiance', 'weakening', 'sour', 'reprehensibly', 'bastards', 'infected', 'havoc', 'squeak', 'galls', 'exploitation', 'smutty', 'meltdown', 'barbarous', 'rival', 'irksomely', 'aching', 'lame', 'dissonance', 'imprisonment', 'brutalising', 'crumple', 'swollen', 'capriciousness', 'fist', 'rankle', 'mistrust', 'hung', 'sorry', 'parasite', 'hardliner', 'wreck', 'spiteful', 'acerbate', 'trapped', 'deceiving', 'humming', 'crap', 'excuses', 'worriedly', 'congestion', 'contort', 'indecision', 'incense', 'servitude', 'stuck', 'engulf', 'appalled', 'ostracize', 'junkyard', 'derogatory', 'adamant', 'quarrelsome', 'oppressiveness', 'raped', 'wearisome', 'indiscreetly', 'stiflingly', 'dissatisfy', 'layoff-happy', 'misconception', 'prisoner', 'lie', 'damage', 'dawdle', 'skinny', 'puppets', 'craps', 'mashed', 'cataclysmic', 'facetiously', 'hallucination', 'dishonorable', 'extravagantly', 'truant', 'buggy', 'dies', 'disgusted', 'dishonesty', 'unreasonably', 'weep', 'irked', 'pessimistically', 'subservience', 'frazzled', 'dilemma', 'douchebags', 'interrupt', 'asperse', 'negation', 'oversimplify', 'despondent', 'dismayingly', 'rubbish', 'craze', 'stole', 'delay', 'worst', 'allegations', 'grieving', 'dissed', 'hissed', 'moot', 'impious', 'unfortunate', 'spilling', 'broken-hearted', 'madly', 'poisonous', 'wane', 'suffers', 'tetchily', 'retard', 'scoffingly', 'sidetracked', 'unhappily', 'misjudgment', 'emergency', 'heretical', 'mordant', 'limitations', 'partiality', 'subpoena', 'woe', 'insurmountably', 'mystery', 'berserk', 'apprehensive', 'blurry', 'disdain', 'drowning', 'resignation', 'ailing', 'dragging', 'ingratitude', 'virulence', 'intimidatingly', 'plunderer', 'sermonize', 'downheartedly', 'misinform', 'relapse', 'indelicate', 'spoils', 'odd', 'flair', 'dismissive', 'bull----', 'worrisome', 'lagging', 'coerce', 'indecisive', 'murderously', 'cave', 'unreadable', 'misunderstanding', 'severity', 'fuss', 'anti-proliferation', 'contemptuously', 'intoxicate', 'over-balanced', 'slowed', 'checkered', 'thirst', 'outrageousness', 'abrupt', 'accusation', 'bribery', 'anti-us', 'grimace', 'inappropriate', 'remorseful', 'stuttered', 'nastily', 'acerbic', 'saggy', 'doubtful', 'dreadful', 'undercut', 'unthinkably', 'misguide', 'inefficiently', 'fury', 'geezer', 'mournfully', 'sue', 'cracks', 'heartbreaking', 'poverty', 'trap', 'ugliness', 'desert', 'isolation', 'jaundiced', 'uncontrolled', 'amputate', 'tedious', 'acrimony', 'immaterial', 'frustratingly', 'overstates', 'scratch', 'adverse', 'provoke', 'recoil', 'oppose', 'disintegrates', 'disservice', 'insubstantial', 'condemnable', 'disown', 'detest', 'sinister', 'feint', 'smudge', 'stump', 'threatening', 'vomit', 'war-like', 'daunt', 'deplore', 'foolish', 'flaky', 'scariest', 'exhausts', 'extravagance', 'asininely', 'forebodingly', 'lapse', 'ineptitude', 'blur', 'blurring', 'disrespectablity', 'offender', 'indecency', 'indiscreet', 'over-acted', 'disruptive', 'inextricably', 'reject', 'crumbling', 'corruption', 'shamelessness', 'insufferable', 'irregular', 'allegation', 'freaking', 'greed', 'irrationality', 'lechery', 'vulnerable', 'knock', 'casualty', 'fanatics', 'sorrowfully', 'drain', 'detriment', 'spitefully', 'forbid', 'snarky', 'lawless', 'cackle', 'hard-hit', 'leech', 'accusing', 'objection', 'obnoxiously', 'rigid', 'upsettingly', 'neurotically', 'unclear', 'dump', 'pratfall', 'vexation', 'pugnacious', 'mockery', 'risk', 'inhospitable', 'cuplrit', 'unseemly', 'second-tier', 'mistified', 'dispensable', 'petty', 'annoys', 'denied', 'grumble', 'sourly', 'enraged', 'monstrously', 'lukewarm', 'sloww', 'haughty', 'numb', 'worsening', 'instigator', 'languid', 'susceptible', 'boring', 'junky', 'imperfection', 'recant', 'indolent', 'fleed', 'worrying', 'dreadfulness', 'procrastinates', 'discord', 'two-faces', 'burdensome', 'obsessively', 'infuriated', 'dissident', 'asinininity', 'perish', 'disturbance', 'yawn', 'unproves', 'screwy', 'overbalanced', 'regret', 'warlike', 'forlornly', 'inequities', 'exhort', 'snobish', 'intimidating', 'turmoil', 'invidiousness', 'mudslinger', 'distressed', 'unjustifiably', 'disgruntle', 'ramshackle', 'radical', 'remorsefully', 'erode', 'disconcert', 'infiltrators', 'strike', 'overlook', 'disaccord', 'rape', 'expropriate', 'ridicules', 'dent', 'kill', 'argumentative', 'messed', 'relentlessly', 'cataclysmically', 'desiccate', 'run-down', 'sickly', 'muddy', 'onerously', 'bickering', 'outrageous', 'lackadaisical', 'nightmarish', 'imposing', 'belittling', 'phony', 'disappointments', 'stupidly', 'contortions', 'exagerates', 'tragically', 'consternation', 'intolerable', 'malcontented', 'scuffs', 'snub', 'undefined', 'unusual', 'indeterminably', 'shrug', 'hardball', 'sagging', 'hobble', 'shoddy', 'disappointed', 'discomfort', 'incompetently', 'insolent', 'regrets', 'stiff', 'unavoidably', 'despoiler', 'direness', 'scathingly', 'crowded', 'ominously', 'instigators', 'mawkish', 'offence', 'decrepitude', 'bitingly', 'mad', 'whores', 'quibbles', 'manipulators', 'selfinterested', 'picketing', 'unexpectedly', 'noxious', 'cannibal', 'mania', 'flees', 'frown', 'bleak', 'contentious', 'deprive', 'flabbergasted', 'insult', 'moribund', 'disreputable', 'splitting', 'difficult', 'snarl', 'sober', 'contend', 'awkward', 'indiscernible', 'enviously', 'lapses', 'bicker', 'unwatchable', 'irreversible', 'squeaks', 'disorient', 'anarchism', 'thicker', 'excessively', 'grapple', 'nuisance', 'womanizing', 'capsize', 'destabilisation', 'miscalculation', 'tentatively', 'enemies', 'gossip', 'weariness', 'guilt', 'shocked', 'miss', 'unfaithful', 'fascist', 'froze', 'awfully', 'backward', 'concession', 'fanaticism', 'rocky', 'hopelessness', 'impossiblity', 'batty', 'shallow', 'tempest', 'unusable', 'disaster', 'gloatingly', 'liar', 'frustration', 'ignominiously', 'unavailable', 'oversimplification', 'improbably', 'tantrum', 'dastard', 'emphatic', 'horrify', 'impetuous', 'presumptuous', 'quarrellous', 'shrivel', 'snappishly', 'dilly-dally', 'condescendingly', 'indignation', 'sickeningly', 'frenetically', 'regress', 'smother', 'insignificance', 'smudged', 'tamper', 'isolate', 'defensive', 'dogged', 'expire', 'taunt', 'mundane', 'taut', 'uncaring', 'slumpping', 'recessionary', 'manipulation', 'perfunctory', 'crummy', 'tricky', 'unwillingly', 'disbelief', 'awkwardness', 'huckster', 'unsuccessfully', 'disbeliever', 'busts', 'testy', 'prate', 'wiles', 'scorching', 'erase', 'inexperience', 'wretchedly', 'misunderstandings', 'discountenance', 'violently', 'harden', 'darken', 'gloom', 'battered', 'belie', 'betrayer', 'freezing', 'handicapped', 'taunts', 'droop', 'barbarically', 'flakey', 'harbors', 'maladjusted', 'mindless', 'murderer', 'get-rich', 'despot', 'upseting', 'melodramatic', 'fiasco', 'perverted', 'tyrant', 'unwanted', 'douchebag', 'involuntarily', 'immovable', 'errors', 'gabble', 'remorselessness', 'scar', 'goading', 'smelt', 'slanderously', 'sadden', 'unrelenting', 'falsely', 'unfeeling', 'pales', 'selfishness', 'scoff', 'throbbed', 'errant', 'altercation', 'displease', 'idiocy', 'compulsive', 'infections', 'lecher', 'licentious', 'aggravating', 'crime', 'idiot', 'ill-treated', 'latency', 'swipe', 'butchery', 'flaw', 'massacre', 'delinquency', 'starvation', 'insensitively', 'spews', 'vain', 'shocking', 'vomits', 'warily', 'relentless', 'blah', 'filth', 'irreconcilable', 'killjoy', 'bewilderment', 'disclaim', 'inglorious', 'nauseate', 'lag', 'dissonantly', 'madden', 'invidious', 'angrily', 'desecrate', 'cramping', 'expel', 'allege', 'demonizing', 'equivocal', 'inaccuracy', 'obstructed', 'oddly', 'distorted', 'misapprehend', 'misbehave', 'scams', 'judder', 'qualms', 'loss', 'injure', 'spoon-feed', 'confuses', 'blatantly', 'earsplitting', 'paradoxical', 'regretfully', 'unuseably', 'incorrect', 'dispiritedly', 'donside', 'split', 'stink', 'incoherence', 'quash', 'impudently', 'subordinate', 'tout', 'prohibitively', 'futile', 'castigate', 'maledict', 'blurt', 'breakdown', 'fastidiously', 'mistrustfully', 'exaggerate', 'inaudible', 'fatal', 'hostilities', 'ironical', 'unsecure', 'aspersion', 'hectic', 'ill-mannered', 'friction', 'abominably', 'maniac', 'misrepresent', 'insufficiently', 'repugnantly', 'smack', 'vociferously', 'devastates', 'misaligns', 'adversary', 'suspicions', 'motley', 'stranger', 'depression', 'pokey', 'confrontation', 'exile', 'grate', 'obnoxious', 'deploring', 'invader', 'dungeons', 'hellion', 'insensible', 'inhospitality', 'refuses', 'refute', 'chafe', 'demonize', 'effigy', 'impedance', 'temerity', 'crack', 'disorder', 'foreboding', 'goof', 'imbalance', 'unkindly', 'warped', 'rascal', 'whine', 'curt', 'bumps', 'conspirator', 'irk', 'dull', 'mock', 'distrust', 'betray', 'regretted', 'nag', 'scrambling', 'superfluous', 'unpleasantries', 'fidget', 'imaginary', 'tragedy', 'incomplete', 'undid', 'somber', 'lonely', 'slanderer', 'hairloss', 'overreach', 'wimpy', 'anti-', 'mislead', 'suffered', 'abuses', 'disappointing', 'expired', 'longing', 'mystify', 'puny', 'disgust', 'unsafe', 'chilly', 'devilry', 'egregious', 'inculcate', 'gracelessly', 'disobedient', 'heckles', 'restricted', 'shun', 'hastily', 'mangle', 'repudiate', 'squeals', 'inconsequential', 'embattled', 'appal', 'wily', 'tattered', 'disruption', 'inequitable', 'restrict', 'diabolic', 'mudslinging', 'unforeseen', 'bunk', 'grossly', 'clumsy', 'kooky', 'uncomfortable', 'sidetrack', 'assault', 'fumble', 'goad', 'lorn', 'nauseating', 'unsure', 'infidel', 'dismally', 'mangling', 'rip', 'unwillingness', 'deficiencies', 'aground', 'gritty', 'unbelievably', 'naive', 'crazily', 'regressive', 'scaly', 'vulgar', 'disrespectfulness', 'sap', 'baseless', 'bleeding', 'deviously', 'slothful', 'slaves', 'heckle', 'decadence', 'insulting', 'top-heavy', 'coarse', 'dissocial', 'ripoff', 'threaten', 'unfriendly', 'superstition', 'depressed', 'dense', 'object', 'eccentricity', 'dumbfound', 'eviscerate', 'unscrupulous', 'haphazard', 'distraction', 'vomiting', 'undocumented', 'blurs', 'demoralize', 'overheat', 'unprepared', 'suck', 'averse', 'uproot', 'spank', 'cronyism', 'temptation', 'gutless', 'lackeys', 'nitpicking', 'struck', 'feverish', 'sting', 'unproving', 'wail', 'cruel', 'challenging', 'forgetfully', 'reviled', 'spendy', 'smudges', 'disable', 'incomparable', 'falter', 'inflammed', 'tangled', 'repress', 'abominate', 'discourteous', 'traduce', 'avarice', 'un-viewable', 'outlaw', 'complaints', 'audacious', 'emptiness', 'backwardness', 'drop-outs', 'unsupportive', 'dwindling', 'complicated', 'erroneous', 'impotent', 'involuntary', 'superficial', 'confession', 'sues', 'protest', 'cartoonish', 'humiliating', 'prejudices', 'apologists', 'clash', 'devilish', 'disinterest', 'jeering', 'break-up', 'evasion', 'backbiting', 'ashamed', 'madness', 'indignity', 'sabotage', 'faint', 'misalign', 'forbidding', 'dislikes', 'despondently', 'maltreatment', 'manic', 'frazzle', 'salacious', 'thug', 'jaded', 'full-blown', 'irrationally', 'austere', 'deign', 'blockhead', 'sunder', 'shimmer', 'tacky', 'infringe', 'revoke', 'scrambles', 'traumatically', 'complain', 'intermittent', 'runaway', 'death', 'sillily', 'pig', 'trivialize', 'snappish', 'thrash', 'hoard', 'swelling', 'craftily', 'heartbreakingly', 'improbable', 'miscellaneous', 'exhausted', 'revenge', 'whips', 'rot', 'self-destructive', 'blunt', 'tarnish', 'pillage', 'contradiction', 'pugnaciously', 'antiquated', 'unsuccessful', 'askance', 'scolding', 'burdensomely', 'problem', 'doggedly', 'fatuous', 'crippled', 'demise', 'untrue', 'complacent', 'foul', 'betraying', 'excruciating', 'laughable', 'ax', 'concessions', 'dissidence', 'detracted', 'genocide', 'shortsightedness', 'superficially', 'leaks', 'detraction', 'dispiriting', 'smut', 'bullyingly', 'devil', 'loath', 'pretense', 'fraudulent', 'despicably', 'entrap', 'horrendous', 'refusal', 'unconstitutional', 'menacing', 'addict', 'disloyal', 'nightmare', 'slave', 'slut', 'unknown', 'expensive', 'uneasy', 'lull', 'tyrannical', 'queer', 'boastful', 'cynicism', 'blow', 'indifference', 'presumptuously', 'shabby', 'bruised', 'scowl', 'loathsomely', 'fatefully', 'incautious', 'parody', 'deceitfulness', 'lurch', 'enflame', 'dazed', 'insane', 'wretched', 'grudgingly', 'repulsed', 'retaliate', 'shaky', 'beastly', 'destitution', 'fume', 'panicky', 'barbarity', 'irresponsible', 'uncompetitive', 'wound', 'cracked', 'spookiest', 'unsound', 'unattractive', 'depressingly', 'overbearingly', 'unlamentably', 'aggrivation', 'frustrated', 'sinfully', 'incompetence', 'injury', 'villainously', 'haste', 'deprecate', 'slow-moving', 'careless', 'chill', 'mortification', 'vengefulness', 'dastardly', 'cheerless', 'omit', 'bloodshed', 'scandal', 'feeblely', 'insecurity', 'lawbreaker', 'long-time', 'spoon-fed', 'unnatural', 'crabby', 'cruelest', 'disconcerting', 'mushy', 'pathetically', 'grumpy', 'ranting', 'revolting', 'sceptical', 'unconvincing', 'bigotries', 'embarrassment', 'greedy', 'smug', 'volatile', 'dubitable', 'thorny', 'downer', 'slanders', 'downhill', 'sobering', 'horrid', 'direly', 'counterproductive', 'fleeting', 'conflicts', 'molest', 'incessantly', 'reprehension', 'barbarian', 'sad', 'negativity', 'inflammation', 'divisiveness', 'perplexity', 'tortuous', 'repetitive', 'beleaguer', 'viper', 'ludicrously', 'dirt', 'exhaustion', 'denunciate', 'loophole', 'shroud', 'forgetful', 'squash', 'showdown', 'shrill', 'profane', 'madder', 'apologist', 'decayed', 'quarrellously', 'deprave', 'despondence', 'obscurity', 'smuttier', 'testily', 'peevish', 'burning', 'suspect', 'dissenter', 'unworthy', 'pains', 'inequalities', 'criticized', 'tumble', 'sugar-coated', 'fallaciousness', 'knotted', 'ruinous', 'costly', 'ill-advised', 'unlamentable', 'foolhardy', 'startlingly', 'second-class', 'spoiled', 'bewildering', 'brutality', 'wariness', 'apathetic', 'eyesore', 'languorously', 'poisonously', 'indignant', 'sub-par', 'worthlessness', 'invective', 'harms', 'blameworthy', 'grouchy', 'neglect', 'disconsolation', 'fool', 'outrageously', 'over-valuation', 'raving', 'creeping', 'exterminate', 'impersonal', 'blasphemous', 'insouciance', 'mar', 'inexorable', 'seriousness', 'sanctimonious', 'infirm', 'unnerving', 'unsuspecting', 'odder', 'waning', 'abused', 'disoobedient', 'overweight', 'bashing', 'carp', 'disvalue', 'resistance', 'startle', 'terrorize', 'breakup', 'trash', 'partisans', 'inhumanity', 'fickle', 'absurd', 'backbite', 'resurgent', 'undesirable', 'hateful', 'laggy', 'stupidity', 'scared', 'ruined', 'foolishness', 'pitifully', 'tingled', 'disappointingly', 'bedlam', 'tyranny', 'f**k', 'retreat', 'jam', 'dissonant', 'gasp', 'picketed', 'anger', 'cheat', 'set-up', 'stupify', 'riled', 'inconstant', 'confessions', 'plasticky', 'incorrectly', 'bothersome', 'disheartening', 'extermination', 'irreformable', 'occluded', 'paupers', 'egotistical', 'amiss', 'smoke', 'egregiously', 'ironically', 'defrauding', 'slashing', 'downbeat', 'licentiously', 'timidity', 'ill-sorted', 'shameful', 'gainsayer', 'anti-social', 'prejudge', 'imprecate', 'evils', 'unacceptablely', 'wallow', 'paralize', 'worsen', 'bore', 'chasten', 'anxious', 'kook', 'screwed-up', 'aggrieve', 'disturb', 'inconvenience', 'impending', 'bad', 'flakieness', 'sag', 'insensitivity', 'lacks', 'wickedness', 'excessive', 'ridiculously', 'grind', 'hype', 'affliction', 'complains', 'discouraging', 'gravely', 'false', 'hestitant', 'untimely', 'back-logged', 'disfavor', 'sharply', 'distasteful', 'sinisterly', 'aches', 'litigious', 'cussed', 'viciously', 'insolently', 'overthrow', 'toil', 'misinterpret', 'beware', 'devious', 'astray', 'fell', 'miserableness', 'stodgy', 'cliche', 'vagrant', 'disgustful', 'miff', 'messing', 'dick', 'disorderly', 'spurious', 'unreliability', 'dispirit', 'alarming', 'inactive', 'embarrassing', 'rant', 'undercuts', 'lewdness', 'inexplainable', 'discrepant', 'steal', 'corrupted', 'dissolution', 'dust', 'gangster', 'unnaturally', 'inundated', 'indeterminate', 'anguish', 'nitpick', 'impropriety', 'diss', 'irksomeness', 'limitation', 'diffidence', 'weed', 'die-hard', 'rigidness', 'tangles', 'mists', 'vomited', 'undependable', 'degrade', 'wobble', 'bid-rigging', 'bumped', 'coercive', 'extremism', 'guile', 'indigent', 'ineloquently', 'nervousness', 'dumps', 'demonic', 'panicking', 'pointless', 'rampage', 'unethical', 'indiscriminate', 'forged', 'regretful', 'strident', 'hooligan', 'disarray', 'cheated', 'forbidden', 'frictions', 'troublingly', 'biting', 'ineffectually', 'obsessiveness', 'unbearablely', 'scramble', 'stiffness', 'shipwreck', 'adulterate', 'egotism', 'relentlessness', 'stumbles', 'swindle', 'stagnant', 'deceivers', 'frost', 'reprimand', 'throb', 'unhappy', 'exorbitantly', 'dissappointing', 'insufficiency', 'jeeringly', 'mawkishness', 'bigotry', 'ferocity', 'irretrievable', 'afflictive', 'debility', 'mischievously', 'propaganda', 'unleash', 'miscreants', 'unimaginably', 'squabbling', 'malevolent', 'erratically', 'unhappiness', 'flaws', 'ignominy', 'scarily', 'hubris', 'problematic', 'so-cal', 'contrive', 'fucking', 'misbecoming', 'upheaval', 'addicted', 'hardship', 'discontented', 'exorbitantance', 'drab', 'stricken', 'invalidate', 'subdued', 'wobbles', 'threats', 'objections', 'topple', 'plea', 'overzelous', 'bullying', 'conspiratorial', 'slowest', 'succumb', 'scourge', 'smugly', 'pettifog', 'opportunistic', 'stifle', 'aspersions', 'insultingly', 'assassinate', 'pitiable', 'stagnation', 'ambivalence', 'pollute', 'bumping', 'backache', 'jealousy', 'incivility', 'drastically', 'stressful', 'oblivious', 'squealing', 'toughness', 'belligerence', 'desolate', 'wrip', 'illegal', 'bastard', 'discriminatory', 'rremediable', 'tiring', 'graceless', 'preposterous', 'endanger', 'unsustainable', '2-faces', 'irrecoverablenesses', 'imprecisely', 'infamous', 'misinformed', 'uncouth', 'frustrations', 'unobserved', 'worthlessly', 'cry', 'weary', 'grievously', 'desolation', 'unwarranted', 'penalty', 'hideous', 'overdue', 'inexpiable', 'rue', 'ill-used', 'spookier', 'glaringly', 'ho-hum', 'dishonor', 'immobilized', 'nosey', 'chunky', 'fallacy', 'underpaid', 'deficient', 'lone', 'overbearing', 'perplex', 'tauntingly', 'mess', 'bulkiness', 'pitilessly', 'fruitless', 'uproarious', 'suicide', 'subjugation', 'jutters', 'treachery', 'pessimistic', 'anarchy', 'nightmarishly', 'perturbed', 'dragoon', 'haughtily', 'loneliness', 'swamped', 'marginally', 'rude', 'bruises', 'hysterically', 'pickets', 'mispronounce', 'obscures', 'prohibit', 'revengeful', 'disadvantages', 'thoughtlessness', 'annihilate', 'extortion', 'heedless', 'sulk', 'wrinkle', 'maniacal', 'ghastly', 'overpriced', 'malevolence', 'symptoms', 'randomly', 'radicalization', 'impediment', 'bereft', 'defile', 'crooked', 'depravedly', 'expulse', 'insolence', 'redundant', 'dishonorablely', 'ugh', 'horde', 'sinful', 'extravagant', 'hustler', 'afflict', 'aggrieved', 'incomparably', 'pretence', 'miscalculate', 'pathetic', 'insatiable', 'mercilessly', 'deceitful', 'crappy', 'fatcats', 'finicky', 'heresy', 'demoralizing', 'fleeing', 'disaffected', 'slogged', 'disastrously', 'doubt', 'deject', 'domineer', 'inferior', 'calamitous', 'joker', 'conspiracy', 'knave', 'bondage', 'subversive', 'discordance', 'vice', 'crass', 'deception', 'unhelpful', 'contaminating', 'rife', 'concen', 'affront', 'reprehensible', 'torture', 'jarring', 'wrest', 'discompose', 'adversarial', 'irate', 'blackmail', 'crush', 'daunting', 'rip-off', 'droops', 'fearful', 'angry', 'impatience', 'costlier', 'nasty', 'unwieldy', 'unprofitable', 'sunken', 'tetchy', 'imperiously', 'inconveniently', 'strenuous', 'atrophy', 'frightful', 'incompetent', 'anti-american', 'discourage', 'untruthful', 'spoilage', 'shameless', 'suspicious', 'haters', 'implacable', 'malevolently', 'oppression', 'belligerent', 'mischief', 'disinclined', 'irritated', 'flighty', 'unintelligible', 'discontinued', 'inexcusably', 'licentiousness', 'unlicensed', 'epidemic', 'cravenly', 'dissuasive', 'indiscriminately', 'misfit', 'unfinished', 'contention', 'regreted', 'appallingly', 'distraughtness', 'overpayed', 'unlawful', 'felonious', 'head-aches', 'poison', 'vehement', 'stammer', 'bungler', 'skeletons', 'lurking', 'threesome', 'nettle', 'arbitrary', 'flak', 'annoyance', 'sneer', 'disgustingly', 'ludicrous', 'miserable', 'limit', 'accost', 'damper', 'lousy', 'criticize', 'disquietingly'}\n"
          ]
        }
      ]
    },
    {
      "cell_type": "markdown",
      "source": [
        "## Perform Sentiment Analysis"
      ],
      "metadata": {
        "id": "DIMZO6MkF2Zg"
      }
    },
    {
      "cell_type": "code",
      "source": [
        "import nltk\n",
        "from nltk.tokenize import word_tokenize\n",
        "from nltk.corpus import stopwords\n",
        "\n",
        "nltk.download('punkt')\n",
        "nltk.download('stopwords')"
      ],
      "metadata": {
        "colab": {
          "base_uri": "https://localhost:8080/"
        },
        "id": "x3-6U17qGFA7",
        "outputId": "e9471cb5-c945-4df4-c1d1-9ec33ec259b0"
      },
      "execution_count": 225,
      "outputs": [
        {
          "output_type": "stream",
          "name": "stderr",
          "text": [
            "[nltk_data] Downloading package punkt to /root/nltk_data...\n",
            "[nltk_data]   Package punkt is already up-to-date!\n",
            "[nltk_data] Downloading package stopwords to /root/nltk_data...\n",
            "[nltk_data]   Package stopwords is already up-to-date!\n"
          ]
        },
        {
          "output_type": "execute_result",
          "data": {
            "text/plain": [
              "True"
            ]
          },
          "metadata": {},
          "execution_count": 225
        }
      ]
    },
    {
      "cell_type": "code",
      "source": [
        "# Tokenize the text\n",
        "tokens = word_tokenize(article)\n",
        "tokens = [token.lower() for token in tokens]"
      ],
      "metadata": {
        "id": "ylfmgh6HGJTf"
      },
      "execution_count": 229,
      "outputs": []
    },
    {
      "cell_type": "code",
      "source": [
        "print(f\"{len(tokens)}: {tokens}\")"
      ],
      "metadata": {
        "colab": {
          "base_uri": "https://localhost:8080/"
        },
        "id": "3eqf89Z1aCIz",
        "outputId": "16bf0111-976d-448e-e0bd-90158ed78244"
      },
      "execution_count": 227,
      "outputs": [
        {
          "output_type": "stream",
          "name": "stdout",
          "text": [
            "756: ['how', 'covid-19', 'is', 'impacting', 'payment', 'preferences', '?', 'sunday', ',', 'october', '15', ',', '2023', 'sign', 'in', '/', 'join', 'search', 'homedata', 'sciencebig', 'datahow', 'covid-19', 'is', 'impacting', 'payment', 'preferences', '?', 'how', 'covid-19', 'is', 'impacting', 'payment', 'preferences', '?', 'by', 'ajay', 'bidyarthy', 'june', '22', ',', '2020', '0', '11943', 'i', 'would', 'rather', 'pay', 'cash', '–', 'before', 'covid-19', '.', 'i', 'would', 'rather', 'make', 'online', 'payment', '–', 'after', 'lockdown', '.', 'during', 'this', 'lockdown', ',', 'one', 'can', 'observe', 'a', 'number', 'of', 'small', 'positive', 'changes', 'in', 'our', 'surroundings', '.', 'one', 'such', 'positive', 'change', 'is', 'using', 'online', 'mode', 'of', 'payment', 'even', 'if', 'they', 'are', 'small', 'in', 'amount', 'as', 'it', 'counts', 'as', 'a', 'big', 'step', 'towards', 'digital', 'india', 'and', 'self-development', 'as', 'well', '.', 'according', 'to', 'economic', 'times', ',', '42', '%', 'of', 'indians', 'say', 'that', 'they', 'have', 'started', 'using', 'online', 'mode', 'of', 'payment', '.', 'some', 'small', 'tasks', 'like', 'mobile', 'phone', 'recharge', ',', 'bill', 'payments', ',', 'buying', 'groceries', ',', 'etc.', ',', 'are', 'some', 'essential', 'tasks', 'that', 'can', 'not', 'be', 'ignored', ',', 'and', 'making', 'an', 'online', 'payment', 'is', 'way', 'too', 'convenient', 'for', 'them', '.', 'also', ',', 'multiple', 'schemes', 'have', 'been', 'initiated', 'by', 'the', 'government', 'to', 'promote', 'online', 'payments', 'like', 'lucky', 'grahak', 'yojana', 'and', 'digi', 'dhan', 'vyapari', 'yojana', '.', 'the', 'details', 'of', 'the', 'same', 'are', 'as', 'follows', ':', 'lucky', 'garhak', 'yojana', 'a', 'daily', 'reward', 'of', 'rs', '1000', 'to', 'be', 'given', 'to', '15,000', 'lucky', 'consumers', 'for', 'a', 'period', 'of', '100', 'days.people', 'who', 'use', 'the', 'online', 'mode', 'of', 'payments', 'will', 'get', 'weekly', 'prizes', 'worth', 'rs', '1', 'lakh', ',', 'rs', '10,000', 'and', 'rs', '5,000', '.', '(', 'all', 'types', 'of', 'online', 'transactions', 'will', 'be', 'included', 'in', 'this', '.', ')', 'digi', 'dhan', 'vyapari', 'prizes', 'for', 'merchants', 'for', 'all', 'digital', 'transactions.rs', '50,000', ',', 'rs', '5,000', ',', 'and', 'rs', '2,500', 'will', 'be', 'provided', 'weekly', '.', 'the', 'frequently', 'used', 'apps', 'by', 'the', 'consumers', 'and', 'the', 'market', 'share', 'of', 'apps', 'are', 'as', 'follows', ':', 'paytm-', '33', '%', 'google', 'pay-', '14', '%', 'phonepe-', '4', '%', 'amazon', 'pay-', '10', '%', 'bhim-', '6', '%', 'other', 'apps-', '33', '%', 'not', 'only', 'the', 'sellers', 'but', 'also', 'the', 'buyers', 'have', 'taken', 'a', 'step', 'forward', 'in', 'making', 'online', 'payments', 'and', 'have', 'been', 'exploring', 'the', 'various', 'offers', 'and', 'discounts', '.', 'the', 'sellers', 'have', 'started', 'their', 'own', 'online', 'shops', 'and', 'made', 'online', 'payment', 'mandatory', 'in', 'highly', 'contaminated', 'zones', '.', 'the', 'buyer', 'has', 'also', 'taken', 'advantage', 'of', 'home', 'deliveries', 'to', 'follow', 'social', 'distancing', '.', 'to', 'add', 'to', 'the', 'advantage', 'of', 'buyers', 'and', 'sellers', 'kyc', 'is', 'no', 'more', 'a', 'necessity', 'to', 'make', 'money', 'transfers', '.', 'there', 'has', 'been', 'an', 'increase', 'in', 'the', 'services', 'provided', 'by', 'banking', 'sectors', 'as', 'well', '.', 'the', 'fm', 'nirmala', 'sitharaman', 'has', 'provided', 'the', 'directions', 'to', 'not', 'charge', 'for', 'cash', 'withdrawals', 'from', 'atm', '’', 's', '.', 'various', 'services', 'like', 'sending', 'and', 'receiving', 'money', ',', 'blocking', 'cards', ',', 'credit', 'card', 'payments', ',', 'credit', 'card', 'pins', ',', 'etc.', ',', 'are', 'being', 'provided', 'online', '.', 'e-payment', 'options', 'like', 'paytm', ',', 'etc.', ',', 'have', 'been', 'open', 'up', 'for', 'investing', 'money', 'online', 'in', 'stocks', ',', 'insurance', ',', 'etc', '.', 'even', 'online', 'shopping', 'apps', 'like', 'amazon', 'have', 'come', 'up', 'with', 'various', 'offers', 'for', 'their', 'in-built', 'wallets', '.', 'emerging', 'technologies', 'and', 'high', 'competition', 'among', 'online', 'payment', 'apps', 'are', 'providing', 'benefits', 'to', 'buyers', 'and', 'sellers', 'as', 'well', '.', 'sellers', 'have', 'been', 'able', 'to', 'increase', 'their', 'reach', 'with', 'online', 'shops', 'and', 'online', 'payment', 'stands', 'as', 'a', 'guarantee', 'for', 'them', '.', 'buyers', 'have', 'been', 'in', 'the', 'most', 'advantageous', 'position', 'ever', 'after', 'the', 'digital', 'payment', 'has', 'come', 'into', 'the', 'market', '.', 'they', 'are', 'being', 'provided', 'with', 'a', 'number', 'of', 'choices', 'to', 'choose', 'from', 'as', 'well', 'as', 'make', 'instant', 'payments', 'for', 'offers', '.', 'this', 'all', 'sums', 'up', 'the', 'likeliness', 'of', 'digital', 'payment', 'in', 'the', 'market', '.', 'so', 'yes', ',', 'we', 'can', 'say', ',', 'you', '(', 'digital', 'payment', ')', 'have', 'a', 'brillant', 'future', ',', 'child', '!', 'we', 'all', 'have', 'heard', 'this', 'statement', '“', 'precaution', 'is', 'better', 'than', 'cure', '”', 'and', 'here', 'is', 'the', 'time', 'to', 'follow', 'the', 'same', '.', 'it', 'has', 'been', 'proven', 'as', 'a', 'fact', 'that', 'the', 'coronavirus', 'can', 'persist', 'on', 'paper', 'for', 'four', 'or', 'five', 'days', '.', 'that', 'means', 'the', 'coronavirus', 'can', 'persist', 'on', 'the', 'paper', 'currency', 'for', 'four', 'or', 'five', 'days', '.', 'thus', ',', 'it', 'is', 'important', 'to', 'avoid', 'the', 'usage', 'of', 'paper', 'currency', '.', 'a', 'revolution', 'will', 'take', 'place', 'only', 'when', 'the', 'below', 'poverty', 'population', 'of', 'india', 'will', 'start', 'using', 'the', 'online', 'mode', 'of', 'payment', 'and', 'will', 'be', 'literate', 'enough', 'to', 'not', 'get', 'caught', 'in', 'any', 'scam', '.', 'blackcoffer', 'insights', '18', ':', 'himanshi', 'kalota', ',', 'shri', 'ram', 'college', 'of', 'commerce', '(', 'delhi', ')', 'previous', 'articlecontribution', 'of', 'handicrafts', '(', 'visual', 'arts', '&', 'literature', ')', 'in', 'the', 'indian', 'economynext', 'articleimpact', 'of', 'covid-19', 'pandemic', 'on', 'tourism', '&', 'aviation', 'industries', 'ajay', 'bidyarthy']\n"
          ]
        }
      ]
    },
    {
      "cell_type": "code",
      "source": [
        "english_stop_words = set(stopwords.words('english'))\n",
        "english_stop_words = set(word.lower() for word in english_stop_words)"
      ],
      "metadata": {
        "id": "fHMAo8dHL00w"
      },
      "execution_count": 228,
      "outputs": []
    },
    {
      "cell_type": "code",
      "source": [
        "print(f\"{len(english_stop_words)}: {english_stop_words}\")"
      ],
      "metadata": {
        "colab": {
          "base_uri": "https://localhost:8080/"
        },
        "id": "M3wk4jkzaOTW",
        "outputId": "680cbbb2-df76-42b8-bae5-cf46a82c0091"
      },
      "execution_count": null,
      "outputs": [
        {
          "output_type": "stream",
          "name": "stdout",
          "text": [
            "179: {'for', 'am', 'doesn', \"needn't\", 'can', 'by', 'there', \"aren't\", 'some', 'isn', 'because', 'aren', 'is', \"haven't\", \"couldn't\", 'any', 'doing', 'more', \"you've\", 'her', 'further', \"that'll\", 'him', 'such', \"should've\", \"hasn't\", 'those', 'at', \"you're\", 'nor', 'too', 'be', 'did', 'then', 'hasn', 'has', 'during', 'we', 't', 'was', 'being', 'so', 'won', 's', 'do', 'i', 'out', \"weren't\", \"wouldn't\", 'after', 'you', 'once', 'yourselves', 'why', \"didn't\", 'that', 'when', 'not', 'above', 're', 'haven', 'weren', 'theirs', 'itself', 'over', 'herself', 'now', 'hadn', 'shouldn', 'as', 'in', 'them', \"hadn't\", 'your', 'an', 'all', 'few', 'these', 'y', 'a', 'down', 'below', 'have', 'been', 'hers', 'how', 'this', 'between', 'shan', 'against', 'o', 'until', 'both', 'into', 'she', 'ours', 'where', 'don', \"doesn't\", 'off', 'with', 'on', \"she's\", 've', 'ain', 'should', 'ourselves', 'just', \"shan't\", 'through', 'who', \"won't\", 'their', 'm', 'very', 'does', \"mustn't\", 'me', 'here', 'its', 'mightn', 'd', 'our', \"you'll\", 'each', 'than', 'most', 'll', 'it', 'own', 'needn', 'but', 'again', 'mustn', 'if', 'having', 'ma', 'which', 'yours', 'to', 'of', 'his', 'no', 'about', \"don't\", \"you'd\", 'had', 'my', 'myself', 'or', 'couldn', 'he', 'were', 'only', 'they', \"wasn't\", 'up', 'wouldn', 'yourself', 'before', 'will', \"isn't\", \"mightn't\", 'and', 'the', \"shouldn't\", 'themselves', 'under', 'other', 'same', 'wasn', \"it's\", 'whom', 'while', 'are', 'himself', 'what', 'didn', 'from'}\n"
          ]
        }
      ]
    },
    {
      "cell_type": "code",
      "source": [
        "import string\n",
        "\n",
        "# Define a set of punctuation characters to remove\n",
        "punctuation = set(string.punctuation)\n",
        "punctuation = set(word.lower() for word in punctuation)"
      ],
      "metadata": {
        "id": "KPVtkiGQNtHC"
      },
      "execution_count": 230,
      "outputs": []
    },
    {
      "cell_type": "code",
      "source": [
        "print(f\"{len(punctuation)}: {punctuation}\")"
      ],
      "metadata": {
        "colab": {
          "base_uri": "https://localhost:8080/"
        },
        "id": "He0pNqrvaa_V",
        "outputId": "80b08e0b-41a3-475f-90db-7246ed980b58"
      },
      "execution_count": 231,
      "outputs": [
        {
          "output_type": "stream",
          "name": "stdout",
          "text": [
            "32: {'~', '&', '@', '>', '?', '\\\\', ':', '!', '<', '|', ')', '^', '_', '/', '$', ']', ',', '=', '+', '(', '{', '`', '#', '\"', '-', \"'\", '}', '.', '*', '[', '%', ';'}\n"
          ]
        }
      ]
    },
    {
      "cell_type": "code",
      "source": [
        "# Clean the tokens by removing stop words\n",
        "filtered_tokens = list()\n",
        "for word in tokens:\n",
        "  if (word not in english_stop_words) and (word not in custom_stopwords) and (word not in punctuation):\n",
        "    filtered_tokens.append(word)"
      ],
      "metadata": {
        "id": "1-XVl9axMI4P"
      },
      "execution_count": 232,
      "outputs": []
    },
    {
      "cell_type": "code",
      "source": [
        "print(f\"{len(filtered_tokens)}: {filtered_tokens}\")"
      ],
      "metadata": {
        "colab": {
          "base_uri": "https://localhost:8080/"
        },
        "id": "VX8M2RjkadMn",
        "outputId": "cf41dc4a-bf80-4f99-f080-e560ea42e984"
      },
      "execution_count": 233,
      "outputs": [
        {
          "output_type": "stream",
          "name": "stdout",
          "text": [
            "408: ['covid-19', 'impacting', 'payment', 'preferences', 'sunday', 'october', '15', '2023', 'sign', 'join', 'search', 'homedata', 'sciencebig', 'datahow', 'covid-19', 'impacting', 'payment', 'preferences', 'covid-19', 'impacting', 'payment', 'preferences', 'ajay', 'bidyarthy', 'june', '22', '2020', '0', '11943', 'would', 'rather', 'pay', 'cash', '–', 'covid-19', 'would', 'rather', 'make', 'online', 'payment', '–', 'lockdown', 'lockdown', 'one', 'observe', 'number', 'small', 'positive', 'changes', 'surroundings', 'one', 'positive', 'change', 'using', 'online', 'mode', 'payment', 'even', 'small', 'amount', 'counts', 'big', 'step', 'towards', 'digital', 'india', 'self-development', 'well', 'according', 'economic', 'times', '42', 'indians', 'say', 'started', 'using', 'online', 'mode', 'payment', 'small', 'tasks', 'like', 'mobile', 'phone', 'recharge', 'bill', 'payments', 'buying', 'groceries', 'etc.', 'essential', 'tasks', 'ignored', 'making', 'online', 'payment', 'way', 'convenient', 'also', 'multiple', 'schemes', 'initiated', 'government', 'promote', 'online', 'payments', 'like', 'lucky', 'grahak', 'yojana', 'digi', 'dhan', 'vyapari', 'yojana', 'details', 'follows', 'lucky', 'garhak', 'yojana', 'daily', 'reward', 'rs', '1000', 'given', '15,000', 'lucky', 'consumers', 'period', '100', 'days.people', 'use', 'online', 'mode', 'payments', 'get', 'weekly', 'prizes', 'worth', 'rs', '1', 'lakh', 'rs', '10,000', 'rs', '5,000', 'types', 'online', 'transactions', 'included', 'digi', 'dhan', 'vyapari', 'prizes', 'merchants', 'digital', 'transactions.rs', '50,000', 'rs', '5,000', 'rs', '2,500', 'provided', 'weekly', 'frequently', 'used', 'apps', 'consumers', 'market', 'share', 'apps', 'follows', 'paytm-', '33', 'google', 'pay-', '14', 'phonepe-', '4', 'amazon', 'pay-', '10', 'bhim-', '6', 'apps-', '33', 'sellers', 'also', 'buyers', 'taken', 'step', 'forward', 'making', 'online', 'payments', 'exploring', 'various', 'offers', 'discounts', 'sellers', 'started', 'online', 'shops', 'made', 'online', 'payment', 'mandatory', 'highly', 'contaminated', 'zones', 'buyer', 'also', 'taken', 'advantage', 'home', 'deliveries', 'follow', 'social', 'distancing', 'add', 'advantage', 'buyers', 'sellers', 'kyc', 'necessity', 'make', 'money', 'transfers', 'increase', 'services', 'provided', 'banking', 'sectors', 'well', 'fm', 'nirmala', 'sitharaman', 'provided', 'directions', 'charge', 'cash', 'withdrawals', 'atm', '’', 'various', 'services', 'like', 'sending', 'receiving', 'money', 'blocking', 'cards', 'credit', 'card', 'payments', 'credit', 'card', 'pins', 'etc.', 'provided', 'online', 'e-payment', 'options', 'like', 'paytm', 'etc.', 'open', 'investing', 'money', 'online', 'stocks', 'insurance', 'etc', 'even', 'online', 'shopping', 'apps', 'like', 'amazon', 'come', 'various', 'offers', 'in-built', 'wallets', 'emerging', 'technologies', 'high', 'competition', 'among', 'online', 'payment', 'apps', 'providing', 'benefits', 'buyers', 'sellers', 'well', 'sellers', 'able', 'increase', 'reach', 'online', 'shops', 'online', 'payment', 'stands', 'guarantee', 'buyers', 'advantageous', 'position', 'ever', 'digital', 'payment', 'come', 'market', 'provided', 'number', 'choices', 'choose', 'well', 'make', 'instant', 'payments', 'offers', 'sums', 'likeliness', 'digital', 'payment', 'market', 'yes', 'say', 'digital', 'payment', 'brillant', 'future', 'child', 'heard', 'statement', '“', 'precaution', 'better', 'cure', '”', 'time', 'follow', 'proven', 'fact', 'coronavirus', 'persist', 'paper', 'four', 'five', 'days', 'means', 'coronavirus', 'persist', 'paper', 'currency', 'four', 'five', 'days', 'thus', 'important', 'avoid', 'usage', 'paper', 'currency', 'revolution', 'take', 'place', 'poverty', 'population', 'india', 'start', 'using', 'online', 'mode', 'payment', 'literate', 'enough', 'get', 'caught', 'scam', 'blackcoffer', 'insights', '18', 'himanshi', 'kalota', 'shri', 'ram', 'college', 'commerce', 'delhi', 'previous', 'articlecontribution', 'handicrafts', 'visual', 'arts', 'literature', 'indian', 'economynext', 'articleimpact', 'covid-19', 'pandemic', 'tourism', 'aviation', 'industries', 'ajay', 'bidyarthy']\n"
          ]
        }
      ]
    },
    {
      "cell_type": "markdown",
      "source": [
        "### Positive and Negative Score"
      ],
      "metadata": {
        "id": "YlD0jNIyQjhl"
      }
    },
    {
      "cell_type": "code",
      "source": [
        "### Positive and Negative Score\n",
        "# Initialize sentiment scores\n",
        "positive_score = 0\n",
        "negative_score = 0\n",
        "\n",
        "# Calculate the positive and negative scores\n",
        "for word in filtered_tokens:\n",
        "    if word in positive_words:\n",
        "        positive_score += 1\n",
        "    if word in negative_words:\n",
        "        negative_score += 1"
      ],
      "metadata": {
        "id": "KQ4xjtyhOTjN"
      },
      "execution_count": 235,
      "outputs": []
    },
    {
      "cell_type": "code",
      "source": [
        "print(f\"positive_score: {positive_score}\")\n",
        "print(f\"negative_score: {negative_score}\")"
      ],
      "metadata": {
        "colab": {
          "base_uri": "https://localhost:8080/"
        },
        "id": "whuovfIVavHP",
        "outputId": "b6b096c6-d3b6-4c41-f612-bdb9709ed596"
      },
      "execution_count": 234,
      "outputs": [
        {
          "output_type": "stream",
          "name": "stdout",
          "text": [
            "positive_score: 12\n",
            "negative_score: 3\n"
          ]
        }
      ]
    },
    {
      "cell_type": "markdown",
      "source": [
        "### Sentiment, Polarity and Subjectivity score"
      ],
      "metadata": {
        "id": "7MmBn3xdQpGj"
      }
    },
    {
      "cell_type": "code",
      "source": [
        "# Sentiment, Polarity and Subjectivity score\n",
        "polarity_score = (positive_score - negative_score) / (positive_score + negative_score + 0.000001)\n",
        "subjectivity_score = (positive_score + negative_score) / (len(filtered_tokens) + 0.000001)\n",
        "\n",
        "# Determine the sentiment\n",
        "if polarity_score > 0:\n",
        "    sentiment = \"Positive\"\n",
        "elif polarity_score < 0:\n",
        "    sentiment = \"Negative\"\n",
        "else:\n",
        "    sentiment = \"Neutral\""
      ],
      "metadata": {
        "id": "QRyIfB7IEGw8"
      },
      "execution_count": 238,
      "outputs": []
    },
    {
      "cell_type": "code",
      "source": [
        "# Print the results\n",
        "print(\"Sentiment: \", sentiment)\n",
        "print(\"Polarity Score: \", round(polarity_score,4))\n",
        "print(\"Subjectivity Score: \", round(subjectivity_score,4))"
      ],
      "metadata": {
        "colab": {
          "base_uri": "https://localhost:8080/"
        },
        "id": "WkTnaOKca3Wz",
        "outputId": "417329ef-e23d-48e8-e008-fd9f731f4f2f"
      },
      "execution_count": 239,
      "outputs": [
        {
          "output_type": "stream",
          "name": "stdout",
          "text": [
            "Sentiment:  Positive\n",
            "Polarity Score:  0.8\n",
            "Subjectivity Score:  0.0735\n"
          ]
        }
      ]
    },
    {
      "cell_type": "markdown",
      "source": [
        "## Analysis of Readability"
      ],
      "metadata": {
        "id": "jY8dqQ2BQyAO"
      }
    },
    {
      "cell_type": "markdown",
      "source": [
        "### Average Sentence Length"
      ],
      "metadata": {
        "id": "6A7Vq_v_RDmW"
      }
    },
    {
      "cell_type": "code",
      "source": [
        "### Average Sentence Length\n",
        "sentences = nltk.sent_tokenize(article)\n",
        "words = filtered_tokens\n",
        "average_sentence_length = len(words) / len(sentences)"
      ],
      "metadata": {
        "id": "FM44YpueEYNN"
      },
      "execution_count": 247,
      "outputs": []
    },
    {
      "cell_type": "code",
      "source": [
        "print(f\"average_sentence_length: {average_sentence_length}\")"
      ],
      "metadata": {
        "colab": {
          "base_uri": "https://localhost:8080/"
        },
        "id": "UJN9tasJbhO9",
        "outputId": "43df9c82-5325-47bb-acf9-419516e7c280"
      },
      "execution_count": 248,
      "outputs": [
        {
          "output_type": "stream",
          "name": "stdout",
          "text": [
            "average_sentence_length: 12.0\n"
          ]
        }
      ]
    },
    {
      "cell_type": "code",
      "source": [
        "sentences"
      ],
      "metadata": {
        "id": "W_wIWw-aO7pI"
      },
      "execution_count": 243,
      "outputs": []
    },
    {
      "cell_type": "markdown",
      "source": [
        "### Percentage of Complex Words"
      ],
      "metadata": {
        "id": "Sm748r_kRUxh"
      }
    },
    {
      "cell_type": "code",
      "source": [
        "### Percentage of Complex Words\n",
        "from nltk.corpus import cmudict\n",
        "\n",
        "# Download the CMU Pronouncing Dictionary\n",
        "nltk.download('cmudict')\n",
        "d = cmudict.dict()\n",
        "\n",
        "def syllable_count(word):\n",
        "    if word.lower() in d:\n",
        "        return max([len(list(y for y in x if y[-1].isdigit())) for x in d[word.lower()]])\n",
        "    else:\n",
        "        # Handle words not found in the CMU Pronouncing Dictionary\n",
        "        return 0\n",
        "\n",
        "# Calculate percentage of complex words\n",
        "complex_word_count = sum(1 for word in words if syllable_count(word) > 2)\n",
        "percentage_complex_words = (complex_word_count / len(words)) * 100"
      ],
      "metadata": {
        "colab": {
          "base_uri": "https://localhost:8080/"
        },
        "id": "fWQfMEVMRTtc",
        "outputId": "64ca0247-8fa4-4cae-9f38-479f958ffb48"
      },
      "execution_count": 249,
      "outputs": [
        {
          "output_type": "stream",
          "name": "stderr",
          "text": [
            "[nltk_data] Downloading package cmudict to /root/nltk_data...\n",
            "[nltk_data]   Package cmudict is already up-to-date!\n"
          ]
        }
      ]
    },
    {
      "cell_type": "code",
      "source": [
        "print(f\"percentage_complex_words: {percentage_complex_words}\")"
      ],
      "metadata": {
        "colab": {
          "base_uri": "https://localhost:8080/"
        },
        "id": "NBZeimBzboVj",
        "outputId": "7e06a423-0004-4af8-c892-1c3a7e2b40c5"
      },
      "execution_count": 250,
      "outputs": [
        {
          "output_type": "stream",
          "name": "stdout",
          "text": [
            "percentage_complex_words: 20.34313725490196\n"
          ]
        }
      ]
    },
    {
      "cell_type": "markdown",
      "source": [
        "### Fog Index"
      ],
      "metadata": {
        "id": "V9dkxJ2jRk_F"
      }
    },
    {
      "cell_type": "code",
      "source": [
        "### Fog Index\n",
        "fog_index = 0.4 * (average_sentence_length + percentage_complex_words)"
      ],
      "metadata": {
        "id": "pWrBZMd6RdOl"
      },
      "execution_count": 251,
      "outputs": []
    },
    {
      "cell_type": "code",
      "source": [
        "print(f\"fog_index: {fog_index}\")"
      ],
      "metadata": {
        "colab": {
          "base_uri": "https://localhost:8080/"
        },
        "id": "PdGIjx_qb4WP",
        "outputId": "918933b1-8ed5-4369-8807-70d9679bfe42"
      },
      "execution_count": 252,
      "outputs": [
        {
          "output_type": "stream",
          "name": "stdout",
          "text": [
            "fog_index: 12.937254901960785\n"
          ]
        }
      ]
    },
    {
      "cell_type": "markdown",
      "source": [
        "## Average Number of Words Per Sentence"
      ],
      "metadata": {
        "id": "pYPNgbclRtSh"
      }
    },
    {
      "cell_type": "code",
      "source": [
        "### Average Number of Words Per Sentence\n",
        "average_words_per_sentence = len(words) / len(sentences)"
      ],
      "metadata": {
        "id": "SYvL9RlSRqJX"
      },
      "execution_count": null,
      "outputs": []
    },
    {
      "cell_type": "code",
      "source": [
        "print(f\"average_words_per_sentence: {average_words_per_sentence}\")"
      ],
      "metadata": {
        "colab": {
          "base_uri": "https://localhost:8080/"
        },
        "id": "c2RRACT5b6wP",
        "outputId": "16bee882-2a4b-4ea1-9e96-18c80c3167d8"
      },
      "execution_count": null,
      "outputs": [
        {
          "output_type": "stream",
          "name": "stdout",
          "text": [
            "average_words_per_sentence: 22.235294117647058\n"
          ]
        }
      ]
    },
    {
      "cell_type": "markdown",
      "source": [
        "## Complex Word Count"
      ],
      "metadata": {
        "id": "F28b2GdNSjIM"
      }
    },
    {
      "cell_type": "code",
      "source": [
        "### Complex Word Count\n",
        "complex_word_count = sum(1 for word in words if syllable_count(word) > 2)"
      ],
      "metadata": {
        "id": "HhN3xKcoSdEn"
      },
      "execution_count": null,
      "outputs": []
    },
    {
      "cell_type": "code",
      "source": [
        "print(f\"complex_word_count: {complex_word_count}\")"
      ],
      "metadata": {
        "colab": {
          "base_uri": "https://localhost:8080/"
        },
        "id": "APDz8dwQcHzY",
        "outputId": "05cd4466-903b-4e31-bef7-2aae7a70cc15"
      },
      "execution_count": null,
      "outputs": [
        {
          "output_type": "stream",
          "name": "stdout",
          "text": [
            "complex_word_count: 83\n"
          ]
        }
      ]
    },
    {
      "cell_type": "markdown",
      "source": [
        "## Total Word Count"
      ],
      "metadata": {
        "id": "3vjOjHfQV8n0"
      }
    },
    {
      "cell_type": "code",
      "source": [
        "print(f\"{len(words)}, {words}\")"
      ],
      "metadata": {
        "colab": {
          "base_uri": "https://localhost:8080/"
        },
        "id": "dT9Lq_U7O8ut",
        "outputId": "c251d350-af84-4988-9a71-b917cb5b9381"
      },
      "execution_count": null,
      "outputs": [
        {
          "output_type": "stream",
          "name": "stdout",
          "text": [
            "756, ['How', 'COVID-19', 'is', 'impacting', 'payment', 'preferences', '?', 'Sunday', ',', 'October', '15', ',', '2023', 'Sign', 'in', '/', 'Join', 'Search', 'HomeData', 'ScienceBig', 'DataHow', 'COVID-19', 'is', 'impacting', 'payment', 'preferences', '?', 'How', 'COVID-19', 'is', 'impacting', 'payment', 'preferences', '?', 'By', 'Ajay', 'Bidyarthy', 'June', '22', ',', '2020', '0', '11943', 'I', 'would', 'rather', 'pay', 'cash', '–', 'Before', 'COVID-19', '.', 'I', 'would', 'rather', 'make', 'online', 'payment', '–', 'After', 'lockdown', '.', 'During', 'this', 'lockdown', ',', 'one', 'can', 'observe', 'a', 'number', 'of', 'small', 'positive', 'changes', 'in', 'our', 'surroundings', '.', 'One', 'such', 'positive', 'change', 'is', 'using', 'online', 'mode', 'of', 'payment', 'even', 'if', 'they', 'are', 'small', 'in', 'amount', 'as', 'it', 'counts', 'as', 'a', 'big', 'step', 'towards', 'DIGITAL', 'INDIA', 'and', 'self-development', 'as', 'well', '.', 'According', 'to', 'Economic', 'Times', ',', '42', '%', 'of', 'Indians', 'say', 'that', 'they', 'have', 'started', 'using', 'online', 'mode', 'of', 'payment', '.', 'Some', 'small', 'tasks', 'like', 'mobile', 'phone', 'recharge', ',', 'bill', 'payments', ',', 'buying', 'groceries', ',', 'etc.', ',', 'are', 'some', 'essential', 'tasks', 'that', 'can', 'not', 'be', 'ignored', ',', 'and', 'making', 'an', 'online', 'payment', 'is', 'way', 'too', 'convenient', 'for', 'them', '.', 'Also', ',', 'multiple', 'schemes', 'have', 'been', 'initiated', 'by', 'the', 'government', 'to', 'promote', 'online', 'payments', 'like', 'Lucky', 'Grahak', 'Yojana', 'and', 'Digi', 'Dhan', 'Vyapari', 'Yojana', '.', 'The', 'details', 'of', 'the', 'same', 'are', 'as', 'follows', ':', 'LUCKY', 'GARHAK', 'YOJANA', 'A', 'daily', 'reward', 'of', 'Rs', '1000', 'to', 'be', 'given', 'to', '15,000', 'lucky', 'consumers', 'for', 'a', 'period', 'of', '100', 'days.People', 'who', 'use', 'the', 'online', 'mode', 'of', 'payments', 'will', 'get', 'weekly', 'prizes', 'worth', 'Rs', '1', 'lakh', ',', 'Rs', '10,000', 'and', 'Rs', '5,000', '.', '(', 'All', 'types', 'of', 'online', 'transactions', 'will', 'be', 'included', 'in', 'this', '.', ')', 'DIGI', 'DHAN', 'VYAPARI', 'Prizes', 'for', 'Merchants', 'for', 'all', 'digital', 'transactions.Rs', '50,000', ',', 'Rs', '5,000', ',', 'and', 'Rs', '2,500', 'will', 'be', 'provided', 'weekly', '.', 'The', 'frequently', 'used', 'apps', 'by', 'the', 'consumers', 'and', 'the', 'market', 'share', 'of', 'apps', 'are', 'as', 'follows', ':', 'Paytm-', '33', '%', 'Google', 'Pay-', '14', '%', 'PhonePe-', '4', '%', 'Amazon', 'Pay-', '10', '%', 'BHIM-', '6', '%', 'Other', 'Apps-', '33', '%', 'Not', 'only', 'the', 'sellers', 'but', 'also', 'the', 'buyers', 'have', 'taken', 'a', 'step', 'forward', 'in', 'making', 'online', 'payments', 'and', 'have', 'been', 'exploring', 'the', 'various', 'offers', 'and', 'discounts', '.', 'The', 'sellers', 'have', 'started', 'their', 'own', 'online', 'shops', 'and', 'made', 'online', 'payment', 'mandatory', 'in', 'highly', 'contaminated', 'zones', '.', 'The', 'buyer', 'has', 'also', 'taken', 'advantage', 'of', 'home', 'deliveries', 'to', 'follow', 'social', 'distancing', '.', 'To', 'add', 'to', 'the', 'advantage', 'of', 'buyers', 'and', 'sellers', 'KYC', 'is', 'no', 'more', 'a', 'necessity', 'to', 'make', 'money', 'transfers', '.', 'There', 'has', 'been', 'an', 'increase', 'in', 'the', 'services', 'provided', 'by', 'banking', 'sectors', 'as', 'well', '.', 'The', 'FM', 'Nirmala', 'Sitharaman', 'has', 'provided', 'the', 'directions', 'to', 'not', 'charge', 'for', 'cash', 'withdrawals', 'from', 'ATM', '’', 's', '.', 'Various', 'services', 'like', 'sending', 'and', 'receiving', 'money', ',', 'blocking', 'cards', ',', 'credit', 'card', 'payments', ',', 'credit', 'card', 'pins', ',', 'etc.', ',', 'are', 'being', 'provided', 'online', '.', 'E-payment', 'options', 'like', 'Paytm', ',', 'etc.', ',', 'have', 'been', 'open', 'up', 'for', 'investing', 'money', 'online', 'in', 'stocks', ',', 'insurance', ',', 'etc', '.', 'Even', 'online', 'shopping', 'apps', 'like', 'Amazon', 'have', 'come', 'up', 'with', 'various', 'offers', 'for', 'their', 'in-built', 'wallets', '.', 'Emerging', 'technologies', 'and', 'high', 'competition', 'among', 'online', 'payment', 'apps', 'are', 'providing', 'benefits', 'to', 'buyers', 'and', 'sellers', 'as', 'well', '.', 'Sellers', 'have', 'been', 'able', 'to', 'increase', 'their', 'reach', 'with', 'online', 'shops', 'and', 'online', 'payment', 'stands', 'as', 'a', 'guarantee', 'for', 'them', '.', 'Buyers', 'have', 'been', 'in', 'the', 'most', 'advantageous', 'position', 'ever', 'after', 'the', 'digital', 'payment', 'has', 'come', 'into', 'the', 'market', '.', 'They', 'are', 'being', 'provided', 'with', 'a', 'number', 'of', 'choices', 'to', 'choose', 'from', 'as', 'well', 'as', 'make', 'instant', 'payments', 'for', 'offers', '.', 'This', 'all', 'sums', 'up', 'the', 'likeliness', 'of', 'digital', 'payment', 'in', 'the', 'market', '.', 'So', 'yes', ',', 'we', 'can', 'say', ',', 'YOU', '(', 'DIGITAL', 'PAYMENT', ')', 'HAVE', 'A', 'BRILLANT', 'FUTURE', ',', 'CHILD', '!', 'We', 'all', 'have', 'heard', 'this', 'statement', '“', 'Precaution', 'is', 'better', 'than', 'cure', '”', 'and', 'here', 'is', 'the', 'time', 'to', 'follow', 'the', 'same', '.', 'It', 'has', 'been', 'proven', 'as', 'a', 'fact', 'that', 'the', 'coronavirus', 'can', 'persist', 'on', 'paper', 'for', 'four', 'or', 'five', 'days', '.', 'That', 'means', 'the', 'coronavirus', 'can', 'persist', 'on', 'the', 'paper', 'currency', 'for', 'four', 'or', 'five', 'days', '.', 'Thus', ',', 'it', 'is', 'important', 'to', 'avoid', 'the', 'usage', 'of', 'paper', 'currency', '.', 'A', 'revolution', 'will', 'take', 'place', 'only', 'when', 'the', 'below', 'poverty', 'population', 'of', 'India', 'will', 'start', 'using', 'the', 'online', 'mode', 'of', 'payment', 'and', 'will', 'be', 'literate', 'enough', 'to', 'not', 'get', 'caught', 'in', 'any', 'scam', '.', 'Blackcoffer', 'Insights', '18', ':', 'Himanshi', 'Kalota', ',', 'Shri', 'Ram', 'College', 'of', 'Commerce', '(', 'Delhi', ')', 'Previous', 'articleContribution', 'of', 'handicrafts', '(', 'Visual', 'Arts', '&', 'Literature', ')', 'in', 'the', 'Indian', 'economyNext', 'articleImpact', 'of', 'COVID-19', 'pandemic', 'on', 'Tourism', '&', 'Aviation', 'industries', 'Ajay', 'Bidyarthy']\n"
          ]
        }
      ]
    },
    {
      "cell_type": "code",
      "source": [
        "### Total Word Count\n",
        "total_word_count = len([\n",
        "    word for word in words if word not in custom_stop_words and word not in english_stop_words and not all(char in string.punctuation for char in word)\n",
        "    ])"
      ],
      "metadata": {
        "id": "0HVNOk3NV_Rh"
      },
      "execution_count": 256,
      "outputs": []
    },
    {
      "cell_type": "code",
      "source": [
        "print(f\"total_word_count: {total_word_count}\")"
      ],
      "metadata": {
        "colab": {
          "base_uri": "https://localhost:8080/"
        },
        "id": "bo3kKp_ocP_F",
        "outputId": "63ed1f04-1eaa-4a62-d5c8-fc3290f7a87a"
      },
      "execution_count": 257,
      "outputs": [
        {
          "output_type": "stream",
          "name": "stdout",
          "text": [
            "total_word_count: 314\n"
          ]
        }
      ]
    },
    {
      "cell_type": "markdown",
      "source": [
        "## Syllable Count Per Word"
      ],
      "metadata": {
        "id": "uNi1CqWcVV7w"
      }
    },
    {
      "cell_type": "markdown",
      "source": [
        "We count the number of Syllables in each word of the text by counting the vowels present in each word. We also handle some exceptions like words ending with `\"es\",\"ed\"` by not counting them as a syllable."
      ],
      "metadata": {
        "id": "wHvXWgtDTkUN"
      }
    },
    {
      "cell_type": "code",
      "source": [
        "### Syllable Count Per Word\n",
        "def count_syllables(word):\n",
        "  exceptions = [\"es\", \"ed\"]\n",
        "  for ending in exceptions:\n",
        "    if word.endswith(ending):\n",
        "      word = word[:-len(ending)]\n",
        "\n",
        "  vowels = \"aeiouAEIOU\"\n",
        "  syllable_count = sum(1 for char in word if char in vowels)\n",
        "  return max(1, syllable_count)\n",
        "\n",
        "syllables_per_word = [count_syllables(word) for word in words]\n",
        "average_syllables_per_word = sum(syllables_per_word) / len(words)"
      ],
      "metadata": {
        "id": "Yi0U5w7VTUNW"
      },
      "execution_count": 261,
      "outputs": []
    },
    {
      "cell_type": "code",
      "source": [
        "print(f\"{len(syllables_per_word)}, {syllables_per_word}\")\n",
        "print(\"Average Syllables Per Word:\", average_syllables_per_word)"
      ],
      "metadata": {
        "colab": {
          "base_uri": "https://localhost:8080/"
        },
        "id": "RFc4lJM3Vr_3",
        "outputId": "bcc4f61b-cd6d-4f06-b74b-7145e2777139"
      },
      "execution_count": 262,
      "outputs": [
        {
          "output_type": "stream",
          "name": "stdout",
          "text": [
            "408, [2, 3, 2, 3, 2, 3, 1, 1, 1, 2, 2, 4, 4, 3, 2, 3, 2, 3, 2, 3, 2, 3, 2, 2, 2, 1, 1, 1, 1, 2, 2, 1, 1, 1, 2, 2, 2, 2, 3, 2, 1, 2, 2, 2, 3, 2, 1, 4, 1, 4, 2, 4, 2, 2, 3, 2, 2, 2, 1, 3, 2, 1, 1, 2, 3, 3, 5, 1, 3, 4, 1, 1, 3, 1, 1, 2, 3, 2, 2, 1, 1, 2, 3, 2, 3, 1, 2, 2, 3, 1, 4, 1, 2, 2, 3, 2, 1, 4, 2, 3, 1, 4, 3, 3, 3, 2, 2, 1, 2, 3, 2, 1, 3, 3, 3, 2, 1, 2, 3, 2, 2, 1, 1, 2, 1, 1, 3, 3, 1, 4, 2, 3, 2, 2, 1, 2, 1, 1, 1, 1, 1, 1, 1, 1, 1, 1, 3, 4, 2, 2, 1, 3, 1, 2, 3, 4, 1, 1, 1, 1, 1, 2, 2, 3, 1, 1, 3, 2, 2, 1, 2, 1, 1, 3, 1, 1, 3, 1, 3, 1, 1, 1, 1, 1, 1, 2, 2, 2, 2, 1, 2, 2, 3, 2, 3, 4, 2, 3, 2, 1, 3, 1, 2, 3, 2, 3, 1, 4, 1, 2, 2, 2, 4, 2, 4, 2, 3, 3, 1, 4, 2, 2, 1, 3, 2, 2, 2, 4, 2, 2, 2, 2, 1, 1, 3, 4, 2, 4, 2, 1, 3, 1, 1, 4, 2, 2, 2, 4, 2, 2, 1, 2, 1, 2, 2, 1, 1, 1, 2, 3, 3, 3, 2, 1, 1, 2, 3, 2, 3, 1, 4, 1, 2, 3, 2, 1, 2, 3, 2, 4, 2, 3, 2, 3, 4, 1, 5, 2, 3, 2, 1, 3, 3, 2, 2, 1, 2, 2, 4, 2, 3, 1, 3, 2, 1, 5, 2, 6, 4, 2, 3, 2, 2, 2, 2, 2, 2, 3, 1, 2, 2, 2, 2, 1, 4, 3, 2, 2, 1, 1, 3, 2, 2, 3, 1, 2, 3, 1, 5, 2, 2, 1, 2, 2, 2, 1, 5, 2, 2, 2, 2, 1, 2, 5, 2, 2, 2, 2, 2, 1, 1, 3, 3, 3, 2, 2, 5, 2, 2, 2, 5, 3, 1, 2, 3, 2, 2, 4, 3, 1, 2, 1, 3, 2, 1, 3, 3, 1, 1, 3, 3, 2, 4, 8, 3, 3, 1, 5, 3, 4, 5, 2, 3, 3, 5, 3, 2, 2]\n",
            "Average Syllables Per Word: 2.198529411764706\n"
          ]
        }
      ]
    },
    {
      "cell_type": "markdown",
      "source": [
        "## Personal Pronouns"
      ],
      "metadata": {
        "id": "hWsE9-gNWJpb"
      }
    },
    {
      "cell_type": "markdown",
      "source": [
        "To calculate Personal Pronouns mentioned in the text, we use regex to find the counts of the words - `“I,” “we,” “my,” “ours,” and “us”`. Special care is taken so that the country name `US` is not included in the list."
      ],
      "metadata": {
        "id": "ivqTkKwwS9Zs"
      }
    },
    {
      "cell_type": "code",
      "source": [
        "import re\n",
        "pattern = r'\\b(?!(US\\b))([Ii]|[Ww]e|[Mm]y|[Oo]urs|[Uu]s)\\b'"
      ],
      "metadata": {
        "id": "IAC_64_2TLVZ"
      },
      "execution_count": null,
      "outputs": []
    },
    {
      "cell_type": "code",
      "source": [
        "### Calculate personal pronoun count\n",
        "personal_pronouns = re.findall(\n",
        "    pattern = pattern,\n",
        "    string = article\n",
        "    )\n",
        "personal_pronoun_count = len(personal_pronouns)"
      ],
      "metadata": {
        "id": "Zy_FtbD-WLzx"
      },
      "execution_count": 263,
      "outputs": []
    },
    {
      "cell_type": "code",
      "source": [
        "print(f\"personal_pronouns length: {personal_pronoun_count}\")"
      ],
      "metadata": {
        "id": "D0UdOcmXc-Pa",
        "colab": {
          "base_uri": "https://localhost:8080/"
        },
        "outputId": "4ade8fb5-e95d-4a12-9eec-0677e4fe8cf7"
      },
      "execution_count": 264,
      "outputs": [
        {
          "output_type": "stream",
          "name": "stdout",
          "text": [
            "personal_pronouns length: 4\n"
          ]
        }
      ]
    },
    {
      "cell_type": "markdown",
      "source": [
        "## Average Word Length"
      ],
      "metadata": {
        "id": "nFtVSiIjWOlc"
      }
    },
    {
      "cell_type": "markdown",
      "source": [
        "Average Word Length is calculated by the formula:\n",
        "```python\n",
        "Sum of the total number of characters in each word/Total number of words\n",
        "```"
      ],
      "metadata": {
        "id": "Kn-Inb7MSg55"
      }
    },
    {
      "cell_type": "code",
      "source": [
        "print([len(word) for word in words])"
      ],
      "metadata": {
        "colab": {
          "base_uri": "https://localhost:8080/"
        },
        "id": "KliWK7m3SssD",
        "outputId": "9197add5-3ca0-4f82-a7fe-9a1f3833cd3c"
      },
      "execution_count": null,
      "outputs": [
        {
          "output_type": "stream",
          "name": "stdout",
          "text": [
            "[3, 8, 2, 9, 7, 11, 1, 6, 1, 7, 2, 1, 4, 4, 2, 1, 4, 6, 8, 10, 7, 8, 2, 9, 7, 11, 1, 3, 8, 2, 9, 7, 11, 1, 2, 4, 9, 4, 2, 1, 4, 1, 5, 1, 5, 6, 3, 4, 1, 6, 8, 1, 1, 5, 6, 4, 6, 7, 1, 5, 8, 1, 6, 4, 8, 1, 3, 3, 7, 1, 6, 2, 5, 8, 7, 2, 3, 12, 1, 3, 4, 8, 6, 2, 5, 6, 4, 2, 7, 4, 2, 4, 3, 5, 2, 6, 2, 2, 6, 2, 1, 3, 4, 7, 7, 5, 3, 16, 2, 4, 1, 9, 2, 8, 5, 1, 2, 1, 2, 7, 3, 4, 4, 4, 7, 5, 6, 4, 2, 7, 1, 4, 5, 5, 4, 6, 5, 8, 1, 4, 8, 1, 6, 9, 1, 4, 1, 3, 4, 9, 5, 4, 3, 3, 2, 7, 1, 3, 6, 2, 6, 7, 2, 3, 3, 10, 3, 4, 1, 4, 1, 8, 7, 4, 4, 9, 2, 3, 10, 2, 7, 6, 8, 4, 5, 6, 6, 3, 4, 4, 7, 6, 1, 3, 7, 2, 3, 4, 3, 2, 7, 1, 5, 6, 6, 1, 5, 6, 2, 2, 4, 2, 2, 5, 2, 6, 5, 9, 3, 1, 6, 2, 3, 11, 3, 3, 3, 6, 4, 2, 8, 4, 3, 6, 6, 5, 2, 1, 4, 1, 2, 6, 3, 2, 5, 1, 1, 3, 5, 2, 6, 12, 4, 2, 8, 2, 4, 1, 1, 4, 4, 7, 6, 3, 9, 3, 3, 7, 15, 6, 1, 2, 5, 1, 3, 2, 5, 4, 2, 8, 6, 1, 3, 10, 4, 4, 2, 3, 9, 3, 3, 6, 5, 2, 4, 3, 2, 7, 1, 6, 2, 1, 6, 4, 2, 1, 8, 1, 1, 6, 4, 2, 1, 5, 1, 1, 5, 5, 2, 1, 3, 4, 3, 7, 3, 4, 3, 6, 4, 5, 1, 4, 7, 2, 6, 6, 8, 3, 4, 4, 9, 3, 7, 6, 3, 9, 1, 3, 7, 4, 7, 5, 3, 6, 5, 3, 4, 6, 7, 9, 2, 6, 12, 5, 1, 3, 5, 3, 4, 5, 9, 2, 4, 10, 2, 6, 6, 10, 1, 2, 3, 2, 3, 9, 2, 6, 3, 7, 3, 2, 2, 4, 1, 9, 2, 4, 5, 9, 1, 5, 3, 4, 2, 8, 2, 3, 8, 8, 2, 7, 7, 2, 4, 1, 3, 2, 7, 10, 3, 8, 3, 10, 2, 3, 6, 3, 4, 11, 4, 3, 1, 1, 1, 7, 8, 4, 7, 3, 9, 5, 1, 8, 5, 1, 6, 4, 8, 1, 6, 4, 4, 1, 4, 1, 3, 5, 8, 6, 1, 9, 7, 4, 5, 1, 4, 1, 4, 4, 4, 2, 3, 9, 5, 6, 2, 6, 1, 9, 1, 3, 1, 4, 6, 8, 4, 4, 6, 4, 4, 2, 4, 7, 6, 3, 5, 8, 7, 1, 8, 12, 3, 4, 11, 5, 6, 7, 4, 3, 9, 8, 2, 6, 3, 7, 2, 4, 1, 7, 4, 4, 4, 2, 8, 5, 5, 4, 6, 5, 3, 6, 7, 6, 2, 1, 9, 3, 4, 1, 6, 4, 4, 2, 3, 4, 12, 8, 4, 5, 3, 7, 7, 3, 4, 4, 3, 6, 1, 4, 3, 5, 8, 4, 1, 6, 2, 7, 2, 6, 4, 2, 4, 2, 4, 7, 8, 3, 6, 1, 4, 3, 4, 2, 3, 10, 2, 7, 7, 2, 3, 6, 1, 2, 3, 1, 2, 3, 3, 1, 3, 1, 7, 7, 1, 4, 1, 8, 6, 1, 5, 1, 2, 3, 4, 5, 4, 9, 1, 10, 2, 6, 4, 4, 1, 3, 4, 2, 3, 4, 2, 6, 3, 4, 1, 2, 3, 4, 6, 2, 1, 4, 4, 3, 11, 3, 7, 2, 5, 3, 4, 2, 4, 4, 1, 4, 5, 3, 11, 3, 7, 2, 3, 5, 8, 3, 4, 2, 4, 4, 1, 4, 1, 2, 2, 9, 2, 5, 3, 5, 2, 5, 8, 1, 1, 10, 4, 4, 5, 4, 4, 3, 5, 7, 10, 2, 5, 4, 5, 5, 3, 6, 4, 2, 7, 3, 4, 2, 8, 6, 2, 3, 3, 6, 2, 3, 4, 1, 11, 8, 2, 1, 8, 6, 1, 4, 3, 7, 2, 8, 1, 5, 1, 8, 19, 2, 11, 1, 6, 4, 1, 10, 1, 2, 3, 6, 11, 13, 2, 8, 8, 2, 7, 1, 8, 10, 4, 9]\n"
          ]
        }
      ]
    },
    {
      "cell_type": "code",
      "source": [
        "### Average Word Length\n",
        "total_characters = sum(len(word) for word in words)\n",
        "average_word_length = total_characters / len(words)"
      ],
      "metadata": {
        "id": "k7uTFOFZWSEd"
      },
      "execution_count": 265,
      "outputs": []
    },
    {
      "cell_type": "code",
      "source": [
        "print(\"average_word_length:\", average_word_length)"
      ],
      "metadata": {
        "id": "tz1gMeB3dI6m",
        "colab": {
          "base_uri": "https://localhost:8080/"
        },
        "outputId": "5bbd05d1-c11b-48a7-c399-12adeb95cb98"
      },
      "execution_count": 266,
      "outputs": [
        {
          "output_type": "stream",
          "name": "stdout",
          "text": [
            "average_word_length: 6.127450980392157\n"
          ]
        }
      ]
    },
    {
      "cell_type": "code",
      "source": [
        "# Print the results\n",
        "print(\"Average Sentence Length:\", average_sentence_length)\n",
        "print(\"Percentage of Complex Words:\", percentage_complex_words)\n",
        "print(\"Fog Index:\", fog_index)\n",
        "print(\"Average Words Per Sentence:\", average_words_per_sentence)\n",
        "print(\"Personal Pronoun Count:\", count_personal_pronouns)\n",
        "print(\"Average Word Length:\", average_word_length)"
      ],
      "metadata": {
        "id": "5QqqKN6nYVRU",
        "outputId": "489909dc-0ad1-4529-9e31-58818d8c84e9",
        "colab": {
          "base_uri": "https://localhost:8080/"
        }
      },
      "execution_count": 267,
      "outputs": [
        {
          "output_type": "stream",
          "name": "stdout",
          "text": [
            "Average Sentence Length: 12.0\n",
            "Percentage of Complex Words: 20.34313725490196\n",
            "Fog Index: 12.937254901960785\n",
            "Average Words Per Sentence: 22.235294117647058\n",
            "Personal Pronoun Count: 4\n",
            "Average Word Length: 6.127450980392157\n"
          ]
        }
      ]
    },
    {
      "cell_type": "markdown",
      "source": [
        "# Whole Text Analysis Code in One Place"
      ],
      "metadata": {
        "id": "tBYwjTe1WEqq"
      }
    },
    {
      "cell_type": "code",
      "source": [
        "# Create the result_dict and populate it with the calculated values\n",
        "result_dict = {}\n",
        "\n",
        "# Calculate the values\n",
        "# ...\n",
        "\n",
        "# Populate the result_dict with the calculated values\n",
        "result_dict[\"POSITIVE SCORE\"] = positive_score\n",
        "result_dict[\"NEGATIVE SCORE\"] = negative_score\n",
        "result_dict[\"POLARITY SCORE\"] = polarity_score\n",
        "result_dict[\"SUBJECTIVITY SCORE\"] = subjectivity_score\n",
        "result_dict[\"AVG SENTENCE LENGTH\"] = average_sentence_length\n",
        "result_dict[\"PERCENTAGE OF COMPLEX WORDS\"] = percentage_complex_words\n",
        "result_dict[\"FOG INDEX\"] = fog_index\n",
        "result_dict[\"AVG NUMBER OF WORDS PER SENTENCE\"] = average_words_per_sentence\n",
        "result_dict[\"COMPLEX WORD COUNT\"] = complex_word_count\n",
        "result_dict[\"WORD COUNT\"] = total_word_count\n",
        "result_dict[\"SYLLABLE PER WORD\"] = average_syllables_per_word\n",
        "result_dict[\"PERSONAL PRONOUNS\"] = personal_pronoun_count\n",
        "result_dict[\"AVG WORD LENGTH\"] = average_word_length\n",
        "\n",
        "# Print the result_dict\n",
        "for key, value in result_dict.items():\n",
        "    print(f\"{key}: {value}\")"
      ],
      "metadata": {
        "id": "tTh59rGpZAtP"
      },
      "execution_count": null,
      "outputs": []
    },
    {
      "cell_type": "code",
      "source": [
        "import nltk\n",
        "from nltk.tokenize import word_tokenize\n",
        "from nltk.corpus import stopwords\n",
        "from nltk.corpus import cmudict\n",
        "\n",
        "nltk.download('punkt')\n",
        "nltk.download('stopwords')\n",
        "nltk.download('cmudict')\n",
        "cumdict = cmudict.dict()\n",
        "\n",
        "articles = extracted_files"
      ],
      "metadata": {
        "colab": {
          "base_uri": "https://localhost:8080/"
        },
        "id": "q93htPtsbSks",
        "outputId": "1041d18f-e391-458f-d725-15818147f4f5"
      },
      "execution_count": 272,
      "outputs": [
        {
          "output_type": "stream",
          "name": "stderr",
          "text": [
            "[nltk_data] Downloading package punkt to /root/nltk_data...\n",
            "[nltk_data]   Package punkt is already up-to-date!\n",
            "[nltk_data] Downloading package stopwords to /root/nltk_data...\n",
            "[nltk_data]   Package stopwords is already up-to-date!\n",
            "[nltk_data] Downloading package cmudict to /root/nltk_data...\n",
            "[nltk_data]   Package cmudict is already up-to-date!\n"
          ]
        }
      ]
    },
    {
      "cell_type": "code",
      "source": [
        "for article_file in articles:\n",
        "  with open(file = article_file, mode = 'r') as f:\n",
        "    article = f.read()\n",
        "    result_dict = {}\n",
        "\n",
        "    url_id = str(article_file).split(\"/\")[-1]\n",
        "\n",
        "    # Tokenize the text\n",
        "    tokens = word_tokenize(article)\n",
        "    tokens = [token.lower() for token in tokens]\n",
        "\n",
        "    english_stop_words = set(stopwords.words('english'))\n",
        "    english_stop_words = set(word.lower() for word in english_stop_words)\n",
        "\n",
        "    # Define a set of punctuation characters to remove\n",
        "    punctuation = set(string.punctuation)\n",
        "    punctuation = set(word.lower() for word in punctuation)\n",
        "\n",
        "    # Clean the tokens by removing stop words\n",
        "    filtered_tokens = list()\n",
        "    for word in tokens:\n",
        "        if (word not in english_stop_words) and (word not in custom_stopwords) and (word not in punctuation):\n",
        "            filtered_tokens.append(word)\n",
        "\n",
        "    # Positive and Negative Score\n",
        "    positive_score = 0\n",
        "    negative_score = 0\n",
        "\n",
        "    # Calculate the positive and negative scores\n",
        "    for word in filtered_tokens:\n",
        "        if word in positive_words:\n",
        "            positive_score += 1\n",
        "        if word in negative_words:\n",
        "            negative_score += 1\n",
        "    output_df.loc[url_id,\"POSITIVE SCORE\"] = positive_score\n",
        "    output_df.loc[url_id,\"NEGATIVE SCORE\"] = negative_score\n",
        "\n",
        "    # Sentiment, Polarity and Subjectivity score\n",
        "    polarity_score = (positive_score - negative_score) / (positive_score + negative_score + 0.000001)\n",
        "    subjectivity_score = (positive_score + negative_score) / (len(filtered_tokens) + 0.000001)\n",
        "\n",
        "    output_df.loc[url_id,\"POLARITY SCORE\"] = polarity_score\n",
        "    output_df.loc[url_id,\"SUBJECTIVITY SCORE\"] = subjectivity_score\n",
        "\n",
        "    # Determine the sentiment\n",
        "    if polarity_score > 0:\n",
        "        sentiment = \"Positive\"\n",
        "    elif polarity_score < 0:\n",
        "        sentiment = \"Negative\"\n",
        "    else:\n",
        "        sentiment = \"Neutral\"\n",
        "\n",
        "    ### Average Sentence Length\n",
        "    sentences = nltk.sent_tokenize(article)\n",
        "    words = filtered_tokens\n",
        "    average_sentence_length = len(words) / len(sentences)\n",
        "\n",
        "    output_df.loc[url_id,\"AVG SENTENCE LENGTH\"] = average_sentence_length\n",
        "\n",
        "    ### Percentage of Complex Words\n",
        "    def syllable_count(word):\n",
        "        if word.lower() in d:\n",
        "            return max([len(list(y for y in x if y[-1].isdigit())) for x in cumdict[word.lower()]])\n",
        "        else:\n",
        "            return 0\n",
        "\n",
        "    words = filtered_tokens\n",
        "    complex_word_count = sum(1 for word in words if syllable_count(word) > 2)\n",
        "    percentage_complex_words = (complex_word_count / len(words)) * 100\n",
        "\n",
        "    output_df.loc[url_id,\"PERCENTAGE OF COMPLEX WORDS\"] = percentage_complex_words\n",
        "\n",
        "    # Fog Index\n",
        "    fog_index = 0.4 * (average_sentence_length + percentage_complex_words)\n",
        "\n",
        "    output_df.loc[url_id,\"FOG INDEX\"] = fog_index\n",
        "\n",
        "    # Average Number of Words Per Sentence\n",
        "    average_words_per_sentence = len(words) / len(sentences)\n",
        "\n",
        "    output_df.loc[url_id,\"AVG NUMBER OF WORDS PER SENTENCE\"] = average_words_per_sentence\n",
        "\n",
        "    # Complex Word Count\n",
        "    complex_word_count = sum(1 for word in words if syllable_count(word) > 2)\n",
        "\n",
        "    output_df.loc[url_id,\"COMPLEX WORD COUNT\"] = complex_word_count\n",
        "\n",
        "    # Total Word Count\n",
        "    total_word_count = len([\n",
        "        word for word in words if word not in custom_stopwords and word not in english_stop_words and not all(char in string.punctuation for char in word)\n",
        "        ])\n",
        "\n",
        "    output_df.loc[url_id,\"WORD COUNT\"] = total_word_count\n",
        "\n",
        "    # Syllable Count Per Word\n",
        "    def count_syllables(word):\n",
        "        exceptions = [\"es\", \"ed\"]\n",
        "        for ending in exceptions:\n",
        "            if word.endswith(ending):\n",
        "                word = word[:-len(ending)]\n",
        "\n",
        "        vowels = \"aeiouAEIOU\"\n",
        "        syllable_count = sum(1 for char in word if char in vowels)\n",
        "        return max(1, syllable_count)\n",
        "\n",
        "    syllables_per_word = [count_syllables(word) for word in words]\n",
        "    average_syllables_per_word = sum(syllables_per_word) / len(words)\n",
        "\n",
        "    output_df.loc[url_id,\"SYLLABLE PER WORD\"] = average_syllables_per_word\n",
        "\n",
        "    # Calculate personal pronoun count\n",
        "    personal_pronouns = re.findall(\n",
        "        pattern = pattern,\n",
        "        string = article\n",
        "        )\n",
        "    personal_pronoun_count = len(personal_pronouns)\n",
        "\n",
        "    output_df.loc[url_id,\"PERSONAL PRONOUNS\"] = personal_pronoun_count\n",
        "\n",
        "    ### Average Word Length\n",
        "    total_characters = sum(len(word) for word in words)\n",
        "    average_word_length = total_characters / len(words)\n",
        "\n",
        "    output_df.loc[url_id,\"AVG WORD LENGTH\"] = average_word_length\n"
      ],
      "metadata": {
        "id": "3MHJ7DmWX9Zc"
      },
      "execution_count": 319,
      "outputs": []
    },
    {
      "cell_type": "code",
      "source": [
        "output_df"
      ],
      "metadata": {
        "colab": {
          "base_uri": "https://localhost:8080/",
          "height": 718
        },
        "id": "aqHcEZOVkRcT",
        "outputId": "ae7148f9-2536-4633-cd3d-945cbbadf11c"
      },
      "execution_count": 320,
      "outputs": [
        {
          "output_type": "execute_result",
          "data": {
            "text/plain": [
              "              URL_ID                                                URL  \\\n",
              "file_name                                                                 \n",
              "123.0.txt      123.0  https://insights.blackcoffer.com/rise-of-telem...   \n",
              "321.0.txt      321.0  https://insights.blackcoffer.com/rise-of-e-hea...   \n",
              "2345.0.txt    2345.0  https://insights.blackcoffer.com/rise-of-e-hea...   \n",
              "4321.0.txt    4321.0  https://insights.blackcoffer.com/rise-of-telem...   \n",
              "432.0.txt      432.0  https://insights.blackcoffer.com/rise-of-telem...   \n",
              "...              ...                                                ...   \n",
              "50921.0.txt  50921.0  https://insights.blackcoffer.com/coronavirus-i...   \n",
              "51382.8.txt  51382.8  https://insights.blackcoffer.com/coronavirus-i...   \n",
              "51844.6.txt  51844.6  https://insights.blackcoffer.com/what-are-the-...   \n",
              "52306.4.txt  52306.4  https://insights.blackcoffer.com/marketing-dri...   \n",
              "52768.2.txt  52768.2  https://insights.blackcoffer.com/continued-dem...   \n",
              "\n",
              "             POSITIVE SCORE  NEGATIVE SCORE  POLARITY SCORE  \\\n",
              "file_name                                                     \n",
              "123.0.txt              88.0            24.0        0.571429   \n",
              "321.0.txt              41.0            13.0        0.518519   \n",
              "2345.0.txt             26.0            27.0       -0.018868   \n",
              "4321.0.txt             44.0            27.0        0.239437   \n",
              "432.0.txt              44.0            27.0        0.239437   \n",
              "...                     ...             ...             ...   \n",
              "50921.0.txt             8.0            29.0       -0.567568   \n",
              "51382.8.txt            27.0            66.0       -0.419355   \n",
              "51844.6.txt           101.0            33.0        0.507463   \n",
              "52306.4.txt            35.0            22.0        0.228070   \n",
              "52768.2.txt            58.0            34.0        0.260870   \n",
              "\n",
              "             SUBJECTIVITY SCORE  AVG SENTENCE LENGTH  \\\n",
              "file_name                                              \n",
              "123.0.txt              0.110563            12.662500   \n",
              "321.0.txt              0.156977            13.760000   \n",
              "2345.0.txt             0.076479            10.043478   \n",
              "4321.0.txt             0.091377            12.950000   \n",
              "432.0.txt              0.091377            12.950000   \n",
              "...                         ...                  ...   \n",
              "50921.0.txt            0.082774            14.900000   \n",
              "51382.8.txt            0.082667            22.500000   \n",
              "51844.6.txt            0.126534            14.915493   \n",
              "52306.4.txt            0.071161            13.576271   \n",
              "52768.2.txt            0.145800            15.390244   \n",
              "\n",
              "             PERCENTAGE OF COMPLEX WORDS  FOG INDEX  \\\n",
              "file_name                                             \n",
              "123.0.txt                      37.018756  19.872502   \n",
              "321.0.txt                      39.534884  21.317953   \n",
              "2345.0.txt                     32.756133  17.119844   \n",
              "4321.0.txt                     34.877735  19.131094   \n",
              "432.0.txt                      34.877735  19.131094   \n",
              "...                                  ...        ...   \n",
              "50921.0.txt                    28.859060  17.503624   \n",
              "51382.8.txt                    23.466667  18.386667   \n",
              "51844.6.txt                    30.878187  18.317472   \n",
              "52306.4.txt                    29.463171  17.215777   \n",
              "52768.2.txt                    45.324881  24.286050   \n",
              "\n",
              "             AVG NUMBER OF WORDS PER SENTENCE  COMPLEX WORD COUNT  WORD COUNT  \\\n",
              "file_name                                                                       \n",
              "123.0.txt                           12.662500               375.0      1013.0   \n",
              "321.0.txt                           13.760000               136.0       344.0   \n",
              "2345.0.txt                          10.043478               227.0       693.0   \n",
              "4321.0.txt                          12.950000               271.0       777.0   \n",
              "432.0.txt                           12.950000               271.0       777.0   \n",
              "...                                       ...                 ...         ...   \n",
              "50921.0.txt                         14.900000               129.0       447.0   \n",
              "51382.8.txt                         22.500000               264.0      1125.0   \n",
              "51844.6.txt                         14.915493               327.0      1059.0   \n",
              "52306.4.txt                         13.576271               236.0       801.0   \n",
              "52768.2.txt                         15.390244               286.0       631.0   \n",
              "\n",
              "             SYLLABLE PER WORD  PERSONAL PRONOUNS  AVG WORD LENGTH  \\\n",
              "file_name                                                            \n",
              "123.0.txt             2.880553                2.0         7.360316   \n",
              "321.0.txt             2.915698                3.0         7.595930   \n",
              "2345.0.txt            2.548341                4.0         6.992785   \n",
              "4321.0.txt            2.584299                7.0         7.038610   \n",
              "432.0.txt             2.584299                7.0         7.038610   \n",
              "...                        ...                ...              ...   \n",
              "50921.0.txt           2.387025                1.0         6.590604   \n",
              "51382.8.txt           2.378667                3.0         6.352889   \n",
              "51844.6.txt           2.472144                0.0         6.813975   \n",
              "52306.4.txt           2.483146                8.0         6.756554   \n",
              "52768.2.txt           2.779715                0.0         7.519810   \n",
              "\n",
              "               file_name  \n",
              "file_name                 \n",
              "123.0.txt      123.0.txt  \n",
              "321.0.txt      321.0.txt  \n",
              "2345.0.txt    2345.0.txt  \n",
              "4321.0.txt    4321.0.txt  \n",
              "432.0.txt      432.0.txt  \n",
              "...                  ...  \n",
              "50921.0.txt  50921.0.txt  \n",
              "51382.8.txt  51382.8.txt  \n",
              "51844.6.txt  51844.6.txt  \n",
              "52306.4.txt  52306.4.txt  \n",
              "52768.2.txt  52768.2.txt  \n",
              "\n",
              "[114 rows x 16 columns]"
            ],
            "text/html": [
              "\n",
              "  <div id=\"df-3e0125ea-44b1-412d-9673-c67dfc7e24da\" class=\"colab-df-container\">\n",
              "    <div>\n",
              "<style scoped>\n",
              "    .dataframe tbody tr th:only-of-type {\n",
              "        vertical-align: middle;\n",
              "    }\n",
              "\n",
              "    .dataframe tbody tr th {\n",
              "        vertical-align: top;\n",
              "    }\n",
              "\n",
              "    .dataframe thead th {\n",
              "        text-align: right;\n",
              "    }\n",
              "</style>\n",
              "<table border=\"1\" class=\"dataframe\">\n",
              "  <thead>\n",
              "    <tr style=\"text-align: right;\">\n",
              "      <th></th>\n",
              "      <th>URL_ID</th>\n",
              "      <th>URL</th>\n",
              "      <th>POSITIVE SCORE</th>\n",
              "      <th>NEGATIVE SCORE</th>\n",
              "      <th>POLARITY SCORE</th>\n",
              "      <th>SUBJECTIVITY SCORE</th>\n",
              "      <th>AVG SENTENCE LENGTH</th>\n",
              "      <th>PERCENTAGE OF COMPLEX WORDS</th>\n",
              "      <th>FOG INDEX</th>\n",
              "      <th>AVG NUMBER OF WORDS PER SENTENCE</th>\n",
              "      <th>COMPLEX WORD COUNT</th>\n",
              "      <th>WORD COUNT</th>\n",
              "      <th>SYLLABLE PER WORD</th>\n",
              "      <th>PERSONAL PRONOUNS</th>\n",
              "      <th>AVG WORD LENGTH</th>\n",
              "      <th>file_name</th>\n",
              "    </tr>\n",
              "    <tr>\n",
              "      <th>file_name</th>\n",
              "      <th></th>\n",
              "      <th></th>\n",
              "      <th></th>\n",
              "      <th></th>\n",
              "      <th></th>\n",
              "      <th></th>\n",
              "      <th></th>\n",
              "      <th></th>\n",
              "      <th></th>\n",
              "      <th></th>\n",
              "      <th></th>\n",
              "      <th></th>\n",
              "      <th></th>\n",
              "      <th></th>\n",
              "      <th></th>\n",
              "      <th></th>\n",
              "    </tr>\n",
              "  </thead>\n",
              "  <tbody>\n",
              "    <tr>\n",
              "      <th>123.0.txt</th>\n",
              "      <td>123.0</td>\n",
              "      <td>https://insights.blackcoffer.com/rise-of-telem...</td>\n",
              "      <td>88.0</td>\n",
              "      <td>24.0</td>\n",
              "      <td>0.571429</td>\n",
              "      <td>0.110563</td>\n",
              "      <td>12.662500</td>\n",
              "      <td>37.018756</td>\n",
              "      <td>19.872502</td>\n",
              "      <td>12.662500</td>\n",
              "      <td>375.0</td>\n",
              "      <td>1013.0</td>\n",
              "      <td>2.880553</td>\n",
              "      <td>2.0</td>\n",
              "      <td>7.360316</td>\n",
              "      <td>123.0.txt</td>\n",
              "    </tr>\n",
              "    <tr>\n",
              "      <th>321.0.txt</th>\n",
              "      <td>321.0</td>\n",
              "      <td>https://insights.blackcoffer.com/rise-of-e-hea...</td>\n",
              "      <td>41.0</td>\n",
              "      <td>13.0</td>\n",
              "      <td>0.518519</td>\n",
              "      <td>0.156977</td>\n",
              "      <td>13.760000</td>\n",
              "      <td>39.534884</td>\n",
              "      <td>21.317953</td>\n",
              "      <td>13.760000</td>\n",
              "      <td>136.0</td>\n",
              "      <td>344.0</td>\n",
              "      <td>2.915698</td>\n",
              "      <td>3.0</td>\n",
              "      <td>7.595930</td>\n",
              "      <td>321.0.txt</td>\n",
              "    </tr>\n",
              "    <tr>\n",
              "      <th>2345.0.txt</th>\n",
              "      <td>2345.0</td>\n",
              "      <td>https://insights.blackcoffer.com/rise-of-e-hea...</td>\n",
              "      <td>26.0</td>\n",
              "      <td>27.0</td>\n",
              "      <td>-0.018868</td>\n",
              "      <td>0.076479</td>\n",
              "      <td>10.043478</td>\n",
              "      <td>32.756133</td>\n",
              "      <td>17.119844</td>\n",
              "      <td>10.043478</td>\n",
              "      <td>227.0</td>\n",
              "      <td>693.0</td>\n",
              "      <td>2.548341</td>\n",
              "      <td>4.0</td>\n",
              "      <td>6.992785</td>\n",
              "      <td>2345.0.txt</td>\n",
              "    </tr>\n",
              "    <tr>\n",
              "      <th>4321.0.txt</th>\n",
              "      <td>4321.0</td>\n",
              "      <td>https://insights.blackcoffer.com/rise-of-telem...</td>\n",
              "      <td>44.0</td>\n",
              "      <td>27.0</td>\n",
              "      <td>0.239437</td>\n",
              "      <td>0.091377</td>\n",
              "      <td>12.950000</td>\n",
              "      <td>34.877735</td>\n",
              "      <td>19.131094</td>\n",
              "      <td>12.950000</td>\n",
              "      <td>271.0</td>\n",
              "      <td>777.0</td>\n",
              "      <td>2.584299</td>\n",
              "      <td>7.0</td>\n",
              "      <td>7.038610</td>\n",
              "      <td>4321.0.txt</td>\n",
              "    </tr>\n",
              "    <tr>\n",
              "      <th>432.0.txt</th>\n",
              "      <td>432.0</td>\n",
              "      <td>https://insights.blackcoffer.com/rise-of-telem...</td>\n",
              "      <td>44.0</td>\n",
              "      <td>27.0</td>\n",
              "      <td>0.239437</td>\n",
              "      <td>0.091377</td>\n",
              "      <td>12.950000</td>\n",
              "      <td>34.877735</td>\n",
              "      <td>19.131094</td>\n",
              "      <td>12.950000</td>\n",
              "      <td>271.0</td>\n",
              "      <td>777.0</td>\n",
              "      <td>2.584299</td>\n",
              "      <td>7.0</td>\n",
              "      <td>7.038610</td>\n",
              "      <td>432.0.txt</td>\n",
              "    </tr>\n",
              "    <tr>\n",
              "      <th>...</th>\n",
              "      <td>...</td>\n",
              "      <td>...</td>\n",
              "      <td>...</td>\n",
              "      <td>...</td>\n",
              "      <td>...</td>\n",
              "      <td>...</td>\n",
              "      <td>...</td>\n",
              "      <td>...</td>\n",
              "      <td>...</td>\n",
              "      <td>...</td>\n",
              "      <td>...</td>\n",
              "      <td>...</td>\n",
              "      <td>...</td>\n",
              "      <td>...</td>\n",
              "      <td>...</td>\n",
              "      <td>...</td>\n",
              "    </tr>\n",
              "    <tr>\n",
              "      <th>50921.0.txt</th>\n",
              "      <td>50921.0</td>\n",
              "      <td>https://insights.blackcoffer.com/coronavirus-i...</td>\n",
              "      <td>8.0</td>\n",
              "      <td>29.0</td>\n",
              "      <td>-0.567568</td>\n",
              "      <td>0.082774</td>\n",
              "      <td>14.900000</td>\n",
              "      <td>28.859060</td>\n",
              "      <td>17.503624</td>\n",
              "      <td>14.900000</td>\n",
              "      <td>129.0</td>\n",
              "      <td>447.0</td>\n",
              "      <td>2.387025</td>\n",
              "      <td>1.0</td>\n",
              "      <td>6.590604</td>\n",
              "      <td>50921.0.txt</td>\n",
              "    </tr>\n",
              "    <tr>\n",
              "      <th>51382.8.txt</th>\n",
              "      <td>51382.8</td>\n",
              "      <td>https://insights.blackcoffer.com/coronavirus-i...</td>\n",
              "      <td>27.0</td>\n",
              "      <td>66.0</td>\n",
              "      <td>-0.419355</td>\n",
              "      <td>0.082667</td>\n",
              "      <td>22.500000</td>\n",
              "      <td>23.466667</td>\n",
              "      <td>18.386667</td>\n",
              "      <td>22.500000</td>\n",
              "      <td>264.0</td>\n",
              "      <td>1125.0</td>\n",
              "      <td>2.378667</td>\n",
              "      <td>3.0</td>\n",
              "      <td>6.352889</td>\n",
              "      <td>51382.8.txt</td>\n",
              "    </tr>\n",
              "    <tr>\n",
              "      <th>51844.6.txt</th>\n",
              "      <td>51844.6</td>\n",
              "      <td>https://insights.blackcoffer.com/what-are-the-...</td>\n",
              "      <td>101.0</td>\n",
              "      <td>33.0</td>\n",
              "      <td>0.507463</td>\n",
              "      <td>0.126534</td>\n",
              "      <td>14.915493</td>\n",
              "      <td>30.878187</td>\n",
              "      <td>18.317472</td>\n",
              "      <td>14.915493</td>\n",
              "      <td>327.0</td>\n",
              "      <td>1059.0</td>\n",
              "      <td>2.472144</td>\n",
              "      <td>0.0</td>\n",
              "      <td>6.813975</td>\n",
              "      <td>51844.6.txt</td>\n",
              "    </tr>\n",
              "    <tr>\n",
              "      <th>52306.4.txt</th>\n",
              "      <td>52306.4</td>\n",
              "      <td>https://insights.blackcoffer.com/marketing-dri...</td>\n",
              "      <td>35.0</td>\n",
              "      <td>22.0</td>\n",
              "      <td>0.228070</td>\n",
              "      <td>0.071161</td>\n",
              "      <td>13.576271</td>\n",
              "      <td>29.463171</td>\n",
              "      <td>17.215777</td>\n",
              "      <td>13.576271</td>\n",
              "      <td>236.0</td>\n",
              "      <td>801.0</td>\n",
              "      <td>2.483146</td>\n",
              "      <td>8.0</td>\n",
              "      <td>6.756554</td>\n",
              "      <td>52306.4.txt</td>\n",
              "    </tr>\n",
              "    <tr>\n",
              "      <th>52768.2.txt</th>\n",
              "      <td>52768.2</td>\n",
              "      <td>https://insights.blackcoffer.com/continued-dem...</td>\n",
              "      <td>58.0</td>\n",
              "      <td>34.0</td>\n",
              "      <td>0.260870</td>\n",
              "      <td>0.145800</td>\n",
              "      <td>15.390244</td>\n",
              "      <td>45.324881</td>\n",
              "      <td>24.286050</td>\n",
              "      <td>15.390244</td>\n",
              "      <td>286.0</td>\n",
              "      <td>631.0</td>\n",
              "      <td>2.779715</td>\n",
              "      <td>0.0</td>\n",
              "      <td>7.519810</td>\n",
              "      <td>52768.2.txt</td>\n",
              "    </tr>\n",
              "  </tbody>\n",
              "</table>\n",
              "<p>114 rows × 16 columns</p>\n",
              "</div>\n",
              "    <div class=\"colab-df-buttons\">\n",
              "\n",
              "  <div class=\"colab-df-container\">\n",
              "    <button class=\"colab-df-convert\" onclick=\"convertToInteractive('df-3e0125ea-44b1-412d-9673-c67dfc7e24da')\"\n",
              "            title=\"Convert this dataframe to an interactive table.\"\n",
              "            style=\"display:none;\">\n",
              "\n",
              "  <svg xmlns=\"http://www.w3.org/2000/svg\" height=\"24px\" viewBox=\"0 -960 960 960\">\n",
              "    <path d=\"M120-120v-720h720v720H120Zm60-500h600v-160H180v160Zm220 220h160v-160H400v160Zm0 220h160v-160H400v160ZM180-400h160v-160H180v160Zm440 0h160v-160H620v160ZM180-180h160v-160H180v160Zm440 0h160v-160H620v160Z\"/>\n",
              "  </svg>\n",
              "    </button>\n",
              "\n",
              "  <style>\n",
              "    .colab-df-container {\n",
              "      display:flex;\n",
              "      gap: 12px;\n",
              "    }\n",
              "\n",
              "    .colab-df-convert {\n",
              "      background-color: #E8F0FE;\n",
              "      border: none;\n",
              "      border-radius: 50%;\n",
              "      cursor: pointer;\n",
              "      display: none;\n",
              "      fill: #1967D2;\n",
              "      height: 32px;\n",
              "      padding: 0 0 0 0;\n",
              "      width: 32px;\n",
              "    }\n",
              "\n",
              "    .colab-df-convert:hover {\n",
              "      background-color: #E2EBFA;\n",
              "      box-shadow: 0px 1px 2px rgba(60, 64, 67, 0.3), 0px 1px 3px 1px rgba(60, 64, 67, 0.15);\n",
              "      fill: #174EA6;\n",
              "    }\n",
              "\n",
              "    .colab-df-buttons div {\n",
              "      margin-bottom: 4px;\n",
              "    }\n",
              "\n",
              "    [theme=dark] .colab-df-convert {\n",
              "      background-color: #3B4455;\n",
              "      fill: #D2E3FC;\n",
              "    }\n",
              "\n",
              "    [theme=dark] .colab-df-convert:hover {\n",
              "      background-color: #434B5C;\n",
              "      box-shadow: 0px 1px 3px 1px rgba(0, 0, 0, 0.15);\n",
              "      filter: drop-shadow(0px 1px 2px rgba(0, 0, 0, 0.3));\n",
              "      fill: #FFFFFF;\n",
              "    }\n",
              "  </style>\n",
              "\n",
              "    <script>\n",
              "      const buttonEl =\n",
              "        document.querySelector('#df-3e0125ea-44b1-412d-9673-c67dfc7e24da button.colab-df-convert');\n",
              "      buttonEl.style.display =\n",
              "        google.colab.kernel.accessAllowed ? 'block' : 'none';\n",
              "\n",
              "      async function convertToInteractive(key) {\n",
              "        const element = document.querySelector('#df-3e0125ea-44b1-412d-9673-c67dfc7e24da');\n",
              "        const dataTable =\n",
              "          await google.colab.kernel.invokeFunction('convertToInteractive',\n",
              "                                                    [key], {});\n",
              "        if (!dataTable) return;\n",
              "\n",
              "        const docLinkHtml = 'Like what you see? Visit the ' +\n",
              "          '<a target=\"_blank\" href=https://colab.research.google.com/notebooks/data_table.ipynb>data table notebook</a>'\n",
              "          + ' to learn more about interactive tables.';\n",
              "        element.innerHTML = '';\n",
              "        dataTable['output_type'] = 'display_data';\n",
              "        await google.colab.output.renderOutput(dataTable, element);\n",
              "        const docLink = document.createElement('div');\n",
              "        docLink.innerHTML = docLinkHtml;\n",
              "        element.appendChild(docLink);\n",
              "      }\n",
              "    </script>\n",
              "  </div>\n",
              "\n",
              "\n",
              "<div id=\"df-f65438be-9161-414b-9f11-49a97470879a\">\n",
              "  <button class=\"colab-df-quickchart\" onclick=\"quickchart('df-f65438be-9161-414b-9f11-49a97470879a')\"\n",
              "            title=\"Suggest charts.\"\n",
              "            style=\"display:none;\">\n",
              "\n",
              "<svg xmlns=\"http://www.w3.org/2000/svg\" height=\"24px\"viewBox=\"0 0 24 24\"\n",
              "     width=\"24px\">\n",
              "    <g>\n",
              "        <path d=\"M19 3H5c-1.1 0-2 .9-2 2v14c0 1.1.9 2 2 2h14c1.1 0 2-.9 2-2V5c0-1.1-.9-2-2-2zM9 17H7v-7h2v7zm4 0h-2V7h2v10zm4 0h-2v-4h2v4z\"/>\n",
              "    </g>\n",
              "</svg>\n",
              "  </button>\n",
              "\n",
              "<style>\n",
              "  .colab-df-quickchart {\n",
              "      --bg-color: #E8F0FE;\n",
              "      --fill-color: #1967D2;\n",
              "      --hover-bg-color: #E2EBFA;\n",
              "      --hover-fill-color: #174EA6;\n",
              "      --disabled-fill-color: #AAA;\n",
              "      --disabled-bg-color: #DDD;\n",
              "  }\n",
              "\n",
              "  [theme=dark] .colab-df-quickchart {\n",
              "      --bg-color: #3B4455;\n",
              "      --fill-color: #D2E3FC;\n",
              "      --hover-bg-color: #434B5C;\n",
              "      --hover-fill-color: #FFFFFF;\n",
              "      --disabled-bg-color: #3B4455;\n",
              "      --disabled-fill-color: #666;\n",
              "  }\n",
              "\n",
              "  .colab-df-quickchart {\n",
              "    background-color: var(--bg-color);\n",
              "    border: none;\n",
              "    border-radius: 50%;\n",
              "    cursor: pointer;\n",
              "    display: none;\n",
              "    fill: var(--fill-color);\n",
              "    height: 32px;\n",
              "    padding: 0;\n",
              "    width: 32px;\n",
              "  }\n",
              "\n",
              "  .colab-df-quickchart:hover {\n",
              "    background-color: var(--hover-bg-color);\n",
              "    box-shadow: 0 1px 2px rgba(60, 64, 67, 0.3), 0 1px 3px 1px rgba(60, 64, 67, 0.15);\n",
              "    fill: var(--button-hover-fill-color);\n",
              "  }\n",
              "\n",
              "  .colab-df-quickchart-complete:disabled,\n",
              "  .colab-df-quickchart-complete:disabled:hover {\n",
              "    background-color: var(--disabled-bg-color);\n",
              "    fill: var(--disabled-fill-color);\n",
              "    box-shadow: none;\n",
              "  }\n",
              "\n",
              "  .colab-df-spinner {\n",
              "    border: 2px solid var(--fill-color);\n",
              "    border-color: transparent;\n",
              "    border-bottom-color: var(--fill-color);\n",
              "    animation:\n",
              "      spin 1s steps(1) infinite;\n",
              "  }\n",
              "\n",
              "  @keyframes spin {\n",
              "    0% {\n",
              "      border-color: transparent;\n",
              "      border-bottom-color: var(--fill-color);\n",
              "      border-left-color: var(--fill-color);\n",
              "    }\n",
              "    20% {\n",
              "      border-color: transparent;\n",
              "      border-left-color: var(--fill-color);\n",
              "      border-top-color: var(--fill-color);\n",
              "    }\n",
              "    30% {\n",
              "      border-color: transparent;\n",
              "      border-left-color: var(--fill-color);\n",
              "      border-top-color: var(--fill-color);\n",
              "      border-right-color: var(--fill-color);\n",
              "    }\n",
              "    40% {\n",
              "      border-color: transparent;\n",
              "      border-right-color: var(--fill-color);\n",
              "      border-top-color: var(--fill-color);\n",
              "    }\n",
              "    60% {\n",
              "      border-color: transparent;\n",
              "      border-right-color: var(--fill-color);\n",
              "    }\n",
              "    80% {\n",
              "      border-color: transparent;\n",
              "      border-right-color: var(--fill-color);\n",
              "      border-bottom-color: var(--fill-color);\n",
              "    }\n",
              "    90% {\n",
              "      border-color: transparent;\n",
              "      border-bottom-color: var(--fill-color);\n",
              "    }\n",
              "  }\n",
              "</style>\n",
              "\n",
              "  <script>\n",
              "    async function quickchart(key) {\n",
              "      const quickchartButtonEl =\n",
              "        document.querySelector('#' + key + ' button');\n",
              "      quickchartButtonEl.disabled = true;  // To prevent multiple clicks.\n",
              "      quickchartButtonEl.classList.add('colab-df-spinner');\n",
              "      try {\n",
              "        const charts = await google.colab.kernel.invokeFunction(\n",
              "            'suggestCharts', [key], {});\n",
              "      } catch (error) {\n",
              "        console.error('Error during call to suggestCharts:', error);\n",
              "      }\n",
              "      quickchartButtonEl.classList.remove('colab-df-spinner');\n",
              "      quickchartButtonEl.classList.add('colab-df-quickchart-complete');\n",
              "    }\n",
              "    (() => {\n",
              "      let quickchartButtonEl =\n",
              "        document.querySelector('#df-f65438be-9161-414b-9f11-49a97470879a button');\n",
              "      quickchartButtonEl.style.display =\n",
              "        google.colab.kernel.accessAllowed ? 'block' : 'none';\n",
              "    })();\n",
              "  </script>\n",
              "</div>\n",
              "    </div>\n",
              "  </div>\n"
            ]
          },
          "metadata": {},
          "execution_count": 320
        }
      ]
    },
    {
      "cell_type": "code",
      "source": [
        "output_df.to_excel(\"output.xlsx\", index=False)"
      ],
      "metadata": {
        "id": "iUtv9oyvg6fm"
      },
      "execution_count": 321,
      "outputs": []
    },
    {
      "cell_type": "code",
      "source": [],
      "metadata": {
        "id": "AB-Ble3NaNuK"
      },
      "execution_count": 321,
      "outputs": []
    },
    {
      "cell_type": "code",
      "source": [],
      "metadata": {
        "id": "Mw2ZVsxbbl4l"
      },
      "execution_count": 321,
      "outputs": []
    },
    {
      "cell_type": "code",
      "source": [],
      "metadata": {
        "id": "zh6VJos_boFs"
      },
      "execution_count": 321,
      "outputs": []
    },
    {
      "cell_type": "code",
      "source": [],
      "metadata": {
        "id": "pc4VLPcLcj6l"
      },
      "execution_count": 321,
      "outputs": []
    }
  ]
}